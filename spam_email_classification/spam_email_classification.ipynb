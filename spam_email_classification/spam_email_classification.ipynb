{
  "cells": [
    {
      "cell_type": "markdown",
      "metadata": {
        "id": "UyZFP7bEIXLM"
      },
      "source": [
        "link of data used: [spambase](https://archive.ics.uci.edu/dataset/94/spambase)"
      ]
    },
    {
      "cell_type": "code",
      "execution_count": 72,
      "metadata": {
        "id": "_EwcmZqRIpUV"
      },
      "outputs": [],
      "source": [
        "import pandas as pd\n",
        "import matplotlib.pyplot as plt\n",
        "import seaborn as sns\n",
        "import numpy as np\n",
        "from sklearn.preprocessing import StandardScaler, OneHotEncoder\n"
      ]
    },
    {
      "cell_type": "markdown",
      "metadata": {
        "id": "L88GjXQ7I6z4"
      },
      "source": [
        "# load dataset"
      ]
    },
    {
      "cell_type": "code",
      "source": [
        "pip install ucimlrepo"
      ],
      "metadata": {
        "colab": {
          "base_uri": "https://localhost:8080/"
        },
        "collapsed": true,
        "id": "Z_m-_ABteyv5",
        "outputId": "2ad98799-4aed-49d7-9f99-930667fbdf0b"
      },
      "execution_count": 73,
      "outputs": [
        {
          "output_type": "stream",
          "name": "stdout",
          "text": [
            "Requirement already satisfied: ucimlrepo in /usr/local/lib/python3.10/dist-packages (0.0.7)\n",
            "Requirement already satisfied: pandas>=1.0.0 in /usr/local/lib/python3.10/dist-packages (from ucimlrepo) (2.0.3)\n",
            "Requirement already satisfied: certifi>=2020.12.5 in /usr/local/lib/python3.10/dist-packages (from ucimlrepo) (2024.7.4)\n",
            "Requirement already satisfied: python-dateutil>=2.8.2 in /usr/local/lib/python3.10/dist-packages (from pandas>=1.0.0->ucimlrepo) (2.8.2)\n",
            "Requirement already satisfied: pytz>=2020.1 in /usr/local/lib/python3.10/dist-packages (from pandas>=1.0.0->ucimlrepo) (2024.1)\n",
            "Requirement already satisfied: tzdata>=2022.1 in /usr/local/lib/python3.10/dist-packages (from pandas>=1.0.0->ucimlrepo) (2024.1)\n",
            "Requirement already satisfied: numpy>=1.21.0 in /usr/local/lib/python3.10/dist-packages (from pandas>=1.0.0->ucimlrepo) (1.25.2)\n",
            "Requirement already satisfied: six>=1.5 in /usr/local/lib/python3.10/dist-packages (from python-dateutil>=2.8.2->pandas>=1.0.0->ucimlrepo) (1.16.0)\n"
          ]
        }
      ]
    },
    {
      "cell_type": "code",
      "source": [
        "from ucimlrepo import fetch_ucirepo\n",
        "\n",
        "spambase = fetch_ucirepo(id=94)\n",
        "X = spambase.data.features\n",
        "y = spambase.data.targets"
      ],
      "metadata": {
        "id": "OIQxt3N3e0Gr"
      },
      "execution_count": 74,
      "outputs": []
    },
    {
      "cell_type": "markdown",
      "metadata": {
        "id": "oII9BW_iNDU-"
      },
      "source": [
        "# **understanding data**"
      ]
    },
    {
      "cell_type": "code",
      "execution_count": 75,
      "metadata": {
        "colab": {
          "base_uri": "https://localhost:8080/",
          "height": 412
        },
        "id": "U8ftCFQlJokw",
        "outputId": "22038212-9eb1-4b3a-8bcd-fdf2546fa587"
      },
      "outputs": [
        {
          "output_type": "execute_result",
          "data": {
            "text/plain": [
              "   word_freq_make  word_freq_address  word_freq_all  word_freq_3d  \\\n",
              "0            0.00               0.64           0.64           0.0   \n",
              "1            0.21               0.28           0.50           0.0   \n",
              "2            0.06               0.00           0.71           0.0   \n",
              "3            0.00               0.00           0.00           0.0   \n",
              "4            0.00               0.00           0.00           0.0   \n",
              "5            0.00               0.00           0.00           0.0   \n",
              "6            0.00               0.00           0.00           0.0   \n",
              "7            0.00               0.00           0.00           0.0   \n",
              "8            0.15               0.00           0.46           0.0   \n",
              "9            0.06               0.12           0.77           0.0   \n",
              "\n",
              "   word_freq_our  word_freq_over  word_freq_remove  word_freq_internet  \\\n",
              "0           0.32            0.00              0.00                0.00   \n",
              "1           0.14            0.28              0.21                0.07   \n",
              "2           1.23            0.19              0.19                0.12   \n",
              "3           0.63            0.00              0.31                0.63   \n",
              "4           0.63            0.00              0.31                0.63   \n",
              "5           1.85            0.00              0.00                1.85   \n",
              "6           1.92            0.00              0.00                0.00   \n",
              "7           1.88            0.00              0.00                1.88   \n",
              "8           0.61            0.00              0.30                0.00   \n",
              "9           0.19            0.32              0.38                0.00   \n",
              "\n",
              "   word_freq_order  word_freq_mail  ...  word_freq_conference  char_freq_;  \\\n",
              "0             0.00            0.00  ...                   0.0         0.00   \n",
              "1             0.00            0.94  ...                   0.0         0.00   \n",
              "2             0.64            0.25  ...                   0.0         0.01   \n",
              "3             0.31            0.63  ...                   0.0         0.00   \n",
              "4             0.31            0.63  ...                   0.0         0.00   \n",
              "5             0.00            0.00  ...                   0.0         0.00   \n",
              "6             0.00            0.64  ...                   0.0         0.00   \n",
              "7             0.00            0.00  ...                   0.0         0.00   \n",
              "8             0.92            0.76  ...                   0.0         0.00   \n",
              "9             0.06            0.00  ...                   0.0         0.04   \n",
              "\n",
              "   char_freq_(  char_freq_[  char_freq_!  char_freq_$  char_freq_#  \\\n",
              "0        0.000          0.0        0.778        0.000        0.000   \n",
              "1        0.132          0.0        0.372        0.180        0.048   \n",
              "2        0.143          0.0        0.276        0.184        0.010   \n",
              "3        0.137          0.0        0.137        0.000        0.000   \n",
              "4        0.135          0.0        0.135        0.000        0.000   \n",
              "5        0.223          0.0        0.000        0.000        0.000   \n",
              "6        0.054          0.0        0.164        0.054        0.000   \n",
              "7        0.206          0.0        0.000        0.000        0.000   \n",
              "8        0.271          0.0        0.181        0.203        0.022   \n",
              "9        0.030          0.0        0.244        0.081        0.000   \n",
              "\n",
              "   capital_run_length_average  capital_run_length_longest  \\\n",
              "0                       3.756                          61   \n",
              "1                       5.114                         101   \n",
              "2                       9.821                         485   \n",
              "3                       3.537                          40   \n",
              "4                       3.537                          40   \n",
              "5                       3.000                          15   \n",
              "6                       1.671                           4   \n",
              "7                       2.450                          11   \n",
              "8                       9.744                         445   \n",
              "9                       1.729                          43   \n",
              "\n",
              "   capital_run_length_total  \n",
              "0                       278  \n",
              "1                      1028  \n",
              "2                      2259  \n",
              "3                       191  \n",
              "4                       191  \n",
              "5                        54  \n",
              "6                       112  \n",
              "7                        49  \n",
              "8                      1257  \n",
              "9                       749  \n",
              "\n",
              "[10 rows x 57 columns]"
            ],
            "text/html": [
              "\n",
              "  <div id=\"df-ae0b250d-1f5f-47a0-81e9-031a5553d360\" class=\"colab-df-container\">\n",
              "    <div>\n",
              "<style scoped>\n",
              "    .dataframe tbody tr th:only-of-type {\n",
              "        vertical-align: middle;\n",
              "    }\n",
              "\n",
              "    .dataframe tbody tr th {\n",
              "        vertical-align: top;\n",
              "    }\n",
              "\n",
              "    .dataframe thead th {\n",
              "        text-align: right;\n",
              "    }\n",
              "</style>\n",
              "<table border=\"1\" class=\"dataframe\">\n",
              "  <thead>\n",
              "    <tr style=\"text-align: right;\">\n",
              "      <th></th>\n",
              "      <th>word_freq_make</th>\n",
              "      <th>word_freq_address</th>\n",
              "      <th>word_freq_all</th>\n",
              "      <th>word_freq_3d</th>\n",
              "      <th>word_freq_our</th>\n",
              "      <th>word_freq_over</th>\n",
              "      <th>word_freq_remove</th>\n",
              "      <th>word_freq_internet</th>\n",
              "      <th>word_freq_order</th>\n",
              "      <th>word_freq_mail</th>\n",
              "      <th>...</th>\n",
              "      <th>word_freq_conference</th>\n",
              "      <th>char_freq_;</th>\n",
              "      <th>char_freq_(</th>\n",
              "      <th>char_freq_[</th>\n",
              "      <th>char_freq_!</th>\n",
              "      <th>char_freq_$</th>\n",
              "      <th>char_freq_#</th>\n",
              "      <th>capital_run_length_average</th>\n",
              "      <th>capital_run_length_longest</th>\n",
              "      <th>capital_run_length_total</th>\n",
              "    </tr>\n",
              "  </thead>\n",
              "  <tbody>\n",
              "    <tr>\n",
              "      <th>0</th>\n",
              "      <td>0.00</td>\n",
              "      <td>0.64</td>\n",
              "      <td>0.64</td>\n",
              "      <td>0.0</td>\n",
              "      <td>0.32</td>\n",
              "      <td>0.00</td>\n",
              "      <td>0.00</td>\n",
              "      <td>0.00</td>\n",
              "      <td>0.00</td>\n",
              "      <td>0.00</td>\n",
              "      <td>...</td>\n",
              "      <td>0.0</td>\n",
              "      <td>0.00</td>\n",
              "      <td>0.000</td>\n",
              "      <td>0.0</td>\n",
              "      <td>0.778</td>\n",
              "      <td>0.000</td>\n",
              "      <td>0.000</td>\n",
              "      <td>3.756</td>\n",
              "      <td>61</td>\n",
              "      <td>278</td>\n",
              "    </tr>\n",
              "    <tr>\n",
              "      <th>1</th>\n",
              "      <td>0.21</td>\n",
              "      <td>0.28</td>\n",
              "      <td>0.50</td>\n",
              "      <td>0.0</td>\n",
              "      <td>0.14</td>\n",
              "      <td>0.28</td>\n",
              "      <td>0.21</td>\n",
              "      <td>0.07</td>\n",
              "      <td>0.00</td>\n",
              "      <td>0.94</td>\n",
              "      <td>...</td>\n",
              "      <td>0.0</td>\n",
              "      <td>0.00</td>\n",
              "      <td>0.132</td>\n",
              "      <td>0.0</td>\n",
              "      <td>0.372</td>\n",
              "      <td>0.180</td>\n",
              "      <td>0.048</td>\n",
              "      <td>5.114</td>\n",
              "      <td>101</td>\n",
              "      <td>1028</td>\n",
              "    </tr>\n",
              "    <tr>\n",
              "      <th>2</th>\n",
              "      <td>0.06</td>\n",
              "      <td>0.00</td>\n",
              "      <td>0.71</td>\n",
              "      <td>0.0</td>\n",
              "      <td>1.23</td>\n",
              "      <td>0.19</td>\n",
              "      <td>0.19</td>\n",
              "      <td>0.12</td>\n",
              "      <td>0.64</td>\n",
              "      <td>0.25</td>\n",
              "      <td>...</td>\n",
              "      <td>0.0</td>\n",
              "      <td>0.01</td>\n",
              "      <td>0.143</td>\n",
              "      <td>0.0</td>\n",
              "      <td>0.276</td>\n",
              "      <td>0.184</td>\n",
              "      <td>0.010</td>\n",
              "      <td>9.821</td>\n",
              "      <td>485</td>\n",
              "      <td>2259</td>\n",
              "    </tr>\n",
              "    <tr>\n",
              "      <th>3</th>\n",
              "      <td>0.00</td>\n",
              "      <td>0.00</td>\n",
              "      <td>0.00</td>\n",
              "      <td>0.0</td>\n",
              "      <td>0.63</td>\n",
              "      <td>0.00</td>\n",
              "      <td>0.31</td>\n",
              "      <td>0.63</td>\n",
              "      <td>0.31</td>\n",
              "      <td>0.63</td>\n",
              "      <td>...</td>\n",
              "      <td>0.0</td>\n",
              "      <td>0.00</td>\n",
              "      <td>0.137</td>\n",
              "      <td>0.0</td>\n",
              "      <td>0.137</td>\n",
              "      <td>0.000</td>\n",
              "      <td>0.000</td>\n",
              "      <td>3.537</td>\n",
              "      <td>40</td>\n",
              "      <td>191</td>\n",
              "    </tr>\n",
              "    <tr>\n",
              "      <th>4</th>\n",
              "      <td>0.00</td>\n",
              "      <td>0.00</td>\n",
              "      <td>0.00</td>\n",
              "      <td>0.0</td>\n",
              "      <td>0.63</td>\n",
              "      <td>0.00</td>\n",
              "      <td>0.31</td>\n",
              "      <td>0.63</td>\n",
              "      <td>0.31</td>\n",
              "      <td>0.63</td>\n",
              "      <td>...</td>\n",
              "      <td>0.0</td>\n",
              "      <td>0.00</td>\n",
              "      <td>0.135</td>\n",
              "      <td>0.0</td>\n",
              "      <td>0.135</td>\n",
              "      <td>0.000</td>\n",
              "      <td>0.000</td>\n",
              "      <td>3.537</td>\n",
              "      <td>40</td>\n",
              "      <td>191</td>\n",
              "    </tr>\n",
              "    <tr>\n",
              "      <th>5</th>\n",
              "      <td>0.00</td>\n",
              "      <td>0.00</td>\n",
              "      <td>0.00</td>\n",
              "      <td>0.0</td>\n",
              "      <td>1.85</td>\n",
              "      <td>0.00</td>\n",
              "      <td>0.00</td>\n",
              "      <td>1.85</td>\n",
              "      <td>0.00</td>\n",
              "      <td>0.00</td>\n",
              "      <td>...</td>\n",
              "      <td>0.0</td>\n",
              "      <td>0.00</td>\n",
              "      <td>0.223</td>\n",
              "      <td>0.0</td>\n",
              "      <td>0.000</td>\n",
              "      <td>0.000</td>\n",
              "      <td>0.000</td>\n",
              "      <td>3.000</td>\n",
              "      <td>15</td>\n",
              "      <td>54</td>\n",
              "    </tr>\n",
              "    <tr>\n",
              "      <th>6</th>\n",
              "      <td>0.00</td>\n",
              "      <td>0.00</td>\n",
              "      <td>0.00</td>\n",
              "      <td>0.0</td>\n",
              "      <td>1.92</td>\n",
              "      <td>0.00</td>\n",
              "      <td>0.00</td>\n",
              "      <td>0.00</td>\n",
              "      <td>0.00</td>\n",
              "      <td>0.64</td>\n",
              "      <td>...</td>\n",
              "      <td>0.0</td>\n",
              "      <td>0.00</td>\n",
              "      <td>0.054</td>\n",
              "      <td>0.0</td>\n",
              "      <td>0.164</td>\n",
              "      <td>0.054</td>\n",
              "      <td>0.000</td>\n",
              "      <td>1.671</td>\n",
              "      <td>4</td>\n",
              "      <td>112</td>\n",
              "    </tr>\n",
              "    <tr>\n",
              "      <th>7</th>\n",
              "      <td>0.00</td>\n",
              "      <td>0.00</td>\n",
              "      <td>0.00</td>\n",
              "      <td>0.0</td>\n",
              "      <td>1.88</td>\n",
              "      <td>0.00</td>\n",
              "      <td>0.00</td>\n",
              "      <td>1.88</td>\n",
              "      <td>0.00</td>\n",
              "      <td>0.00</td>\n",
              "      <td>...</td>\n",
              "      <td>0.0</td>\n",
              "      <td>0.00</td>\n",
              "      <td>0.206</td>\n",
              "      <td>0.0</td>\n",
              "      <td>0.000</td>\n",
              "      <td>0.000</td>\n",
              "      <td>0.000</td>\n",
              "      <td>2.450</td>\n",
              "      <td>11</td>\n",
              "      <td>49</td>\n",
              "    </tr>\n",
              "    <tr>\n",
              "      <th>8</th>\n",
              "      <td>0.15</td>\n",
              "      <td>0.00</td>\n",
              "      <td>0.46</td>\n",
              "      <td>0.0</td>\n",
              "      <td>0.61</td>\n",
              "      <td>0.00</td>\n",
              "      <td>0.30</td>\n",
              "      <td>0.00</td>\n",
              "      <td>0.92</td>\n",
              "      <td>0.76</td>\n",
              "      <td>...</td>\n",
              "      <td>0.0</td>\n",
              "      <td>0.00</td>\n",
              "      <td>0.271</td>\n",
              "      <td>0.0</td>\n",
              "      <td>0.181</td>\n",
              "      <td>0.203</td>\n",
              "      <td>0.022</td>\n",
              "      <td>9.744</td>\n",
              "      <td>445</td>\n",
              "      <td>1257</td>\n",
              "    </tr>\n",
              "    <tr>\n",
              "      <th>9</th>\n",
              "      <td>0.06</td>\n",
              "      <td>0.12</td>\n",
              "      <td>0.77</td>\n",
              "      <td>0.0</td>\n",
              "      <td>0.19</td>\n",
              "      <td>0.32</td>\n",
              "      <td>0.38</td>\n",
              "      <td>0.00</td>\n",
              "      <td>0.06</td>\n",
              "      <td>0.00</td>\n",
              "      <td>...</td>\n",
              "      <td>0.0</td>\n",
              "      <td>0.04</td>\n",
              "      <td>0.030</td>\n",
              "      <td>0.0</td>\n",
              "      <td>0.244</td>\n",
              "      <td>0.081</td>\n",
              "      <td>0.000</td>\n",
              "      <td>1.729</td>\n",
              "      <td>43</td>\n",
              "      <td>749</td>\n",
              "    </tr>\n",
              "  </tbody>\n",
              "</table>\n",
              "<p>10 rows × 57 columns</p>\n",
              "</div>\n",
              "    <div class=\"colab-df-buttons\">\n",
              "\n",
              "  <div class=\"colab-df-container\">\n",
              "    <button class=\"colab-df-convert\" onclick=\"convertToInteractive('df-ae0b250d-1f5f-47a0-81e9-031a5553d360')\"\n",
              "            title=\"Convert this dataframe to an interactive table.\"\n",
              "            style=\"display:none;\">\n",
              "\n",
              "  <svg xmlns=\"http://www.w3.org/2000/svg\" height=\"24px\" viewBox=\"0 -960 960 960\">\n",
              "    <path d=\"M120-120v-720h720v720H120Zm60-500h600v-160H180v160Zm220 220h160v-160H400v160Zm0 220h160v-160H400v160ZM180-400h160v-160H180v160Zm440 0h160v-160H620v160ZM180-180h160v-160H180v160Zm440 0h160v-160H620v160Z\"/>\n",
              "  </svg>\n",
              "    </button>\n",
              "\n",
              "  <style>\n",
              "    .colab-df-container {\n",
              "      display:flex;\n",
              "      gap: 12px;\n",
              "    }\n",
              "\n",
              "    .colab-df-convert {\n",
              "      background-color: #E8F0FE;\n",
              "      border: none;\n",
              "      border-radius: 50%;\n",
              "      cursor: pointer;\n",
              "      display: none;\n",
              "      fill: #1967D2;\n",
              "      height: 32px;\n",
              "      padding: 0 0 0 0;\n",
              "      width: 32px;\n",
              "    }\n",
              "\n",
              "    .colab-df-convert:hover {\n",
              "      background-color: #E2EBFA;\n",
              "      box-shadow: 0px 1px 2px rgba(60, 64, 67, 0.3), 0px 1px 3px 1px rgba(60, 64, 67, 0.15);\n",
              "      fill: #174EA6;\n",
              "    }\n",
              "\n",
              "    .colab-df-buttons div {\n",
              "      margin-bottom: 4px;\n",
              "    }\n",
              "\n",
              "    [theme=dark] .colab-df-convert {\n",
              "      background-color: #3B4455;\n",
              "      fill: #D2E3FC;\n",
              "    }\n",
              "\n",
              "    [theme=dark] .colab-df-convert:hover {\n",
              "      background-color: #434B5C;\n",
              "      box-shadow: 0px 1px 3px 1px rgba(0, 0, 0, 0.15);\n",
              "      filter: drop-shadow(0px 1px 2px rgba(0, 0, 0, 0.3));\n",
              "      fill: #FFFFFF;\n",
              "    }\n",
              "  </style>\n",
              "\n",
              "    <script>\n",
              "      const buttonEl =\n",
              "        document.querySelector('#df-ae0b250d-1f5f-47a0-81e9-031a5553d360 button.colab-df-convert');\n",
              "      buttonEl.style.display =\n",
              "        google.colab.kernel.accessAllowed ? 'block' : 'none';\n",
              "\n",
              "      async function convertToInteractive(key) {\n",
              "        const element = document.querySelector('#df-ae0b250d-1f5f-47a0-81e9-031a5553d360');\n",
              "        const dataTable =\n",
              "          await google.colab.kernel.invokeFunction('convertToInteractive',\n",
              "                                                    [key], {});\n",
              "        if (!dataTable) return;\n",
              "\n",
              "        const docLinkHtml = 'Like what you see? Visit the ' +\n",
              "          '<a target=\"_blank\" href=https://colab.research.google.com/notebooks/data_table.ipynb>data table notebook</a>'\n",
              "          + ' to learn more about interactive tables.';\n",
              "        element.innerHTML = '';\n",
              "        dataTable['output_type'] = 'display_data';\n",
              "        await google.colab.output.renderOutput(dataTable, element);\n",
              "        const docLink = document.createElement('div');\n",
              "        docLink.innerHTML = docLinkHtml;\n",
              "        element.appendChild(docLink);\n",
              "      }\n",
              "    </script>\n",
              "  </div>\n",
              "\n",
              "\n",
              "<div id=\"df-9597898b-5de9-4264-b636-07af033628d9\">\n",
              "  <button class=\"colab-df-quickchart\" onclick=\"quickchart('df-9597898b-5de9-4264-b636-07af033628d9')\"\n",
              "            title=\"Suggest charts\"\n",
              "            style=\"display:none;\">\n",
              "\n",
              "<svg xmlns=\"http://www.w3.org/2000/svg\" height=\"24px\"viewBox=\"0 0 24 24\"\n",
              "     width=\"24px\">\n",
              "    <g>\n",
              "        <path d=\"M19 3H5c-1.1 0-2 .9-2 2v14c0 1.1.9 2 2 2h14c1.1 0 2-.9 2-2V5c0-1.1-.9-2-2-2zM9 17H7v-7h2v7zm4 0h-2V7h2v10zm4 0h-2v-4h2v4z\"/>\n",
              "    </g>\n",
              "</svg>\n",
              "  </button>\n",
              "\n",
              "<style>\n",
              "  .colab-df-quickchart {\n",
              "      --bg-color: #E8F0FE;\n",
              "      --fill-color: #1967D2;\n",
              "      --hover-bg-color: #E2EBFA;\n",
              "      --hover-fill-color: #174EA6;\n",
              "      --disabled-fill-color: #AAA;\n",
              "      --disabled-bg-color: #DDD;\n",
              "  }\n",
              "\n",
              "  [theme=dark] .colab-df-quickchart {\n",
              "      --bg-color: #3B4455;\n",
              "      --fill-color: #D2E3FC;\n",
              "      --hover-bg-color: #434B5C;\n",
              "      --hover-fill-color: #FFFFFF;\n",
              "      --disabled-bg-color: #3B4455;\n",
              "      --disabled-fill-color: #666;\n",
              "  }\n",
              "\n",
              "  .colab-df-quickchart {\n",
              "    background-color: var(--bg-color);\n",
              "    border: none;\n",
              "    border-radius: 50%;\n",
              "    cursor: pointer;\n",
              "    display: none;\n",
              "    fill: var(--fill-color);\n",
              "    height: 32px;\n",
              "    padding: 0;\n",
              "    width: 32px;\n",
              "  }\n",
              "\n",
              "  .colab-df-quickchart:hover {\n",
              "    background-color: var(--hover-bg-color);\n",
              "    box-shadow: 0 1px 2px rgba(60, 64, 67, 0.3), 0 1px 3px 1px rgba(60, 64, 67, 0.15);\n",
              "    fill: var(--button-hover-fill-color);\n",
              "  }\n",
              "\n",
              "  .colab-df-quickchart-complete:disabled,\n",
              "  .colab-df-quickchart-complete:disabled:hover {\n",
              "    background-color: var(--disabled-bg-color);\n",
              "    fill: var(--disabled-fill-color);\n",
              "    box-shadow: none;\n",
              "  }\n",
              "\n",
              "  .colab-df-spinner {\n",
              "    border: 2px solid var(--fill-color);\n",
              "    border-color: transparent;\n",
              "    border-bottom-color: var(--fill-color);\n",
              "    animation:\n",
              "      spin 1s steps(1) infinite;\n",
              "  }\n",
              "\n",
              "  @keyframes spin {\n",
              "    0% {\n",
              "      border-color: transparent;\n",
              "      border-bottom-color: var(--fill-color);\n",
              "      border-left-color: var(--fill-color);\n",
              "    }\n",
              "    20% {\n",
              "      border-color: transparent;\n",
              "      border-left-color: var(--fill-color);\n",
              "      border-top-color: var(--fill-color);\n",
              "    }\n",
              "    30% {\n",
              "      border-color: transparent;\n",
              "      border-left-color: var(--fill-color);\n",
              "      border-top-color: var(--fill-color);\n",
              "      border-right-color: var(--fill-color);\n",
              "    }\n",
              "    40% {\n",
              "      border-color: transparent;\n",
              "      border-right-color: var(--fill-color);\n",
              "      border-top-color: var(--fill-color);\n",
              "    }\n",
              "    60% {\n",
              "      border-color: transparent;\n",
              "      border-right-color: var(--fill-color);\n",
              "    }\n",
              "    80% {\n",
              "      border-color: transparent;\n",
              "      border-right-color: var(--fill-color);\n",
              "      border-bottom-color: var(--fill-color);\n",
              "    }\n",
              "    90% {\n",
              "      border-color: transparent;\n",
              "      border-bottom-color: var(--fill-color);\n",
              "    }\n",
              "  }\n",
              "</style>\n",
              "\n",
              "  <script>\n",
              "    async function quickchart(key) {\n",
              "      const quickchartButtonEl =\n",
              "        document.querySelector('#' + key + ' button');\n",
              "      quickchartButtonEl.disabled = true;  // To prevent multiple clicks.\n",
              "      quickchartButtonEl.classList.add('colab-df-spinner');\n",
              "      try {\n",
              "        const charts = await google.colab.kernel.invokeFunction(\n",
              "            'suggestCharts', [key], {});\n",
              "      } catch (error) {\n",
              "        console.error('Error during call to suggestCharts:', error);\n",
              "      }\n",
              "      quickchartButtonEl.classList.remove('colab-df-spinner');\n",
              "      quickchartButtonEl.classList.add('colab-df-quickchart-complete');\n",
              "    }\n",
              "    (() => {\n",
              "      let quickchartButtonEl =\n",
              "        document.querySelector('#df-9597898b-5de9-4264-b636-07af033628d9 button');\n",
              "      quickchartButtonEl.style.display =\n",
              "        google.colab.kernel.accessAllowed ? 'block' : 'none';\n",
              "    })();\n",
              "  </script>\n",
              "</div>\n",
              "\n",
              "    </div>\n",
              "  </div>\n"
            ],
            "application/vnd.google.colaboratory.intrinsic+json": {
              "type": "dataframe",
              "variable_name": "X"
            }
          },
          "metadata": {},
          "execution_count": 75
        }
      ],
      "source": [
        "X.head(10)"
      ]
    },
    {
      "cell_type": "code",
      "execution_count": 76,
      "metadata": {
        "colab": {
          "base_uri": "https://localhost:8080/"
        },
        "id": "R2D3Qe8qJutN",
        "outputId": "4d55c9a3-6840-4d1a-fdfe-9f79ba869df1"
      },
      "outputs": [
        {
          "output_type": "stream",
          "name": "stdout",
          "text": [
            "<class 'pandas.core.frame.DataFrame'>\n",
            "RangeIndex: 4601 entries, 0 to 4600\n",
            "Data columns (total 57 columns):\n",
            " #   Column                      Non-Null Count  Dtype  \n",
            "---  ------                      --------------  -----  \n",
            " 0   word_freq_make              4601 non-null   float64\n",
            " 1   word_freq_address           4601 non-null   float64\n",
            " 2   word_freq_all               4601 non-null   float64\n",
            " 3   word_freq_3d                4601 non-null   float64\n",
            " 4   word_freq_our               4601 non-null   float64\n",
            " 5   word_freq_over              4601 non-null   float64\n",
            " 6   word_freq_remove            4601 non-null   float64\n",
            " 7   word_freq_internet          4601 non-null   float64\n",
            " 8   word_freq_order             4601 non-null   float64\n",
            " 9   word_freq_mail              4601 non-null   float64\n",
            " 10  word_freq_receive           4601 non-null   float64\n",
            " 11  word_freq_will              4601 non-null   float64\n",
            " 12  word_freq_people            4601 non-null   float64\n",
            " 13  word_freq_report            4601 non-null   float64\n",
            " 14  word_freq_addresses         4601 non-null   float64\n",
            " 15  word_freq_free              4601 non-null   float64\n",
            " 16  word_freq_business          4601 non-null   float64\n",
            " 17  word_freq_email             4601 non-null   float64\n",
            " 18  word_freq_you               4601 non-null   float64\n",
            " 19  word_freq_credit            4601 non-null   float64\n",
            " 20  word_freq_your              4601 non-null   float64\n",
            " 21  word_freq_font              4601 non-null   float64\n",
            " 22  word_freq_000               4601 non-null   float64\n",
            " 23  word_freq_money             4601 non-null   float64\n",
            " 24  word_freq_hp                4601 non-null   float64\n",
            " 25  word_freq_hpl               4601 non-null   float64\n",
            " 26  word_freq_george            4601 non-null   float64\n",
            " 27  word_freq_650               4601 non-null   float64\n",
            " 28  word_freq_lab               4601 non-null   float64\n",
            " 29  word_freq_labs              4601 non-null   float64\n",
            " 30  word_freq_telnet            4601 non-null   float64\n",
            " 31  word_freq_857               4601 non-null   float64\n",
            " 32  word_freq_data              4601 non-null   float64\n",
            " 33  word_freq_415               4601 non-null   float64\n",
            " 34  word_freq_85                4601 non-null   float64\n",
            " 35  word_freq_technology        4601 non-null   float64\n",
            " 36  word_freq_1999              4601 non-null   float64\n",
            " 37  word_freq_parts             4601 non-null   float64\n",
            " 38  word_freq_pm                4601 non-null   float64\n",
            " 39  word_freq_direct            4601 non-null   float64\n",
            " 40  word_freq_cs                4601 non-null   float64\n",
            " 41  word_freq_meeting           4601 non-null   float64\n",
            " 42  word_freq_original          4601 non-null   float64\n",
            " 43  word_freq_project           4601 non-null   float64\n",
            " 44  word_freq_re                4601 non-null   float64\n",
            " 45  word_freq_edu               4601 non-null   float64\n",
            " 46  word_freq_table             4601 non-null   float64\n",
            " 47  word_freq_conference        4601 non-null   float64\n",
            " 48  char_freq_;                 4601 non-null   float64\n",
            " 49  char_freq_(                 4601 non-null   float64\n",
            " 50  char_freq_[                 4601 non-null   float64\n",
            " 51  char_freq_!                 4601 non-null   float64\n",
            " 52  char_freq_$                 4601 non-null   float64\n",
            " 53  char_freq_#                 4601 non-null   float64\n",
            " 54  capital_run_length_average  4601 non-null   float64\n",
            " 55  capital_run_length_longest  4601 non-null   int64  \n",
            " 56  capital_run_length_total    4601 non-null   int64  \n",
            "dtypes: float64(55), int64(2)\n",
            "memory usage: 2.0 MB\n",
            "None\n"
          ]
        }
      ],
      "source": [
        "print(X.info())"
      ]
    },
    {
      "cell_type": "code",
      "source": [
        "y"
      ],
      "metadata": {
        "colab": {
          "base_uri": "https://localhost:8080/",
          "height": 423
        },
        "id": "Uy-O6RVXyzAe",
        "outputId": "8cc05c0e-450c-4af8-bb39-75b44e356d4b"
      },
      "execution_count": 77,
      "outputs": [
        {
          "output_type": "execute_result",
          "data": {
            "text/plain": [
              "      Class\n",
              "0         1\n",
              "1         1\n",
              "2         1\n",
              "3         1\n",
              "4         1\n",
              "...     ...\n",
              "4596      0\n",
              "4597      0\n",
              "4598      0\n",
              "4599      0\n",
              "4600      0\n",
              "\n",
              "[4601 rows x 1 columns]"
            ],
            "text/html": [
              "\n",
              "  <div id=\"df-43149916-1bef-4b5c-8510-d813650bad2b\" class=\"colab-df-container\">\n",
              "    <div>\n",
              "<style scoped>\n",
              "    .dataframe tbody tr th:only-of-type {\n",
              "        vertical-align: middle;\n",
              "    }\n",
              "\n",
              "    .dataframe tbody tr th {\n",
              "        vertical-align: top;\n",
              "    }\n",
              "\n",
              "    .dataframe thead th {\n",
              "        text-align: right;\n",
              "    }\n",
              "</style>\n",
              "<table border=\"1\" class=\"dataframe\">\n",
              "  <thead>\n",
              "    <tr style=\"text-align: right;\">\n",
              "      <th></th>\n",
              "      <th>Class</th>\n",
              "    </tr>\n",
              "  </thead>\n",
              "  <tbody>\n",
              "    <tr>\n",
              "      <th>0</th>\n",
              "      <td>1</td>\n",
              "    </tr>\n",
              "    <tr>\n",
              "      <th>1</th>\n",
              "      <td>1</td>\n",
              "    </tr>\n",
              "    <tr>\n",
              "      <th>2</th>\n",
              "      <td>1</td>\n",
              "    </tr>\n",
              "    <tr>\n",
              "      <th>3</th>\n",
              "      <td>1</td>\n",
              "    </tr>\n",
              "    <tr>\n",
              "      <th>4</th>\n",
              "      <td>1</td>\n",
              "    </tr>\n",
              "    <tr>\n",
              "      <th>...</th>\n",
              "      <td>...</td>\n",
              "    </tr>\n",
              "    <tr>\n",
              "      <th>4596</th>\n",
              "      <td>0</td>\n",
              "    </tr>\n",
              "    <tr>\n",
              "      <th>4597</th>\n",
              "      <td>0</td>\n",
              "    </tr>\n",
              "    <tr>\n",
              "      <th>4598</th>\n",
              "      <td>0</td>\n",
              "    </tr>\n",
              "    <tr>\n",
              "      <th>4599</th>\n",
              "      <td>0</td>\n",
              "    </tr>\n",
              "    <tr>\n",
              "      <th>4600</th>\n",
              "      <td>0</td>\n",
              "    </tr>\n",
              "  </tbody>\n",
              "</table>\n",
              "<p>4601 rows × 1 columns</p>\n",
              "</div>\n",
              "    <div class=\"colab-df-buttons\">\n",
              "\n",
              "  <div class=\"colab-df-container\">\n",
              "    <button class=\"colab-df-convert\" onclick=\"convertToInteractive('df-43149916-1bef-4b5c-8510-d813650bad2b')\"\n",
              "            title=\"Convert this dataframe to an interactive table.\"\n",
              "            style=\"display:none;\">\n",
              "\n",
              "  <svg xmlns=\"http://www.w3.org/2000/svg\" height=\"24px\" viewBox=\"0 -960 960 960\">\n",
              "    <path d=\"M120-120v-720h720v720H120Zm60-500h600v-160H180v160Zm220 220h160v-160H400v160Zm0 220h160v-160H400v160ZM180-400h160v-160H180v160Zm440 0h160v-160H620v160ZM180-180h160v-160H180v160Zm440 0h160v-160H620v160Z\"/>\n",
              "  </svg>\n",
              "    </button>\n",
              "\n",
              "  <style>\n",
              "    .colab-df-container {\n",
              "      display:flex;\n",
              "      gap: 12px;\n",
              "    }\n",
              "\n",
              "    .colab-df-convert {\n",
              "      background-color: #E8F0FE;\n",
              "      border: none;\n",
              "      border-radius: 50%;\n",
              "      cursor: pointer;\n",
              "      display: none;\n",
              "      fill: #1967D2;\n",
              "      height: 32px;\n",
              "      padding: 0 0 0 0;\n",
              "      width: 32px;\n",
              "    }\n",
              "\n",
              "    .colab-df-convert:hover {\n",
              "      background-color: #E2EBFA;\n",
              "      box-shadow: 0px 1px 2px rgba(60, 64, 67, 0.3), 0px 1px 3px 1px rgba(60, 64, 67, 0.15);\n",
              "      fill: #174EA6;\n",
              "    }\n",
              "\n",
              "    .colab-df-buttons div {\n",
              "      margin-bottom: 4px;\n",
              "    }\n",
              "\n",
              "    [theme=dark] .colab-df-convert {\n",
              "      background-color: #3B4455;\n",
              "      fill: #D2E3FC;\n",
              "    }\n",
              "\n",
              "    [theme=dark] .colab-df-convert:hover {\n",
              "      background-color: #434B5C;\n",
              "      box-shadow: 0px 1px 3px 1px rgba(0, 0, 0, 0.15);\n",
              "      filter: drop-shadow(0px 1px 2px rgba(0, 0, 0, 0.3));\n",
              "      fill: #FFFFFF;\n",
              "    }\n",
              "  </style>\n",
              "\n",
              "    <script>\n",
              "      const buttonEl =\n",
              "        document.querySelector('#df-43149916-1bef-4b5c-8510-d813650bad2b button.colab-df-convert');\n",
              "      buttonEl.style.display =\n",
              "        google.colab.kernel.accessAllowed ? 'block' : 'none';\n",
              "\n",
              "      async function convertToInteractive(key) {\n",
              "        const element = document.querySelector('#df-43149916-1bef-4b5c-8510-d813650bad2b');\n",
              "        const dataTable =\n",
              "          await google.colab.kernel.invokeFunction('convertToInteractive',\n",
              "                                                    [key], {});\n",
              "        if (!dataTable) return;\n",
              "\n",
              "        const docLinkHtml = 'Like what you see? Visit the ' +\n",
              "          '<a target=\"_blank\" href=https://colab.research.google.com/notebooks/data_table.ipynb>data table notebook</a>'\n",
              "          + ' to learn more about interactive tables.';\n",
              "        element.innerHTML = '';\n",
              "        dataTable['output_type'] = 'display_data';\n",
              "        await google.colab.output.renderOutput(dataTable, element);\n",
              "        const docLink = document.createElement('div');\n",
              "        docLink.innerHTML = docLinkHtml;\n",
              "        element.appendChild(docLink);\n",
              "      }\n",
              "    </script>\n",
              "  </div>\n",
              "\n",
              "\n",
              "<div id=\"df-5c14c776-925e-4683-8c5c-46ab380f91b7\">\n",
              "  <button class=\"colab-df-quickchart\" onclick=\"quickchart('df-5c14c776-925e-4683-8c5c-46ab380f91b7')\"\n",
              "            title=\"Suggest charts\"\n",
              "            style=\"display:none;\">\n",
              "\n",
              "<svg xmlns=\"http://www.w3.org/2000/svg\" height=\"24px\"viewBox=\"0 0 24 24\"\n",
              "     width=\"24px\">\n",
              "    <g>\n",
              "        <path d=\"M19 3H5c-1.1 0-2 .9-2 2v14c0 1.1.9 2 2 2h14c1.1 0 2-.9 2-2V5c0-1.1-.9-2-2-2zM9 17H7v-7h2v7zm4 0h-2V7h2v10zm4 0h-2v-4h2v4z\"/>\n",
              "    </g>\n",
              "</svg>\n",
              "  </button>\n",
              "\n",
              "<style>\n",
              "  .colab-df-quickchart {\n",
              "      --bg-color: #E8F0FE;\n",
              "      --fill-color: #1967D2;\n",
              "      --hover-bg-color: #E2EBFA;\n",
              "      --hover-fill-color: #174EA6;\n",
              "      --disabled-fill-color: #AAA;\n",
              "      --disabled-bg-color: #DDD;\n",
              "  }\n",
              "\n",
              "  [theme=dark] .colab-df-quickchart {\n",
              "      --bg-color: #3B4455;\n",
              "      --fill-color: #D2E3FC;\n",
              "      --hover-bg-color: #434B5C;\n",
              "      --hover-fill-color: #FFFFFF;\n",
              "      --disabled-bg-color: #3B4455;\n",
              "      --disabled-fill-color: #666;\n",
              "  }\n",
              "\n",
              "  .colab-df-quickchart {\n",
              "    background-color: var(--bg-color);\n",
              "    border: none;\n",
              "    border-radius: 50%;\n",
              "    cursor: pointer;\n",
              "    display: none;\n",
              "    fill: var(--fill-color);\n",
              "    height: 32px;\n",
              "    padding: 0;\n",
              "    width: 32px;\n",
              "  }\n",
              "\n",
              "  .colab-df-quickchart:hover {\n",
              "    background-color: var(--hover-bg-color);\n",
              "    box-shadow: 0 1px 2px rgba(60, 64, 67, 0.3), 0 1px 3px 1px rgba(60, 64, 67, 0.15);\n",
              "    fill: var(--button-hover-fill-color);\n",
              "  }\n",
              "\n",
              "  .colab-df-quickchart-complete:disabled,\n",
              "  .colab-df-quickchart-complete:disabled:hover {\n",
              "    background-color: var(--disabled-bg-color);\n",
              "    fill: var(--disabled-fill-color);\n",
              "    box-shadow: none;\n",
              "  }\n",
              "\n",
              "  .colab-df-spinner {\n",
              "    border: 2px solid var(--fill-color);\n",
              "    border-color: transparent;\n",
              "    border-bottom-color: var(--fill-color);\n",
              "    animation:\n",
              "      spin 1s steps(1) infinite;\n",
              "  }\n",
              "\n",
              "  @keyframes spin {\n",
              "    0% {\n",
              "      border-color: transparent;\n",
              "      border-bottom-color: var(--fill-color);\n",
              "      border-left-color: var(--fill-color);\n",
              "    }\n",
              "    20% {\n",
              "      border-color: transparent;\n",
              "      border-left-color: var(--fill-color);\n",
              "      border-top-color: var(--fill-color);\n",
              "    }\n",
              "    30% {\n",
              "      border-color: transparent;\n",
              "      border-left-color: var(--fill-color);\n",
              "      border-top-color: var(--fill-color);\n",
              "      border-right-color: var(--fill-color);\n",
              "    }\n",
              "    40% {\n",
              "      border-color: transparent;\n",
              "      border-right-color: var(--fill-color);\n",
              "      border-top-color: var(--fill-color);\n",
              "    }\n",
              "    60% {\n",
              "      border-color: transparent;\n",
              "      border-right-color: var(--fill-color);\n",
              "    }\n",
              "    80% {\n",
              "      border-color: transparent;\n",
              "      border-right-color: var(--fill-color);\n",
              "      border-bottom-color: var(--fill-color);\n",
              "    }\n",
              "    90% {\n",
              "      border-color: transparent;\n",
              "      border-bottom-color: var(--fill-color);\n",
              "    }\n",
              "  }\n",
              "</style>\n",
              "\n",
              "  <script>\n",
              "    async function quickchart(key) {\n",
              "      const quickchartButtonEl =\n",
              "        document.querySelector('#' + key + ' button');\n",
              "      quickchartButtonEl.disabled = true;  // To prevent multiple clicks.\n",
              "      quickchartButtonEl.classList.add('colab-df-spinner');\n",
              "      try {\n",
              "        const charts = await google.colab.kernel.invokeFunction(\n",
              "            'suggestCharts', [key], {});\n",
              "      } catch (error) {\n",
              "        console.error('Error during call to suggestCharts:', error);\n",
              "      }\n",
              "      quickchartButtonEl.classList.remove('colab-df-spinner');\n",
              "      quickchartButtonEl.classList.add('colab-df-quickchart-complete');\n",
              "    }\n",
              "    (() => {\n",
              "      let quickchartButtonEl =\n",
              "        document.querySelector('#df-5c14c776-925e-4683-8c5c-46ab380f91b7 button');\n",
              "      quickchartButtonEl.style.display =\n",
              "        google.colab.kernel.accessAllowed ? 'block' : 'none';\n",
              "    })();\n",
              "  </script>\n",
              "</div>\n",
              "\n",
              "  <div id=\"id_5f821905-5866-4b61-a858-08ee19104663\">\n",
              "    <style>\n",
              "      .colab-df-generate {\n",
              "        background-color: #E8F0FE;\n",
              "        border: none;\n",
              "        border-radius: 50%;\n",
              "        cursor: pointer;\n",
              "        display: none;\n",
              "        fill: #1967D2;\n",
              "        height: 32px;\n",
              "        padding: 0 0 0 0;\n",
              "        width: 32px;\n",
              "      }\n",
              "\n",
              "      .colab-df-generate:hover {\n",
              "        background-color: #E2EBFA;\n",
              "        box-shadow: 0px 1px 2px rgba(60, 64, 67, 0.3), 0px 1px 3px 1px rgba(60, 64, 67, 0.15);\n",
              "        fill: #174EA6;\n",
              "      }\n",
              "\n",
              "      [theme=dark] .colab-df-generate {\n",
              "        background-color: #3B4455;\n",
              "        fill: #D2E3FC;\n",
              "      }\n",
              "\n",
              "      [theme=dark] .colab-df-generate:hover {\n",
              "        background-color: #434B5C;\n",
              "        box-shadow: 0px 1px 3px 1px rgba(0, 0, 0, 0.15);\n",
              "        filter: drop-shadow(0px 1px 2px rgba(0, 0, 0, 0.3));\n",
              "        fill: #FFFFFF;\n",
              "      }\n",
              "    </style>\n",
              "    <button class=\"colab-df-generate\" onclick=\"generateWithVariable('y')\"\n",
              "            title=\"Generate code using this dataframe.\"\n",
              "            style=\"display:none;\">\n",
              "\n",
              "  <svg xmlns=\"http://www.w3.org/2000/svg\" height=\"24px\"viewBox=\"0 0 24 24\"\n",
              "       width=\"24px\">\n",
              "    <path d=\"M7,19H8.4L18.45,9,17,7.55,7,17.6ZM5,21V16.75L18.45,3.32a2,2,0,0,1,2.83,0l1.4,1.43a1.91,1.91,0,0,1,.58,1.4,1.91,1.91,0,0,1-.58,1.4L9.25,21ZM18.45,9,17,7.55Zm-12,3A5.31,5.31,0,0,0,4.9,8.1,5.31,5.31,0,0,0,1,6.5,5.31,5.31,0,0,0,4.9,4.9,5.31,5.31,0,0,0,6.5,1,5.31,5.31,0,0,0,8.1,4.9,5.31,5.31,0,0,0,12,6.5,5.46,5.46,0,0,0,6.5,12Z\"/>\n",
              "  </svg>\n",
              "    </button>\n",
              "    <script>\n",
              "      (() => {\n",
              "      const buttonEl =\n",
              "        document.querySelector('#id_5f821905-5866-4b61-a858-08ee19104663 button.colab-df-generate');\n",
              "      buttonEl.style.display =\n",
              "        google.colab.kernel.accessAllowed ? 'block' : 'none';\n",
              "\n",
              "      buttonEl.onclick = () => {\n",
              "        google.colab.notebook.generateWithVariable('y');\n",
              "      }\n",
              "      })();\n",
              "    </script>\n",
              "  </div>\n",
              "\n",
              "    </div>\n",
              "  </div>\n"
            ],
            "application/vnd.google.colaboratory.intrinsic+json": {
              "type": "dataframe",
              "variable_name": "y",
              "summary": "{\n  \"name\": \"y\",\n  \"rows\": 4601,\n  \"fields\": [\n    {\n      \"column\": \"Class\",\n      \"properties\": {\n        \"dtype\": \"number\",\n        \"std\": 0,\n        \"min\": 0,\n        \"max\": 1,\n        \"num_unique_values\": 2,\n        \"samples\": [\n          0,\n          1\n        ],\n        \"semantic_type\": \"\",\n        \"description\": \"\"\n      }\n    }\n  ]\n}"
            }
          },
          "metadata": {},
          "execution_count": 77
        }
      ]
    },
    {
      "cell_type": "markdown",
      "metadata": {
        "id": "DtiOwP_gJ75E"
      },
      "source": [
        "# handeling missing data"
      ]
    },
    {
      "cell_type": "markdown",
      "metadata": {
        "id": "VYwCZABjbwnr"
      },
      "source": [
        "###finding amount of missing data in each column"
      ]
    },
    {
      "cell_type": "code",
      "execution_count": 78,
      "metadata": {
        "colab": {
          "base_uri": "https://localhost:8080/"
        },
        "id": "gto2m_wc7qYX",
        "outputId": "fd0609f7-97aa-4cf0-aefd-d115bc3100e8"
      },
      "outputs": [
        {
          "output_type": "stream",
          "name": "stdout",
          "text": [
            "Percentage of missing values in each column:\n",
            "\n",
            "word_freq_make : 0.00%\n",
            "word_freq_address : 0.00%\n",
            "word_freq_all : 0.00%\n",
            "word_freq_3d : 0.00%\n",
            "word_freq_our : 0.00%\n",
            "word_freq_over : 0.00%\n",
            "word_freq_remove : 0.00%\n",
            "word_freq_internet : 0.00%\n",
            "word_freq_order : 0.00%\n",
            "word_freq_mail : 0.00%\n",
            "word_freq_receive : 0.00%\n",
            "word_freq_will : 0.00%\n",
            "word_freq_people : 0.00%\n",
            "word_freq_report : 0.00%\n",
            "word_freq_addresses : 0.00%\n",
            "word_freq_free : 0.00%\n",
            "word_freq_business : 0.00%\n",
            "word_freq_email : 0.00%\n",
            "word_freq_you : 0.00%\n",
            "word_freq_credit : 0.00%\n",
            "word_freq_your : 0.00%\n",
            "word_freq_font : 0.00%\n",
            "word_freq_000 : 0.00%\n",
            "word_freq_money : 0.00%\n",
            "word_freq_hp : 0.00%\n",
            "word_freq_hpl : 0.00%\n",
            "word_freq_george : 0.00%\n",
            "word_freq_650 : 0.00%\n",
            "word_freq_lab : 0.00%\n",
            "word_freq_labs : 0.00%\n",
            "word_freq_telnet : 0.00%\n",
            "word_freq_857 : 0.00%\n",
            "word_freq_data : 0.00%\n",
            "word_freq_415 : 0.00%\n",
            "word_freq_85 : 0.00%\n",
            "word_freq_technology : 0.00%\n",
            "word_freq_1999 : 0.00%\n",
            "word_freq_parts : 0.00%\n",
            "word_freq_pm : 0.00%\n",
            "word_freq_direct : 0.00%\n",
            "word_freq_cs : 0.00%\n",
            "word_freq_meeting : 0.00%\n",
            "word_freq_original : 0.00%\n",
            "word_freq_project : 0.00%\n",
            "word_freq_re : 0.00%\n",
            "word_freq_edu : 0.00%\n",
            "word_freq_table : 0.00%\n",
            "word_freq_conference : 0.00%\n",
            "char_freq_; : 0.00%\n",
            "char_freq_( : 0.00%\n",
            "char_freq_[ : 0.00%\n",
            "char_freq_! : 0.00%\n",
            "char_freq_$ : 0.00%\n",
            "char_freq_# : 0.00%\n",
            "capital_run_length_average : 0.00%\n",
            "capital_run_length_longest : 0.00%\n",
            "capital_run_length_total : 0.00%\n"
          ]
        }
      ],
      "source": [
        "max_non_null_val = 0\n",
        "for col in X.columns:\n",
        "  val = X[col].count()\n",
        "  if(val > max_non_null_val):\n",
        "    max_non_null_val = val;\n",
        "\n",
        "print(\"Percentage of missing values in each column:\\n\")\n",
        "missing_percent = []\n",
        "for col in X.columns:\n",
        "  missing_percent.append(X[col].isnull().sum()/max_non_null_val*100)\n",
        "  print(f\"{col} : {X[col].isnull().sum()/max_non_null_val*100:.2f}%\")"
      ]
    },
    {
      "cell_type": "markdown",
      "metadata": {
        "id": "WFUJOSxMKljP"
      },
      "source": [
        "###classifying columns based on numerical or categorical data"
      ]
    },
    {
      "cell_type": "code",
      "execution_count": 79,
      "metadata": {
        "colab": {
          "base_uri": "https://localhost:8080/"
        },
        "id": "2PNzIPHKKkz-",
        "outputId": "372e7aaa-b896-47ca-b59e-6646beb38d54"
      },
      "outputs": [
        {
          "output_type": "stream",
          "name": "stdout",
          "text": [
            "cat_cols: []\n",
            "num_cols: ['word_freq_make', 'word_freq_address', 'word_freq_all', 'word_freq_3d', 'word_freq_our', 'word_freq_over', 'word_freq_remove', 'word_freq_internet', 'word_freq_order', 'word_freq_mail', 'word_freq_receive', 'word_freq_will', 'word_freq_people', 'word_freq_report', 'word_freq_addresses', 'word_freq_free', 'word_freq_business', 'word_freq_email', 'word_freq_you', 'word_freq_credit', 'word_freq_your', 'word_freq_font', 'word_freq_000', 'word_freq_money', 'word_freq_hp', 'word_freq_hpl', 'word_freq_george', 'word_freq_650', 'word_freq_lab', 'word_freq_labs', 'word_freq_telnet', 'word_freq_857', 'word_freq_data', 'word_freq_415', 'word_freq_85', 'word_freq_technology', 'word_freq_1999', 'word_freq_parts', 'word_freq_pm', 'word_freq_direct', 'word_freq_cs', 'word_freq_meeting', 'word_freq_original', 'word_freq_project', 'word_freq_re', 'word_freq_edu', 'word_freq_table', 'word_freq_conference', 'char_freq_;', 'char_freq_(', 'char_freq_[', 'char_freq_!', 'char_freq_$', 'char_freq_#', 'capital_run_length_average', 'capital_run_length_longest', 'capital_run_length_total']\n",
            "cat_but_car: []\n",
            "num_but_cat_cols: []\n"
          ]
        }
      ],
      "source": [
        "def classify_cols(df , cat_thresh = 15, card_thresh  = 20 ):\n",
        "  cat_cols = [col for col in df.columns if df[col].dtypes == \"O\"]\n",
        "  num_but_cat_cols = [col for col in df.columns if df[col].dtypes != \"O\" and df[col].nunique()<cat_thresh]\n",
        "  cat_but_card_cols = [col for col in df.columns if df[col].dtypes == \"O\" and df[col].nunique()>card_thresh]\n",
        "  # cat_cols = cat_cols + num_but_cat_cols\n",
        "  cat_cols = [col for col in cat_cols if col not in cat_but_card_cols]\n",
        "  num_cols = [col for col in df.columns if df[col].dtypes != \"O\" and col not in num_but_cat_cols]\n",
        "  return cat_cols, num_cols, cat_but_card_cols,num_but_cat_cols\n",
        "\n",
        "cat_cols, num_cols, cat_but_card_cols, num_but_cat_cols = classify_cols(X)\n",
        "print(f\"cat_cols: {(cat_cols)}\")\n",
        "print(f\"num_cols: {(num_cols)}\")\n",
        "print(f\"cat_but_car: {(cat_but_card_cols)}\")\n",
        "print(f\"num_but_cat_cols: {(num_but_cat_cols)}\")"
      ]
    },
    {
      "cell_type": "markdown",
      "metadata": {
        "id": "0M3zuZJsnuft"
      },
      "source": [
        "# Descriptive stats\n"
      ]
    },
    {
      "cell_type": "code",
      "execution_count": 80,
      "metadata": {
        "colab": {
          "base_uri": "https://localhost:8080/"
        },
        "id": "slC4-Qaunyv8",
        "outputId": "637b98b5-f948-402e-c9b8-cd6c4bc0595a"
      },
      "outputs": [
        {
          "output_type": "stream",
          "name": "stdout",
          "text": [
            "       word_freq_make  word_freq_address  word_freq_all  word_freq_3d  \\\n",
            "count     4601.000000        4601.000000    4601.000000   4601.000000   \n",
            "mean         0.104553           0.213015       0.280656      0.065425   \n",
            "std          0.305358           1.290575       0.504143      1.395151   \n",
            "min          0.000000           0.000000       0.000000      0.000000   \n",
            "25%          0.000000           0.000000       0.000000      0.000000   \n",
            "50%          0.000000           0.000000       0.000000      0.000000   \n",
            "75%          0.000000           0.000000       0.420000      0.000000   \n",
            "max          4.540000          14.280000       5.100000     42.810000   \n",
            "\n",
            "       word_freq_our  word_freq_over  word_freq_remove  word_freq_internet  \\\n",
            "count    4601.000000     4601.000000       4601.000000         4601.000000   \n",
            "mean        0.312223        0.095901          0.114208            0.105295   \n",
            "std         0.672513        0.273824          0.391441            0.401071   \n",
            "min         0.000000        0.000000          0.000000            0.000000   \n",
            "25%         0.000000        0.000000          0.000000            0.000000   \n",
            "50%         0.000000        0.000000          0.000000            0.000000   \n",
            "75%         0.380000        0.000000          0.000000            0.000000   \n",
            "max        10.000000        5.880000          7.270000           11.110000   \n",
            "\n",
            "       word_freq_order  word_freq_mail  ...  word_freq_conference  \\\n",
            "count      4601.000000     4601.000000  ...           4601.000000   \n",
            "mean          0.090067        0.239413  ...              0.031869   \n",
            "std           0.278616        0.644755  ...              0.285735   \n",
            "min           0.000000        0.000000  ...              0.000000   \n",
            "25%           0.000000        0.000000  ...              0.000000   \n",
            "50%           0.000000        0.000000  ...              0.000000   \n",
            "75%           0.000000        0.160000  ...              0.000000   \n",
            "max           5.260000       18.180000  ...             10.000000   \n",
            "\n",
            "       char_freq_;  char_freq_(  char_freq_[  char_freq_!  char_freq_$  \\\n",
            "count  4601.000000  4601.000000  4601.000000  4601.000000  4601.000000   \n",
            "mean      0.038575     0.139030     0.016976     0.269071     0.075811   \n",
            "std       0.243471     0.270355     0.109394     0.815672     0.245882   \n",
            "min       0.000000     0.000000     0.000000     0.000000     0.000000   \n",
            "25%       0.000000     0.000000     0.000000     0.000000     0.000000   \n",
            "50%       0.000000     0.065000     0.000000     0.000000     0.000000   \n",
            "75%       0.000000     0.188000     0.000000     0.315000     0.052000   \n",
            "max       4.385000     9.752000     4.081000    32.478000     6.003000   \n",
            "\n",
            "       char_freq_#  capital_run_length_average  capital_run_length_longest  \\\n",
            "count  4601.000000                 4601.000000                 4601.000000   \n",
            "mean      0.044238                    5.191515                   52.172789   \n",
            "std       0.429342                   31.729449                  194.891310   \n",
            "min       0.000000                    1.000000                    1.000000   \n",
            "25%       0.000000                    1.588000                    6.000000   \n",
            "50%       0.000000                    2.276000                   15.000000   \n",
            "75%       0.000000                    3.706000                   43.000000   \n",
            "max      19.829000                 1102.500000                 9989.000000   \n",
            "\n",
            "       capital_run_length_total  \n",
            "count               4601.000000  \n",
            "mean                 283.289285  \n",
            "std                  606.347851  \n",
            "min                    1.000000  \n",
            "25%                   35.000000  \n",
            "50%                   95.000000  \n",
            "75%                  266.000000  \n",
            "max                15841.000000  \n",
            "\n",
            "[8 rows x 57 columns]\n"
          ]
        }
      ],
      "source": [
        "stats = X.describe()\n",
        "print(stats)"
      ]
    },
    {
      "cell_type": "markdown",
      "metadata": {
        "id": "oD3kLE2a3VJp"
      },
      "source": [
        "#correlation matrix of dataframe\n"
      ]
    },
    {
      "cell_type": "code",
      "execution_count": 81,
      "metadata": {
        "colab": {
          "base_uri": "https://localhost:8080/",
          "height": 0
        },
        "id": "9DgKsbjGmF2C",
        "outputId": "c88a2323-f6ac-43b3-f2fd-31247a788eb8"
      },
      "outputs": [
        {
          "output_type": "execute_result",
          "data": {
            "text/plain": [
              "                            word_freq_make  word_freq_address  word_freq_all  \\\n",
              "word_freq_make                    1.000000          -0.016759       0.065627   \n",
              "word_freq_address                -0.016759           1.000000      -0.033526   \n",
              "word_freq_all                     0.065627          -0.033526       1.000000   \n",
              "word_freq_3d                      0.013273          -0.006923      -0.020246   \n",
              "word_freq_our                     0.023119          -0.023760       0.077734   \n",
              "word_freq_over                    0.059674          -0.024840       0.087564   \n",
              "word_freq_remove                  0.007669           0.003918       0.036677   \n",
              "word_freq_internet               -0.003950          -0.016280       0.012003   \n",
              "word_freq_order                   0.106263          -0.003826       0.093786   \n",
              "word_freq_mail                    0.041198           0.032962       0.032075   \n",
              "word_freq_receive                 0.188459          -0.006864       0.048254   \n",
              "word_freq_will                    0.105801          -0.040398       0.083210   \n",
              "word_freq_people                  0.066438          -0.018858       0.047593   \n",
              "word_freq_report                  0.036780          -0.009206       0.008552   \n",
              "word_freq_addresses               0.028439           0.005330       0.122113   \n",
              "word_freq_free                    0.059386          -0.009117       0.063906   \n",
              "word_freq_business                0.081928          -0.018370       0.036262   \n",
              "word_freq_email                   0.053324           0.033500       0.121923   \n",
              "word_freq_you                     0.128243          -0.055476       0.139329   \n",
              "word_freq_credit                  0.021295          -0.015806       0.031111   \n",
              "word_freq_your                    0.197049          -0.018191       0.156651   \n",
              "word_freq_font                   -0.024349          -0.008850      -0.035681   \n",
              "word_freq_000                     0.134072          -0.020502       0.123671   \n",
              "word_freq_money                   0.188155           0.001984       0.041145   \n",
              "word_freq_hp                     -0.072504          -0.043483      -0.087924   \n",
              "word_freq_hpl                    -0.061686          -0.038211      -0.062459   \n",
              "word_freq_george                 -0.066424          -0.030307      -0.108886   \n",
              "word_freq_650                    -0.048680          -0.029221      -0.050648   \n",
              "word_freq_lab                    -0.041251          -0.021940      -0.057726   \n",
              "word_freq_labs                   -0.052799          -0.027508      -0.032547   \n",
              "word_freq_telnet                 -0.039066          -0.018097      -0.038927   \n",
              "word_freq_857                    -0.032058          -0.003326      -0.061870   \n",
              "word_freq_data                   -0.041014          -0.024903      -0.054759   \n",
              "word_freq_415                    -0.027690          -0.004303      -0.061706   \n",
              "word_freq_85                     -0.044954          -0.024058      -0.048335   \n",
              "word_freq_technology             -0.054673          -0.028198      -0.046504   \n",
              "word_freq_1999                   -0.057312          -0.024013      -0.067015   \n",
              "word_freq_parts                  -0.007960          -0.008922       0.032407   \n",
              "word_freq_pm                     -0.011134          -0.019124      -0.014809   \n",
              "word_freq_direct                 -0.036095          -0.014821      -0.047066   \n",
              "word_freq_cs                     -0.009703          -0.015420      -0.030956   \n",
              "word_freq_meeting                -0.026070          -0.025177      -0.005811   \n",
              "word_freq_original               -0.024292          -0.002370      -0.044325   \n",
              "word_freq_project                -0.022116          -0.019739      -0.053464   \n",
              "word_freq_re                     -0.037105          -0.016418      -0.050664   \n",
              "word_freq_edu                    -0.034056          -0.023858      -0.056655   \n",
              "word_freq_table                  -0.000953          -0.009818       0.029339   \n",
              "word_freq_conference             -0.017755          -0.015747      -0.026344   \n",
              "char_freq_;                      -0.026505          -0.007282      -0.033213   \n",
              "char_freq_(                      -0.021196          -0.049837      -0.016495   \n",
              "char_freq_[                      -0.033301          -0.018527      -0.033120   \n",
              "char_freq_!                       0.058292          -0.014461       0.108140   \n",
              "char_freq_$                       0.117419          -0.009605       0.087618   \n",
              "char_freq_#                      -0.008844           0.001946      -0.003336   \n",
              "capital_run_length_average        0.044491           0.002083       0.097398   \n",
              "capital_run_length_longest        0.061382           0.000271       0.107463   \n",
              "capital_run_length_total          0.089165          -0.022680       0.070114   \n",
              "Class                             0.126208          -0.030224       0.196988   \n",
              "\n",
              "                            word_freq_3d  word_freq_our  word_freq_over  \\\n",
              "word_freq_make                  0.013273       0.023119        0.059674   \n",
              "word_freq_address              -0.006923      -0.023760       -0.024840   \n",
              "word_freq_all                  -0.020246       0.077734        0.087564   \n",
              "word_freq_3d                    1.000000       0.003238       -0.010014   \n",
              "word_freq_our                   0.003238       1.000000        0.054054   \n",
              "word_freq_over                 -0.010014       0.054054        1.000000   \n",
              "word_freq_remove                0.019784       0.147336        0.061163   \n",
              "word_freq_internet              0.010268       0.029598        0.079561   \n",
              "word_freq_order                -0.002454       0.020823        0.117438   \n",
              "word_freq_mail                 -0.004947       0.034495        0.013897   \n",
              "word_freq_receive              -0.012976       0.068382        0.053900   \n",
              "word_freq_will                 -0.019221       0.066788        0.009264   \n",
              "word_freq_people               -0.013199       0.031126        0.077631   \n",
              "word_freq_report                0.012008       0.003445        0.009673   \n",
              "word_freq_addresses             0.002707       0.056177        0.173066   \n",
              "word_freq_free                  0.007432       0.083024        0.019865   \n",
              "word_freq_business              0.003470       0.143443        0.064137   \n",
              "word_freq_email                 0.019391       0.062344        0.078350   \n",
              "word_freq_you                  -0.010834       0.098510        0.095505   \n",
              "word_freq_credit               -0.005381       0.031526        0.058979   \n",
              "word_freq_your                  0.008176       0.136605        0.106833   \n",
              "word_freq_font                  0.028102      -0.020207        0.007956   \n",
              "word_freq_000                   0.011368       0.070037        0.211455   \n",
              "word_freq_money                 0.035360       0.000039        0.059329   \n",
              "word_freq_hp                   -0.015181      -0.072502       -0.084402   \n",
              "word_freq_hpl                  -0.013708      -0.075456       -0.087271   \n",
              "word_freq_george               -0.010684      -0.088011       -0.069051   \n",
              "word_freq_650                  -0.010368      -0.061501       -0.066223   \n",
              "word_freq_lab                  -0.007798       0.032048       -0.048673   \n",
              "word_freq_labs                 -0.010476      -0.052066       -0.048127   \n",
              "word_freq_telnet               -0.007529      -0.042535       -0.046383   \n",
              "word_freq_857                  -0.006717      -0.026748       -0.036835   \n",
              "word_freq_data                 -0.008075      -0.031998       -0.034164   \n",
              "word_freq_415                  -0.006729      -0.026960       -0.037315   \n",
              "word_freq_85                   -0.006122      -0.049732       -0.054315   \n",
              "word_freq_technology           -0.006515      -0.048844       -0.052819   \n",
              "word_freq_1999                 -0.007761      -0.072599       -0.057465   \n",
              "word_freq_parts                -0.002669       0.130812       -0.017918   \n",
              "word_freq_pm                   -0.004602      -0.042044       -0.047619   \n",
              "word_freq_direct               -0.007643      -0.021442       -0.029866   \n",
              "word_freq_cs                   -0.005670      -0.047505       -0.029457   \n",
              "word_freq_meeting              -0.008095       0.115041       -0.054812   \n",
              "word_freq_original             -0.009268      -0.048879       -0.030616   \n",
              "word_freq_project              -0.005933       0.015234       -0.028826   \n",
              "word_freq_re                   -0.012957      -0.042336       -0.053637   \n",
              "word_freq_edu                  -0.009181      -0.077986       -0.033046   \n",
              "word_freq_table                -0.003348      -0.026900       -0.014343   \n",
              "word_freq_conference           -0.001924      -0.032005       -0.031693   \n",
              "char_freq_;                    -0.000591      -0.032759       -0.019119   \n",
              "char_freq_(                    -0.012370      -0.046361       -0.008705   \n",
              "char_freq_[                    -0.007148      -0.026390       -0.015133   \n",
              "char_freq_!                    -0.003138       0.025509        0.065043   \n",
              "char_freq_$                     0.010862       0.041582        0.105692   \n",
              "char_freq_#                    -0.000298       0.002016        0.019894   \n",
              "capital_run_length_average      0.005260       0.052662       -0.010278   \n",
              "capital_run_length_longest      0.022081       0.052290        0.090172   \n",
              "capital_run_length_total        0.021369       0.002492        0.082089   \n",
              "Class                           0.057371       0.241920        0.232604   \n",
              "\n",
              "                            word_freq_remove  word_freq_internet  \\\n",
              "word_freq_make                      0.007669           -0.003950   \n",
              "word_freq_address                   0.003918           -0.016280   \n",
              "word_freq_all                       0.036677            0.012003   \n",
              "word_freq_3d                        0.019784            0.010268   \n",
              "word_freq_our                       0.147336            0.029598   \n",
              "word_freq_over                      0.061163            0.079561   \n",
              "word_freq_remove                    1.000000            0.044545   \n",
              "word_freq_internet                  0.044545            1.000000   \n",
              "word_freq_order                     0.050786            0.105302   \n",
              "word_freq_mail                      0.056809            0.083129   \n",
              "word_freq_receive                   0.159578            0.128495   \n",
              "word_freq_will                     -0.001461           -0.002973   \n",
              "word_freq_people                    0.013295            0.026274   \n",
              "word_freq_report                   -0.022723            0.012426   \n",
              "word_freq_addresses                 0.042904            0.072782   \n",
              "word_freq_free                      0.128436            0.051115   \n",
              "word_freq_business                  0.187981            0.216422   \n",
              "word_freq_email                     0.122011            0.037738   \n",
              "word_freq_you                       0.111792            0.020641   \n",
              "word_freq_credit                    0.046134            0.109163   \n",
              "word_freq_your                      0.130794            0.156905   \n",
              "word_freq_font                     -0.002093           -0.016192   \n",
              "word_freq_000                       0.064795            0.089226   \n",
              "word_freq_money                     0.030575            0.034127   \n",
              "word_freq_hp                       -0.089494           -0.053038   \n",
              "word_freq_hpl                      -0.080330           -0.041450   \n",
              "word_freq_george                   -0.065893           -0.057189   \n",
              "word_freq_650                      -0.066947           -0.049988   \n",
              "word_freq_lab                      -0.048482           -0.037047   \n",
              "word_freq_labs                     -0.058101           -0.043405   \n",
              "word_freq_telnet                   -0.046280           -0.035816   \n",
              "word_freq_857                      -0.040538           -0.034276   \n",
              "word_freq_data                     -0.041372           -0.039220   \n",
              "word_freq_415                      -0.040910           -0.034811   \n",
              "word_freq_85                       -0.053202           -0.035174   \n",
              "word_freq_technology               -0.053978           -0.033747   \n",
              "word_freq_1999                     -0.052035           -0.017466   \n",
              "word_freq_parts                    -0.014781           -0.012119   \n",
              "word_freq_pm                       -0.046978           -0.030392   \n",
              "word_freq_direct                   -0.022121           -0.005988   \n",
              "word_freq_cs                       -0.033120           -0.003884   \n",
              "word_freq_meeting                  -0.049664           -0.043626   \n",
              "word_freq_original                 -0.049079           -0.004542   \n",
              "word_freq_project                  -0.034461           -0.030134   \n",
              "word_freq_re                       -0.050811           -0.002423   \n",
              "word_freq_edu                      -0.056166           -0.037916   \n",
              "word_freq_table                    -0.017512           -0.006397   \n",
              "word_freq_conference               -0.031408           -0.021224   \n",
              "char_freq_;                        -0.033089           -0.027432   \n",
              "char_freq_(                        -0.051885           -0.032494   \n",
              "char_freq_[                        -0.027653           -0.019548   \n",
              "char_freq_!                         0.053706            0.031454   \n",
              "char_freq_$                         0.070127            0.057910   \n",
              "char_freq_#                         0.046612           -0.008012   \n",
              "capital_run_length_average          0.041565            0.011254   \n",
              "capital_run_length_longest          0.059677            0.037575   \n",
              "capital_run_length_total           -0.008344            0.040252   \n",
              "Class                               0.332117            0.206808   \n",
              "\n",
              "                            word_freq_order  word_freq_mail  ...  char_freq_;  \\\n",
              "word_freq_make                     0.106263        0.041198  ...    -0.026505   \n",
              "word_freq_address                 -0.003826        0.032962  ...    -0.007282   \n",
              "word_freq_all                      0.093786        0.032075  ...    -0.033213   \n",
              "word_freq_3d                      -0.002454       -0.004947  ...    -0.000591   \n",
              "word_freq_our                      0.020823        0.034495  ...    -0.032759   \n",
              "word_freq_over                     0.117438        0.013897  ...    -0.019119   \n",
              "word_freq_remove                   0.050786        0.056809  ...    -0.033089   \n",
              "word_freq_internet                 0.105302        0.083129  ...    -0.027432   \n",
              "word_freq_order                    1.000000        0.130624  ...    -0.014646   \n",
              "word_freq_mail                     0.130624        1.000000  ...     0.011945   \n",
              "word_freq_receive                  0.137760        0.125319  ...    -0.032410   \n",
              "word_freq_will                     0.030344        0.071157  ...    -0.027711   \n",
              "word_freq_people                   0.034738        0.045737  ...    -0.023445   \n",
              "word_freq_report                   0.066840        0.017901  ...    -0.019045   \n",
              "word_freq_addresses                0.238436        0.160543  ...    -0.018277   \n",
              "word_freq_free                     0.008269        0.025601  ...    -0.026841   \n",
              "word_freq_business                 0.158390        0.081363  ...    -0.031542   \n",
              "word_freq_email                    0.098804        0.035977  ...    -0.039519   \n",
              "word_freq_you                      0.039017        0.093509  ...    -0.044314   \n",
              "word_freq_credit                   0.123217        0.030859  ...    -0.020851   \n",
              "word_freq_your                     0.159112        0.098072  ...    -0.058660   \n",
              "word_freq_font                    -0.019648        0.008200  ...     0.416608   \n",
              "word_freq_000                      0.126800        0.096809  ...    -0.027362   \n",
              "word_freq_money                    0.099461        0.052129  ...    -0.019139   \n",
              "word_freq_hp                      -0.069931       -0.033534  ...     0.029181   \n",
              "word_freq_hpl                     -0.049775       -0.013045  ...     0.013558   \n",
              "word_freq_george                  -0.064608       -0.067817  ...    -0.022724   \n",
              "word_freq_650                     -0.056764        0.019356  ...    -0.025020   \n",
              "word_freq_lab                     -0.044840       -0.026903  ...    -0.018502   \n",
              "word_freq_labs                    -0.043643        0.008677  ...    -0.019845   \n",
              "word_freq_telnet                  -0.040158       -0.024423  ...    -0.016280   \n",
              "word_freq_857                     -0.033984       -0.015137  ...    -0.008853   \n",
              "word_freq_data                    -0.014403       -0.035366  ...    -0.005691   \n",
              "word_freq_415                     -0.033601       -0.014434  ...    -0.009290   \n",
              "word_freq_85                      -0.041847       -0.020092  ...    -0.021592   \n",
              "word_freq_technology              -0.056270       -0.016955  ...    -0.018947   \n",
              "word_freq_1999                    -0.033244       -0.004944  ...     0.052138   \n",
              "word_freq_parts                   -0.002216       -0.017950  ...     0.007886   \n",
              "word_freq_pm                      -0.040844       -0.016091  ...     0.034492   \n",
              "word_freq_direct                  -0.009867        0.004163  ...    -0.018693   \n",
              "word_freq_cs                      -0.035177       -0.025084  ...     0.053034   \n",
              "word_freq_meeting                 -0.048223       -0.054467  ...    -0.007817   \n",
              "word_freq_original                -0.034190        0.023200  ...     0.015385   \n",
              "word_freq_project                 -0.035159       -0.026654  ...    -0.007257   \n",
              "word_freq_re                      -0.075558       -0.032065  ...    -0.024698   \n",
              "word_freq_edu                     -0.056817       -0.030326  ...     0.015382   \n",
              "word_freq_table                    0.007521       -0.015546  ...     0.000995   \n",
              "word_freq_conference              -0.026017       -0.016842  ...    -0.002290   \n",
              "char_freq_;                       -0.014646        0.011945  ...     1.000000   \n",
              "char_freq_(                       -0.031003        0.003936  ...     0.049124   \n",
              "char_freq_[                        0.013601        0.007357  ...     0.009070   \n",
              "char_freq_!                        0.043639        0.036737  ...     0.020539   \n",
              "char_freq_$                        0.149365        0.075786  ...     0.006392   \n",
              "char_freq_#                       -0.000522        0.044830  ...     0.055057   \n",
              "capital_run_length_average         0.111308        0.073677  ...     0.003443   \n",
              "capital_run_length_longest         0.189247        0.103308  ...     0.040829   \n",
              "capital_run_length_total           0.248724        0.087273  ...     0.055298   \n",
              "Class                              0.231551        0.138962  ...    -0.059630   \n",
              "\n",
              "                            char_freq_(  char_freq_[  char_freq_!  \\\n",
              "word_freq_make                -0.021196    -0.033301     0.058292   \n",
              "word_freq_address             -0.049837    -0.018527    -0.014461   \n",
              "word_freq_all                 -0.016495    -0.033120     0.108140   \n",
              "word_freq_3d                  -0.012370    -0.007148    -0.003138   \n",
              "word_freq_our                 -0.046361    -0.026390     0.025509   \n",
              "word_freq_over                -0.008705    -0.015133     0.065043   \n",
              "word_freq_remove              -0.051885    -0.027653     0.053706   \n",
              "word_freq_internet            -0.032494    -0.019548     0.031454   \n",
              "word_freq_order               -0.031003     0.013601     0.043639   \n",
              "word_freq_mail                 0.003936     0.007357     0.036737   \n",
              "word_freq_receive             -0.055089    -0.025183     0.024992   \n",
              "word_freq_will                -0.030940    -0.044966     0.013369   \n",
              "word_freq_people              -0.051151    -0.028283     0.040737   \n",
              "word_freq_report              -0.005804    -0.014349    -0.008499   \n",
              "word_freq_addresses           -0.002551    -0.003111     0.018607   \n",
              "word_freq_free                -0.046578    -0.029560     0.104261   \n",
              "word_freq_business            -0.035897    -0.036691     0.077049   \n",
              "word_freq_email               -0.035897    -0.017439     0.039350   \n",
              "word_freq_you                 -0.128882    -0.063826     0.153381   \n",
              "word_freq_credit              -0.021431    -0.012071     0.048350   \n",
              "word_freq_your                -0.085181    -0.045469     0.084017   \n",
              "word_freq_font                -0.046244    -0.001137    -0.004838   \n",
              "word_freq_000                 -0.033174    -0.000467     0.070103   \n",
              "word_freq_money               -0.033113    -0.020798     0.051076   \n",
              "word_freq_hp                   0.136979     0.039723    -0.090862   \n",
              "word_freq_hpl                  0.144771     0.064349    -0.078367   \n",
              "word_freq_george              -0.028748    -0.017676    -0.067500   \n",
              "word_freq_650                  0.313835     0.031979    -0.063495   \n",
              "word_freq_lab                  0.158593     0.006575    -0.042330   \n",
              "word_freq_labs                 0.224192     0.004667    -0.061694   \n",
              "word_freq_telnet               0.233392     0.010718    -0.045273   \n",
              "word_freq_857                  0.304679     0.013805    -0.041529   \n",
              "word_freq_data                 0.028655     0.113105    -0.048493   \n",
              "word_freq_415                  0.303606     0.013687    -0.038626   \n",
              "word_freq_85                   0.200713     0.034435    -0.048822   \n",
              "word_freq_technology           0.245454     0.001017    -0.060379   \n",
              "word_freq_1999                 0.107674     0.073010    -0.054578   \n",
              "word_freq_parts               -0.010430     0.001767    -0.015126   \n",
              "word_freq_pm                   0.107928     0.038474    -0.024846   \n",
              "word_freq_direct               0.268701     0.014065    -0.032509   \n",
              "word_freq_cs                   0.017584     0.034408    -0.025911   \n",
              "word_freq_meeting             -0.013082     0.011091    -0.038094   \n",
              "word_freq_original             0.060568     0.115548    -0.049362   \n",
              "word_freq_project             -0.003203    -0.010733    -0.033837   \n",
              "word_freq_re                   0.001413     0.008838     0.067569   \n",
              "word_freq_edu                  0.014763    -0.003168    -0.028845   \n",
              "word_freq_table               -0.003085    -0.004592    -0.017679   \n",
              "word_freq_conference          -0.012795    -0.006310    -0.026576   \n",
              "char_freq_;                    0.049124     0.009070     0.020539   \n",
              "char_freq_(                    1.000000     0.022316    -0.030354   \n",
              "char_freq_[                    0.022316     1.000000    -0.031769   \n",
              "char_freq_!                   -0.030354    -0.031769     1.000000   \n",
              "char_freq_$                    0.044722    -0.026400     0.142913   \n",
              "char_freq_#                    0.023322    -0.006863     0.020924   \n",
              "capital_run_length_average     0.034365    -0.008180     0.054308   \n",
              "capital_run_length_longest     0.370963    -0.013994     0.077392   \n",
              "capital_run_length_total       0.112209     0.006016     0.036321   \n",
              "Class                         -0.089672    -0.064709     0.241888   \n",
              "\n",
              "                            char_freq_$  char_freq_#  \\\n",
              "word_freq_make                 0.117419    -0.008844   \n",
              "word_freq_address             -0.009605     0.001946   \n",
              "word_freq_all                  0.087618    -0.003336   \n",
              "word_freq_3d                   0.010862    -0.000298   \n",
              "word_freq_our                  0.041582     0.002016   \n",
              "word_freq_over                 0.105692     0.019894   \n",
              "word_freq_remove               0.070127     0.046612   \n",
              "word_freq_internet             0.057910    -0.008012   \n",
              "word_freq_order                0.149365    -0.000522   \n",
              "word_freq_mail                 0.075786     0.044830   \n",
              "word_freq_receive              0.070227     0.001126   \n",
              "word_freq_will                 0.016723    -0.030445   \n",
              "word_freq_people               0.205905    -0.014195   \n",
              "word_freq_report               0.080953     0.006545   \n",
              "word_freq_addresses            0.123854    -0.005446   \n",
              "word_freq_free                 0.049953     0.035534   \n",
              "word_freq_business             0.098323    -0.000466   \n",
              "word_freq_email                0.063872     0.020978   \n",
              "word_freq_you                  0.091470    -0.002434   \n",
              "word_freq_credit               0.034948     0.007214   \n",
              "word_freq_your                 0.141649    -0.004355   \n",
              "word_freq_font                -0.011036     0.184428   \n",
              "word_freq_000                  0.310971     0.020140   \n",
              "word_freq_money                0.104691     0.000703   \n",
              "word_freq_hp                  -0.086634     0.058780   \n",
              "word_freq_hpl                 -0.081198    -0.020691   \n",
              "word_freq_george              -0.068728    -0.020561   \n",
              "word_freq_650                 -0.061441    -0.011438   \n",
              "word_freq_lab                 -0.050231     0.002076   \n",
              "word_freq_labs                -0.065475     0.082593   \n",
              "word_freq_telnet              -0.047475     0.000225   \n",
              "word_freq_857                 -0.043484    -0.010735   \n",
              "word_freq_data                -0.048101    -0.009928   \n",
              "word_freq_415                 -0.039844    -0.010635   \n",
              "word_freq_85                  -0.048947    -0.009650   \n",
              "word_freq_technology          -0.057933     0.006452   \n",
              "word_freq_1999                -0.063895    -0.022637   \n",
              "word_freq_parts               -0.012909    -0.003627   \n",
              "word_freq_pm                  -0.044513    -0.011326   \n",
              "word_freq_direct              -0.016724    -0.010661   \n",
              "word_freq_cs                  -0.036610    -0.011755   \n",
              "word_freq_meeting             -0.043653    -0.003873   \n",
              "word_freq_original            -0.054698    -0.013925   \n",
              "word_freq_project             -0.036241     0.001167   \n",
              "word_freq_re                  -0.049367    -0.023878   \n",
              "word_freq_edu                 -0.050109    -0.015040   \n",
              "word_freq_table               -0.018549     0.000308   \n",
              "word_freq_conference          -0.030751    -0.008575   \n",
              "char_freq_;                    0.006392     0.055057   \n",
              "char_freq_(                    0.044722     0.023322   \n",
              "char_freq_[                   -0.026400    -0.006863   \n",
              "char_freq_!                    0.142913     0.020924   \n",
              "char_freq_$                    1.000000     0.012613   \n",
              "char_freq_#                    0.012613     1.000000   \n",
              "capital_run_length_average     0.079998     0.013497   \n",
              "capital_run_length_longest     0.183144     0.061657   \n",
              "capital_run_length_total       0.201948     0.042568   \n",
              "Class                          0.323629     0.065067   \n",
              "\n",
              "                            capital_run_length_average  \\\n",
              "word_freq_make                                0.044491   \n",
              "word_freq_address                             0.002083   \n",
              "word_freq_all                                 0.097398   \n",
              "word_freq_3d                                  0.005260   \n",
              "word_freq_our                                 0.052662   \n",
              "word_freq_over                               -0.010278   \n",
              "word_freq_remove                              0.041565   \n",
              "word_freq_internet                            0.011254   \n",
              "word_freq_order                               0.111308   \n",
              "word_freq_mail                                0.073677   \n",
              "word_freq_receive                             0.029258   \n",
              "word_freq_will                               -0.010002   \n",
              "word_freq_people                             -0.013446   \n",
              "word_freq_report                              0.003023   \n",
              "word_freq_addresses                           0.017383   \n",
              "word_freq_free                                0.015036   \n",
              "word_freq_business                            0.038126   \n",
              "word_freq_email                              -0.007979   \n",
              "word_freq_you                                -0.030592   \n",
              "word_freq_credit                              0.067140   \n",
              "word_freq_your                                0.041066   \n",
              "word_freq_font                                0.021497   \n",
              "word_freq_000                                 0.008372   \n",
              "word_freq_money                               0.007681   \n",
              "word_freq_hp                                 -0.017285   \n",
              "word_freq_hpl                                -0.024234   \n",
              "word_freq_george                             -0.025504   \n",
              "word_freq_650                                -0.013757   \n",
              "word_freq_lab                                -0.014936   \n",
              "word_freq_labs                               -0.016599   \n",
              "word_freq_telnet                             -0.010897   \n",
              "word_freq_857                                -0.010498   \n",
              "word_freq_data                               -0.015509   \n",
              "word_freq_415                                -0.002404   \n",
              "word_freq_85                                 -0.013707   \n",
              "word_freq_technology                         -0.019185   \n",
              "word_freq_1999                               -0.014423   \n",
              "word_freq_parts                              -0.006012   \n",
              "word_freq_pm                                 -0.014032   \n",
              "word_freq_direct                             -0.003945   \n",
              "word_freq_cs                                 -0.008895   \n",
              "word_freq_meeting                            -0.017899   \n",
              "word_freq_original                           -0.017681   \n",
              "word_freq_project                            -0.013157   \n",
              "word_freq_re                                 -0.026979   \n",
              "word_freq_edu                                -0.017408   \n",
              "word_freq_table                              -0.006465   \n",
              "word_freq_conference                         -0.008114   \n",
              "char_freq_;                                   0.003443   \n",
              "char_freq_(                                   0.034365   \n",
              "char_freq_[                                  -0.008180   \n",
              "char_freq_!                                   0.054308   \n",
              "char_freq_$                                   0.079998   \n",
              "char_freq_#                                   0.013497   \n",
              "capital_run_length_average                    1.000000   \n",
              "capital_run_length_longest                    0.492638   \n",
              "capital_run_length_total                      0.162314   \n",
              "Class                                         0.109999   \n",
              "\n",
              "                            capital_run_length_longest  \\\n",
              "word_freq_make                                0.061382   \n",
              "word_freq_address                             0.000271   \n",
              "word_freq_all                                 0.107463   \n",
              "word_freq_3d                                  0.022081   \n",
              "word_freq_our                                 0.052290   \n",
              "word_freq_over                                0.090172   \n",
              "word_freq_remove                              0.059677   \n",
              "word_freq_internet                            0.037575   \n",
              "word_freq_order                               0.189247   \n",
              "word_freq_mail                                0.103308   \n",
              "word_freq_receive                             0.086791   \n",
              "word_freq_will                                0.021774   \n",
              "word_freq_people                              0.041962   \n",
              "word_freq_report                              0.060993   \n",
              "word_freq_addresses                           0.213992   \n",
              "word_freq_free                                0.026528   \n",
              "word_freq_business                            0.062672   \n",
              "word_freq_email                               0.075122   \n",
              "word_freq_you                                 0.006530   \n",
              "word_freq_credit                              0.099463   \n",
              "word_freq_your                                0.085321   \n",
              "word_freq_font                                0.027775   \n",
              "word_freq_000                                 0.123036   \n",
              "word_freq_money                               0.044870   \n",
              "word_freq_hp                                 -0.051206   \n",
              "word_freq_hpl                                -0.051806   \n",
              "word_freq_george                             -0.054400   \n",
              "word_freq_650                                -0.038772   \n",
              "word_freq_lab                                -0.034733   \n",
              "word_freq_labs                               -0.039001   \n",
              "word_freq_telnet                             -0.027449   \n",
              "word_freq_857                                -0.027732   \n",
              "word_freq_data                               -0.025919   \n",
              "word_freq_415                                -0.024532   \n",
              "word_freq_85                                 -0.030236   \n",
              "word_freq_technology                         -0.038100   \n",
              "word_freq_1999                               -0.033204   \n",
              "word_freq_parts                              -0.009487   \n",
              "word_freq_pm                                 -0.029229   \n",
              "word_freq_direct                             -0.004835   \n",
              "word_freq_cs                                 -0.023658   \n",
              "word_freq_meeting                            -0.034585   \n",
              "word_freq_original                           -0.017279   \n",
              "word_freq_project                            -0.025918   \n",
              "word_freq_re                                 -0.051858   \n",
              "word_freq_edu                                -0.033365   \n",
              "word_freq_table                              -0.010154   \n",
              "word_freq_conference                         -0.016894   \n",
              "char_freq_;                                   0.040829   \n",
              "char_freq_(                                   0.370963   \n",
              "char_freq_[                                  -0.013994   \n",
              "char_freq_!                                   0.077392   \n",
              "char_freq_$                                   0.183144   \n",
              "char_freq_#                                   0.061657   \n",
              "capital_run_length_average                    0.492638   \n",
              "capital_run_length_longest                    1.000000   \n",
              "capital_run_length_total                      0.475486   \n",
              "Class                                         0.216097   \n",
              "\n",
              "                            capital_run_length_total     Class  \n",
              "word_freq_make                              0.089165  0.126208  \n",
              "word_freq_address                          -0.022680 -0.030224  \n",
              "word_freq_all                               0.070114  0.196988  \n",
              "word_freq_3d                                0.021369  0.057371  \n",
              "word_freq_our                               0.002492  0.241920  \n",
              "word_freq_over                              0.082089  0.232604  \n",
              "word_freq_remove                           -0.008344  0.332117  \n",
              "word_freq_internet                          0.040252  0.206808  \n",
              "word_freq_order                             0.248724  0.231551  \n",
              "word_freq_mail                              0.087273  0.138962  \n",
              "word_freq_receive                           0.115055  0.234529  \n",
              "word_freq_will                              0.020076  0.007741  \n",
              "word_freq_people                            0.105150  0.132927  \n",
              "word_freq_report                            0.169257  0.060027  \n",
              "word_freq_addresses                         0.151626  0.195902  \n",
              "word_freq_free                              0.003007  0.263215  \n",
              "word_freq_business                          0.064261  0.263204  \n",
              "word_freq_email                             0.046364  0.204208  \n",
              "word_freq_you                              -0.007307  0.273651  \n",
              "word_freq_credit                            0.075751  0.189761  \n",
              "word_freq_your                              0.051797  0.383234  \n",
              "word_freq_font                              0.103954  0.091860  \n",
              "word_freq_000                               0.165977  0.334787  \n",
              "word_freq_money                             0.080993  0.216111  \n",
              "word_freq_hp                               -0.043267 -0.256723  \n",
              "word_freq_hpl                              -0.059601 -0.232968  \n",
              "word_freq_george                           -0.096548 -0.183404  \n",
              "word_freq_650                              -0.067596 -0.158800  \n",
              "word_freq_lab                              -0.056628 -0.133523  \n",
              "word_freq_labs                             -0.064115 -0.171095  \n",
              "word_freq_telnet                           -0.045923 -0.126912  \n",
              "word_freq_857                              -0.046796 -0.114214  \n",
              "word_freq_data                              0.006919 -0.119931  \n",
              "word_freq_415                              -0.044529 -0.112754  \n",
              "word_freq_85                               -0.045963 -0.149225  \n",
              "word_freq_technology                       -0.045792 -0.136134  \n",
              "word_freq_1999                             -0.003490 -0.178045  \n",
              "word_freq_parts                            -0.013897 -0.031035  \n",
              "word_freq_pm                               -0.049256 -0.122831  \n",
              "word_freq_direct                           -0.028806 -0.064801  \n",
              "word_freq_cs                               -0.026373 -0.097375  \n",
              "word_freq_meeting                          -0.056511 -0.136615  \n",
              "word_freq_original                         -0.036529 -0.135664  \n",
              "word_freq_project                          -0.040661 -0.094594  \n",
              "word_freq_re                               -0.095444 -0.140408  \n",
              "word_freq_edu                              -0.046371 -0.146138  \n",
              "word_freq_table                             0.005158 -0.044679  \n",
              "word_freq_conference                       -0.010033 -0.084020  \n",
              "char_freq_;                                 0.055298 -0.059630  \n",
              "char_freq_(                                 0.112209 -0.089672  \n",
              "char_freq_[                                 0.006016 -0.064709  \n",
              "char_freq_!                                 0.036321  0.241888  \n",
              "char_freq_$                                 0.201948  0.323629  \n",
              "char_freq_#                                 0.042568  0.065067  \n",
              "capital_run_length_average                  0.162314  0.109999  \n",
              "capital_run_length_longest                  0.475486  0.216097  \n",
              "capital_run_length_total                    1.000000  0.249164  \n",
              "Class                                       0.249164  1.000000  \n",
              "\n",
              "[58 rows x 58 columns]"
            ],
            "text/html": [
              "\n",
              "  <div id=\"df-e9be0493-db1f-42e1-86b3-62c7b23a21de\" class=\"colab-df-container\">\n",
              "    <div>\n",
              "<style scoped>\n",
              "    .dataframe tbody tr th:only-of-type {\n",
              "        vertical-align: middle;\n",
              "    }\n",
              "\n",
              "    .dataframe tbody tr th {\n",
              "        vertical-align: top;\n",
              "    }\n",
              "\n",
              "    .dataframe thead th {\n",
              "        text-align: right;\n",
              "    }\n",
              "</style>\n",
              "<table border=\"1\" class=\"dataframe\">\n",
              "  <thead>\n",
              "    <tr style=\"text-align: right;\">\n",
              "      <th></th>\n",
              "      <th>word_freq_make</th>\n",
              "      <th>word_freq_address</th>\n",
              "      <th>word_freq_all</th>\n",
              "      <th>word_freq_3d</th>\n",
              "      <th>word_freq_our</th>\n",
              "      <th>word_freq_over</th>\n",
              "      <th>word_freq_remove</th>\n",
              "      <th>word_freq_internet</th>\n",
              "      <th>word_freq_order</th>\n",
              "      <th>word_freq_mail</th>\n",
              "      <th>...</th>\n",
              "      <th>char_freq_;</th>\n",
              "      <th>char_freq_(</th>\n",
              "      <th>char_freq_[</th>\n",
              "      <th>char_freq_!</th>\n",
              "      <th>char_freq_$</th>\n",
              "      <th>char_freq_#</th>\n",
              "      <th>capital_run_length_average</th>\n",
              "      <th>capital_run_length_longest</th>\n",
              "      <th>capital_run_length_total</th>\n",
              "      <th>Class</th>\n",
              "    </tr>\n",
              "  </thead>\n",
              "  <tbody>\n",
              "    <tr>\n",
              "      <th>word_freq_make</th>\n",
              "      <td>1.000000</td>\n",
              "      <td>-0.016759</td>\n",
              "      <td>0.065627</td>\n",
              "      <td>0.013273</td>\n",
              "      <td>0.023119</td>\n",
              "      <td>0.059674</td>\n",
              "      <td>0.007669</td>\n",
              "      <td>-0.003950</td>\n",
              "      <td>0.106263</td>\n",
              "      <td>0.041198</td>\n",
              "      <td>...</td>\n",
              "      <td>-0.026505</td>\n",
              "      <td>-0.021196</td>\n",
              "      <td>-0.033301</td>\n",
              "      <td>0.058292</td>\n",
              "      <td>0.117419</td>\n",
              "      <td>-0.008844</td>\n",
              "      <td>0.044491</td>\n",
              "      <td>0.061382</td>\n",
              "      <td>0.089165</td>\n",
              "      <td>0.126208</td>\n",
              "    </tr>\n",
              "    <tr>\n",
              "      <th>word_freq_address</th>\n",
              "      <td>-0.016759</td>\n",
              "      <td>1.000000</td>\n",
              "      <td>-0.033526</td>\n",
              "      <td>-0.006923</td>\n",
              "      <td>-0.023760</td>\n",
              "      <td>-0.024840</td>\n",
              "      <td>0.003918</td>\n",
              "      <td>-0.016280</td>\n",
              "      <td>-0.003826</td>\n",
              "      <td>0.032962</td>\n",
              "      <td>...</td>\n",
              "      <td>-0.007282</td>\n",
              "      <td>-0.049837</td>\n",
              "      <td>-0.018527</td>\n",
              "      <td>-0.014461</td>\n",
              "      <td>-0.009605</td>\n",
              "      <td>0.001946</td>\n",
              "      <td>0.002083</td>\n",
              "      <td>0.000271</td>\n",
              "      <td>-0.022680</td>\n",
              "      <td>-0.030224</td>\n",
              "    </tr>\n",
              "    <tr>\n",
              "      <th>word_freq_all</th>\n",
              "      <td>0.065627</td>\n",
              "      <td>-0.033526</td>\n",
              "      <td>1.000000</td>\n",
              "      <td>-0.020246</td>\n",
              "      <td>0.077734</td>\n",
              "      <td>0.087564</td>\n",
              "      <td>0.036677</td>\n",
              "      <td>0.012003</td>\n",
              "      <td>0.093786</td>\n",
              "      <td>0.032075</td>\n",
              "      <td>...</td>\n",
              "      <td>-0.033213</td>\n",
              "      <td>-0.016495</td>\n",
              "      <td>-0.033120</td>\n",
              "      <td>0.108140</td>\n",
              "      <td>0.087618</td>\n",
              "      <td>-0.003336</td>\n",
              "      <td>0.097398</td>\n",
              "      <td>0.107463</td>\n",
              "      <td>0.070114</td>\n",
              "      <td>0.196988</td>\n",
              "    </tr>\n",
              "    <tr>\n",
              "      <th>word_freq_3d</th>\n",
              "      <td>0.013273</td>\n",
              "      <td>-0.006923</td>\n",
              "      <td>-0.020246</td>\n",
              "      <td>1.000000</td>\n",
              "      <td>0.003238</td>\n",
              "      <td>-0.010014</td>\n",
              "      <td>0.019784</td>\n",
              "      <td>0.010268</td>\n",
              "      <td>-0.002454</td>\n",
              "      <td>-0.004947</td>\n",
              "      <td>...</td>\n",
              "      <td>-0.000591</td>\n",
              "      <td>-0.012370</td>\n",
              "      <td>-0.007148</td>\n",
              "      <td>-0.003138</td>\n",
              "      <td>0.010862</td>\n",
              "      <td>-0.000298</td>\n",
              "      <td>0.005260</td>\n",
              "      <td>0.022081</td>\n",
              "      <td>0.021369</td>\n",
              "      <td>0.057371</td>\n",
              "    </tr>\n",
              "    <tr>\n",
              "      <th>word_freq_our</th>\n",
              "      <td>0.023119</td>\n",
              "      <td>-0.023760</td>\n",
              "      <td>0.077734</td>\n",
              "      <td>0.003238</td>\n",
              "      <td>1.000000</td>\n",
              "      <td>0.054054</td>\n",
              "      <td>0.147336</td>\n",
              "      <td>0.029598</td>\n",
              "      <td>0.020823</td>\n",
              "      <td>0.034495</td>\n",
              "      <td>...</td>\n",
              "      <td>-0.032759</td>\n",
              "      <td>-0.046361</td>\n",
              "      <td>-0.026390</td>\n",
              "      <td>0.025509</td>\n",
              "      <td>0.041582</td>\n",
              "      <td>0.002016</td>\n",
              "      <td>0.052662</td>\n",
              "      <td>0.052290</td>\n",
              "      <td>0.002492</td>\n",
              "      <td>0.241920</td>\n",
              "    </tr>\n",
              "    <tr>\n",
              "      <th>word_freq_over</th>\n",
              "      <td>0.059674</td>\n",
              "      <td>-0.024840</td>\n",
              "      <td>0.087564</td>\n",
              "      <td>-0.010014</td>\n",
              "      <td>0.054054</td>\n",
              "      <td>1.000000</td>\n",
              "      <td>0.061163</td>\n",
              "      <td>0.079561</td>\n",
              "      <td>0.117438</td>\n",
              "      <td>0.013897</td>\n",
              "      <td>...</td>\n",
              "      <td>-0.019119</td>\n",
              "      <td>-0.008705</td>\n",
              "      <td>-0.015133</td>\n",
              "      <td>0.065043</td>\n",
              "      <td>0.105692</td>\n",
              "      <td>0.019894</td>\n",
              "      <td>-0.010278</td>\n",
              "      <td>0.090172</td>\n",
              "      <td>0.082089</td>\n",
              "      <td>0.232604</td>\n",
              "    </tr>\n",
              "    <tr>\n",
              "      <th>word_freq_remove</th>\n",
              "      <td>0.007669</td>\n",
              "      <td>0.003918</td>\n",
              "      <td>0.036677</td>\n",
              "      <td>0.019784</td>\n",
              "      <td>0.147336</td>\n",
              "      <td>0.061163</td>\n",
              "      <td>1.000000</td>\n",
              "      <td>0.044545</td>\n",
              "      <td>0.050786</td>\n",
              "      <td>0.056809</td>\n",
              "      <td>...</td>\n",
              "      <td>-0.033089</td>\n",
              "      <td>-0.051885</td>\n",
              "      <td>-0.027653</td>\n",
              "      <td>0.053706</td>\n",
              "      <td>0.070127</td>\n",
              "      <td>0.046612</td>\n",
              "      <td>0.041565</td>\n",
              "      <td>0.059677</td>\n",
              "      <td>-0.008344</td>\n",
              "      <td>0.332117</td>\n",
              "    </tr>\n",
              "    <tr>\n",
              "      <th>word_freq_internet</th>\n",
              "      <td>-0.003950</td>\n",
              "      <td>-0.016280</td>\n",
              "      <td>0.012003</td>\n",
              "      <td>0.010268</td>\n",
              "      <td>0.029598</td>\n",
              "      <td>0.079561</td>\n",
              "      <td>0.044545</td>\n",
              "      <td>1.000000</td>\n",
              "      <td>0.105302</td>\n",
              "      <td>0.083129</td>\n",
              "      <td>...</td>\n",
              "      <td>-0.027432</td>\n",
              "      <td>-0.032494</td>\n",
              "      <td>-0.019548</td>\n",
              "      <td>0.031454</td>\n",
              "      <td>0.057910</td>\n",
              "      <td>-0.008012</td>\n",
              "      <td>0.011254</td>\n",
              "      <td>0.037575</td>\n",
              "      <td>0.040252</td>\n",
              "      <td>0.206808</td>\n",
              "    </tr>\n",
              "    <tr>\n",
              "      <th>word_freq_order</th>\n",
              "      <td>0.106263</td>\n",
              "      <td>-0.003826</td>\n",
              "      <td>0.093786</td>\n",
              "      <td>-0.002454</td>\n",
              "      <td>0.020823</td>\n",
              "      <td>0.117438</td>\n",
              "      <td>0.050786</td>\n",
              "      <td>0.105302</td>\n",
              "      <td>1.000000</td>\n",
              "      <td>0.130624</td>\n",
              "      <td>...</td>\n",
              "      <td>-0.014646</td>\n",
              "      <td>-0.031003</td>\n",
              "      <td>0.013601</td>\n",
              "      <td>0.043639</td>\n",
              "      <td>0.149365</td>\n",
              "      <td>-0.000522</td>\n",
              "      <td>0.111308</td>\n",
              "      <td>0.189247</td>\n",
              "      <td>0.248724</td>\n",
              "      <td>0.231551</td>\n",
              "    </tr>\n",
              "    <tr>\n",
              "      <th>word_freq_mail</th>\n",
              "      <td>0.041198</td>\n",
              "      <td>0.032962</td>\n",
              "      <td>0.032075</td>\n",
              "      <td>-0.004947</td>\n",
              "      <td>0.034495</td>\n",
              "      <td>0.013897</td>\n",
              "      <td>0.056809</td>\n",
              "      <td>0.083129</td>\n",
              "      <td>0.130624</td>\n",
              "      <td>1.000000</td>\n",
              "      <td>...</td>\n",
              "      <td>0.011945</td>\n",
              "      <td>0.003936</td>\n",
              "      <td>0.007357</td>\n",
              "      <td>0.036737</td>\n",
              "      <td>0.075786</td>\n",
              "      <td>0.044830</td>\n",
              "      <td>0.073677</td>\n",
              "      <td>0.103308</td>\n",
              "      <td>0.087273</td>\n",
              "      <td>0.138962</td>\n",
              "    </tr>\n",
              "    <tr>\n",
              "      <th>word_freq_receive</th>\n",
              "      <td>0.188459</td>\n",
              "      <td>-0.006864</td>\n",
              "      <td>0.048254</td>\n",
              "      <td>-0.012976</td>\n",
              "      <td>0.068382</td>\n",
              "      <td>0.053900</td>\n",
              "      <td>0.159578</td>\n",
              "      <td>0.128495</td>\n",
              "      <td>0.137760</td>\n",
              "      <td>0.125319</td>\n",
              "      <td>...</td>\n",
              "      <td>-0.032410</td>\n",
              "      <td>-0.055089</td>\n",
              "      <td>-0.025183</td>\n",
              "      <td>0.024992</td>\n",
              "      <td>0.070227</td>\n",
              "      <td>0.001126</td>\n",
              "      <td>0.029258</td>\n",
              "      <td>0.086791</td>\n",
              "      <td>0.115055</td>\n",
              "      <td>0.234529</td>\n",
              "    </tr>\n",
              "    <tr>\n",
              "      <th>word_freq_will</th>\n",
              "      <td>0.105801</td>\n",
              "      <td>-0.040398</td>\n",
              "      <td>0.083210</td>\n",
              "      <td>-0.019221</td>\n",
              "      <td>0.066788</td>\n",
              "      <td>0.009264</td>\n",
              "      <td>-0.001461</td>\n",
              "      <td>-0.002973</td>\n",
              "      <td>0.030344</td>\n",
              "      <td>0.071157</td>\n",
              "      <td>...</td>\n",
              "      <td>-0.027711</td>\n",
              "      <td>-0.030940</td>\n",
              "      <td>-0.044966</td>\n",
              "      <td>0.013369</td>\n",
              "      <td>0.016723</td>\n",
              "      <td>-0.030445</td>\n",
              "      <td>-0.010002</td>\n",
              "      <td>0.021774</td>\n",
              "      <td>0.020076</td>\n",
              "      <td>0.007741</td>\n",
              "    </tr>\n",
              "    <tr>\n",
              "      <th>word_freq_people</th>\n",
              "      <td>0.066438</td>\n",
              "      <td>-0.018858</td>\n",
              "      <td>0.047593</td>\n",
              "      <td>-0.013199</td>\n",
              "      <td>0.031126</td>\n",
              "      <td>0.077631</td>\n",
              "      <td>0.013295</td>\n",
              "      <td>0.026274</td>\n",
              "      <td>0.034738</td>\n",
              "      <td>0.045737</td>\n",
              "      <td>...</td>\n",
              "      <td>-0.023445</td>\n",
              "      <td>-0.051151</td>\n",
              "      <td>-0.028283</td>\n",
              "      <td>0.040737</td>\n",
              "      <td>0.205905</td>\n",
              "      <td>-0.014195</td>\n",
              "      <td>-0.013446</td>\n",
              "      <td>0.041962</td>\n",
              "      <td>0.105150</td>\n",
              "      <td>0.132927</td>\n",
              "    </tr>\n",
              "    <tr>\n",
              "      <th>word_freq_report</th>\n",
              "      <td>0.036780</td>\n",
              "      <td>-0.009206</td>\n",
              "      <td>0.008552</td>\n",
              "      <td>0.012008</td>\n",
              "      <td>0.003445</td>\n",
              "      <td>0.009673</td>\n",
              "      <td>-0.022723</td>\n",
              "      <td>0.012426</td>\n",
              "      <td>0.066840</td>\n",
              "      <td>0.017901</td>\n",
              "      <td>...</td>\n",
              "      <td>-0.019045</td>\n",
              "      <td>-0.005804</td>\n",
              "      <td>-0.014349</td>\n",
              "      <td>-0.008499</td>\n",
              "      <td>0.080953</td>\n",
              "      <td>0.006545</td>\n",
              "      <td>0.003023</td>\n",
              "      <td>0.060993</td>\n",
              "      <td>0.169257</td>\n",
              "      <td>0.060027</td>\n",
              "    </tr>\n",
              "    <tr>\n",
              "      <th>word_freq_addresses</th>\n",
              "      <td>0.028439</td>\n",
              "      <td>0.005330</td>\n",
              "      <td>0.122113</td>\n",
              "      <td>0.002707</td>\n",
              "      <td>0.056177</td>\n",
              "      <td>0.173066</td>\n",
              "      <td>0.042904</td>\n",
              "      <td>0.072782</td>\n",
              "      <td>0.238436</td>\n",
              "      <td>0.160543</td>\n",
              "      <td>...</td>\n",
              "      <td>-0.018277</td>\n",
              "      <td>-0.002551</td>\n",
              "      <td>-0.003111</td>\n",
              "      <td>0.018607</td>\n",
              "      <td>0.123854</td>\n",
              "      <td>-0.005446</td>\n",
              "      <td>0.017383</td>\n",
              "      <td>0.213992</td>\n",
              "      <td>0.151626</td>\n",
              "      <td>0.195902</td>\n",
              "    </tr>\n",
              "    <tr>\n",
              "      <th>word_freq_free</th>\n",
              "      <td>0.059386</td>\n",
              "      <td>-0.009117</td>\n",
              "      <td>0.063906</td>\n",
              "      <td>0.007432</td>\n",
              "      <td>0.083024</td>\n",
              "      <td>0.019865</td>\n",
              "      <td>0.128436</td>\n",
              "      <td>0.051115</td>\n",
              "      <td>0.008269</td>\n",
              "      <td>0.025601</td>\n",
              "      <td>...</td>\n",
              "      <td>-0.026841</td>\n",
              "      <td>-0.046578</td>\n",
              "      <td>-0.029560</td>\n",
              "      <td>0.104261</td>\n",
              "      <td>0.049953</td>\n",
              "      <td>0.035534</td>\n",
              "      <td>0.015036</td>\n",
              "      <td>0.026528</td>\n",
              "      <td>0.003007</td>\n",
              "      <td>0.263215</td>\n",
              "    </tr>\n",
              "    <tr>\n",
              "      <th>word_freq_business</th>\n",
              "      <td>0.081928</td>\n",
              "      <td>-0.018370</td>\n",
              "      <td>0.036262</td>\n",
              "      <td>0.003470</td>\n",
              "      <td>0.143443</td>\n",
              "      <td>0.064137</td>\n",
              "      <td>0.187981</td>\n",
              "      <td>0.216422</td>\n",
              "      <td>0.158390</td>\n",
              "      <td>0.081363</td>\n",
              "      <td>...</td>\n",
              "      <td>-0.031542</td>\n",
              "      <td>-0.035897</td>\n",
              "      <td>-0.036691</td>\n",
              "      <td>0.077049</td>\n",
              "      <td>0.098323</td>\n",
              "      <td>-0.000466</td>\n",
              "      <td>0.038126</td>\n",
              "      <td>0.062672</td>\n",
              "      <td>0.064261</td>\n",
              "      <td>0.263204</td>\n",
              "    </tr>\n",
              "    <tr>\n",
              "      <th>word_freq_email</th>\n",
              "      <td>0.053324</td>\n",
              "      <td>0.033500</td>\n",
              "      <td>0.121923</td>\n",
              "      <td>0.019391</td>\n",
              "      <td>0.062344</td>\n",
              "      <td>0.078350</td>\n",
              "      <td>0.122011</td>\n",
              "      <td>0.037738</td>\n",
              "      <td>0.098804</td>\n",
              "      <td>0.035977</td>\n",
              "      <td>...</td>\n",
              "      <td>-0.039519</td>\n",
              "      <td>-0.035897</td>\n",
              "      <td>-0.017439</td>\n",
              "      <td>0.039350</td>\n",
              "      <td>0.063872</td>\n",
              "      <td>0.020978</td>\n",
              "      <td>-0.007979</td>\n",
              "      <td>0.075122</td>\n",
              "      <td>0.046364</td>\n",
              "      <td>0.204208</td>\n",
              "    </tr>\n",
              "    <tr>\n",
              "      <th>word_freq_you</th>\n",
              "      <td>0.128243</td>\n",
              "      <td>-0.055476</td>\n",
              "      <td>0.139329</td>\n",
              "      <td>-0.010834</td>\n",
              "      <td>0.098510</td>\n",
              "      <td>0.095505</td>\n",
              "      <td>0.111792</td>\n",
              "      <td>0.020641</td>\n",
              "      <td>0.039017</td>\n",
              "      <td>0.093509</td>\n",
              "      <td>...</td>\n",
              "      <td>-0.044314</td>\n",
              "      <td>-0.128882</td>\n",
              "      <td>-0.063826</td>\n",
              "      <td>0.153381</td>\n",
              "      <td>0.091470</td>\n",
              "      <td>-0.002434</td>\n",
              "      <td>-0.030592</td>\n",
              "      <td>0.006530</td>\n",
              "      <td>-0.007307</td>\n",
              "      <td>0.273651</td>\n",
              "    </tr>\n",
              "    <tr>\n",
              "      <th>word_freq_credit</th>\n",
              "      <td>0.021295</td>\n",
              "      <td>-0.015806</td>\n",
              "      <td>0.031111</td>\n",
              "      <td>-0.005381</td>\n",
              "      <td>0.031526</td>\n",
              "      <td>0.058979</td>\n",
              "      <td>0.046134</td>\n",
              "      <td>0.109163</td>\n",
              "      <td>0.123217</td>\n",
              "      <td>0.030859</td>\n",
              "      <td>...</td>\n",
              "      <td>-0.020851</td>\n",
              "      <td>-0.021431</td>\n",
              "      <td>-0.012071</td>\n",
              "      <td>0.048350</td>\n",
              "      <td>0.034948</td>\n",
              "      <td>0.007214</td>\n",
              "      <td>0.067140</td>\n",
              "      <td>0.099463</td>\n",
              "      <td>0.075751</td>\n",
              "      <td>0.189761</td>\n",
              "    </tr>\n",
              "    <tr>\n",
              "      <th>word_freq_your</th>\n",
              "      <td>0.197049</td>\n",
              "      <td>-0.018191</td>\n",
              "      <td>0.156651</td>\n",
              "      <td>0.008176</td>\n",
              "      <td>0.136605</td>\n",
              "      <td>0.106833</td>\n",
              "      <td>0.130794</td>\n",
              "      <td>0.156905</td>\n",
              "      <td>0.159112</td>\n",
              "      <td>0.098072</td>\n",
              "      <td>...</td>\n",
              "      <td>-0.058660</td>\n",
              "      <td>-0.085181</td>\n",
              "      <td>-0.045469</td>\n",
              "      <td>0.084017</td>\n",
              "      <td>0.141649</td>\n",
              "      <td>-0.004355</td>\n",
              "      <td>0.041066</td>\n",
              "      <td>0.085321</td>\n",
              "      <td>0.051797</td>\n",
              "      <td>0.383234</td>\n",
              "    </tr>\n",
              "    <tr>\n",
              "      <th>word_freq_font</th>\n",
              "      <td>-0.024349</td>\n",
              "      <td>-0.008850</td>\n",
              "      <td>-0.035681</td>\n",
              "      <td>0.028102</td>\n",
              "      <td>-0.020207</td>\n",
              "      <td>0.007956</td>\n",
              "      <td>-0.002093</td>\n",
              "      <td>-0.016192</td>\n",
              "      <td>-0.019648</td>\n",
              "      <td>0.008200</td>\n",
              "      <td>...</td>\n",
              "      <td>0.416608</td>\n",
              "      <td>-0.046244</td>\n",
              "      <td>-0.001137</td>\n",
              "      <td>-0.004838</td>\n",
              "      <td>-0.011036</td>\n",
              "      <td>0.184428</td>\n",
              "      <td>0.021497</td>\n",
              "      <td>0.027775</td>\n",
              "      <td>0.103954</td>\n",
              "      <td>0.091860</td>\n",
              "    </tr>\n",
              "    <tr>\n",
              "      <th>word_freq_000</th>\n",
              "      <td>0.134072</td>\n",
              "      <td>-0.020502</td>\n",
              "      <td>0.123671</td>\n",
              "      <td>0.011368</td>\n",
              "      <td>0.070037</td>\n",
              "      <td>0.211455</td>\n",
              "      <td>0.064795</td>\n",
              "      <td>0.089226</td>\n",
              "      <td>0.126800</td>\n",
              "      <td>0.096809</td>\n",
              "      <td>...</td>\n",
              "      <td>-0.027362</td>\n",
              "      <td>-0.033174</td>\n",
              "      <td>-0.000467</td>\n",
              "      <td>0.070103</td>\n",
              "      <td>0.310971</td>\n",
              "      <td>0.020140</td>\n",
              "      <td>0.008372</td>\n",
              "      <td>0.123036</td>\n",
              "      <td>0.165977</td>\n",
              "      <td>0.334787</td>\n",
              "    </tr>\n",
              "    <tr>\n",
              "      <th>word_freq_money</th>\n",
              "      <td>0.188155</td>\n",
              "      <td>0.001984</td>\n",
              "      <td>0.041145</td>\n",
              "      <td>0.035360</td>\n",
              "      <td>0.000039</td>\n",
              "      <td>0.059329</td>\n",
              "      <td>0.030575</td>\n",
              "      <td>0.034127</td>\n",
              "      <td>0.099461</td>\n",
              "      <td>0.052129</td>\n",
              "      <td>...</td>\n",
              "      <td>-0.019139</td>\n",
              "      <td>-0.033113</td>\n",
              "      <td>-0.020798</td>\n",
              "      <td>0.051076</td>\n",
              "      <td>0.104691</td>\n",
              "      <td>0.000703</td>\n",
              "      <td>0.007681</td>\n",
              "      <td>0.044870</td>\n",
              "      <td>0.080993</td>\n",
              "      <td>0.216111</td>\n",
              "    </tr>\n",
              "    <tr>\n",
              "      <th>word_freq_hp</th>\n",
              "      <td>-0.072504</td>\n",
              "      <td>-0.043483</td>\n",
              "      <td>-0.087924</td>\n",
              "      <td>-0.015181</td>\n",
              "      <td>-0.072502</td>\n",
              "      <td>-0.084402</td>\n",
              "      <td>-0.089494</td>\n",
              "      <td>-0.053038</td>\n",
              "      <td>-0.069931</td>\n",
              "      <td>-0.033534</td>\n",
              "      <td>...</td>\n",
              "      <td>0.029181</td>\n",
              "      <td>0.136979</td>\n",
              "      <td>0.039723</td>\n",
              "      <td>-0.090862</td>\n",
              "      <td>-0.086634</td>\n",
              "      <td>0.058780</td>\n",
              "      <td>-0.017285</td>\n",
              "      <td>-0.051206</td>\n",
              "      <td>-0.043267</td>\n",
              "      <td>-0.256723</td>\n",
              "    </tr>\n",
              "    <tr>\n",
              "      <th>word_freq_hpl</th>\n",
              "      <td>-0.061686</td>\n",
              "      <td>-0.038211</td>\n",
              "      <td>-0.062459</td>\n",
              "      <td>-0.013708</td>\n",
              "      <td>-0.075456</td>\n",
              "      <td>-0.087271</td>\n",
              "      <td>-0.080330</td>\n",
              "      <td>-0.041450</td>\n",
              "      <td>-0.049775</td>\n",
              "      <td>-0.013045</td>\n",
              "      <td>...</td>\n",
              "      <td>0.013558</td>\n",
              "      <td>0.144771</td>\n",
              "      <td>0.064349</td>\n",
              "      <td>-0.078367</td>\n",
              "      <td>-0.081198</td>\n",
              "      <td>-0.020691</td>\n",
              "      <td>-0.024234</td>\n",
              "      <td>-0.051806</td>\n",
              "      <td>-0.059601</td>\n",
              "      <td>-0.232968</td>\n",
              "    </tr>\n",
              "    <tr>\n",
              "      <th>word_freq_george</th>\n",
              "      <td>-0.066424</td>\n",
              "      <td>-0.030307</td>\n",
              "      <td>-0.108886</td>\n",
              "      <td>-0.010684</td>\n",
              "      <td>-0.088011</td>\n",
              "      <td>-0.069051</td>\n",
              "      <td>-0.065893</td>\n",
              "      <td>-0.057189</td>\n",
              "      <td>-0.064608</td>\n",
              "      <td>-0.067817</td>\n",
              "      <td>...</td>\n",
              "      <td>-0.022724</td>\n",
              "      <td>-0.028748</td>\n",
              "      <td>-0.017676</td>\n",
              "      <td>-0.067500</td>\n",
              "      <td>-0.068728</td>\n",
              "      <td>-0.020561</td>\n",
              "      <td>-0.025504</td>\n",
              "      <td>-0.054400</td>\n",
              "      <td>-0.096548</td>\n",
              "      <td>-0.183404</td>\n",
              "    </tr>\n",
              "    <tr>\n",
              "      <th>word_freq_650</th>\n",
              "      <td>-0.048680</td>\n",
              "      <td>-0.029221</td>\n",
              "      <td>-0.050648</td>\n",
              "      <td>-0.010368</td>\n",
              "      <td>-0.061501</td>\n",
              "      <td>-0.066223</td>\n",
              "      <td>-0.066947</td>\n",
              "      <td>-0.049988</td>\n",
              "      <td>-0.056764</td>\n",
              "      <td>0.019356</td>\n",
              "      <td>...</td>\n",
              "      <td>-0.025020</td>\n",
              "      <td>0.313835</td>\n",
              "      <td>0.031979</td>\n",
              "      <td>-0.063495</td>\n",
              "      <td>-0.061441</td>\n",
              "      <td>-0.011438</td>\n",
              "      <td>-0.013757</td>\n",
              "      <td>-0.038772</td>\n",
              "      <td>-0.067596</td>\n",
              "      <td>-0.158800</td>\n",
              "    </tr>\n",
              "    <tr>\n",
              "      <th>word_freq_lab</th>\n",
              "      <td>-0.041251</td>\n",
              "      <td>-0.021940</td>\n",
              "      <td>-0.057726</td>\n",
              "      <td>-0.007798</td>\n",
              "      <td>0.032048</td>\n",
              "      <td>-0.048673</td>\n",
              "      <td>-0.048482</td>\n",
              "      <td>-0.037047</td>\n",
              "      <td>-0.044840</td>\n",
              "      <td>-0.026903</td>\n",
              "      <td>...</td>\n",
              "      <td>-0.018502</td>\n",
              "      <td>0.158593</td>\n",
              "      <td>0.006575</td>\n",
              "      <td>-0.042330</td>\n",
              "      <td>-0.050231</td>\n",
              "      <td>0.002076</td>\n",
              "      <td>-0.014936</td>\n",
              "      <td>-0.034733</td>\n",
              "      <td>-0.056628</td>\n",
              "      <td>-0.133523</td>\n",
              "    </tr>\n",
              "    <tr>\n",
              "      <th>word_freq_labs</th>\n",
              "      <td>-0.052799</td>\n",
              "      <td>-0.027508</td>\n",
              "      <td>-0.032547</td>\n",
              "      <td>-0.010476</td>\n",
              "      <td>-0.052066</td>\n",
              "      <td>-0.048127</td>\n",
              "      <td>-0.058101</td>\n",
              "      <td>-0.043405</td>\n",
              "      <td>-0.043643</td>\n",
              "      <td>0.008677</td>\n",
              "      <td>...</td>\n",
              "      <td>-0.019845</td>\n",
              "      <td>0.224192</td>\n",
              "      <td>0.004667</td>\n",
              "      <td>-0.061694</td>\n",
              "      <td>-0.065475</td>\n",
              "      <td>0.082593</td>\n",
              "      <td>-0.016599</td>\n",
              "      <td>-0.039001</td>\n",
              "      <td>-0.064115</td>\n",
              "      <td>-0.171095</td>\n",
              "    </tr>\n",
              "    <tr>\n",
              "      <th>word_freq_telnet</th>\n",
              "      <td>-0.039066</td>\n",
              "      <td>-0.018097</td>\n",
              "      <td>-0.038927</td>\n",
              "      <td>-0.007529</td>\n",
              "      <td>-0.042535</td>\n",
              "      <td>-0.046383</td>\n",
              "      <td>-0.046280</td>\n",
              "      <td>-0.035816</td>\n",
              "      <td>-0.040158</td>\n",
              "      <td>-0.024423</td>\n",
              "      <td>...</td>\n",
              "      <td>-0.016280</td>\n",
              "      <td>0.233392</td>\n",
              "      <td>0.010718</td>\n",
              "      <td>-0.045273</td>\n",
              "      <td>-0.047475</td>\n",
              "      <td>0.000225</td>\n",
              "      <td>-0.010897</td>\n",
              "      <td>-0.027449</td>\n",
              "      <td>-0.045923</td>\n",
              "      <td>-0.126912</td>\n",
              "    </tr>\n",
              "    <tr>\n",
              "      <th>word_freq_857</th>\n",
              "      <td>-0.032058</td>\n",
              "      <td>-0.003326</td>\n",
              "      <td>-0.061870</td>\n",
              "      <td>-0.006717</td>\n",
              "      <td>-0.026748</td>\n",
              "      <td>-0.036835</td>\n",
              "      <td>-0.040538</td>\n",
              "      <td>-0.034276</td>\n",
              "      <td>-0.033984</td>\n",
              "      <td>-0.015137</td>\n",
              "      <td>...</td>\n",
              "      <td>-0.008853</td>\n",
              "      <td>0.304679</td>\n",
              "      <td>0.013805</td>\n",
              "      <td>-0.041529</td>\n",
              "      <td>-0.043484</td>\n",
              "      <td>-0.010735</td>\n",
              "      <td>-0.010498</td>\n",
              "      <td>-0.027732</td>\n",
              "      <td>-0.046796</td>\n",
              "      <td>-0.114214</td>\n",
              "    </tr>\n",
              "    <tr>\n",
              "      <th>word_freq_data</th>\n",
              "      <td>-0.041014</td>\n",
              "      <td>-0.024903</td>\n",
              "      <td>-0.054759</td>\n",
              "      <td>-0.008075</td>\n",
              "      <td>-0.031998</td>\n",
              "      <td>-0.034164</td>\n",
              "      <td>-0.041372</td>\n",
              "      <td>-0.039220</td>\n",
              "      <td>-0.014403</td>\n",
              "      <td>-0.035366</td>\n",
              "      <td>...</td>\n",
              "      <td>-0.005691</td>\n",
              "      <td>0.028655</td>\n",
              "      <td>0.113105</td>\n",
              "      <td>-0.048493</td>\n",
              "      <td>-0.048101</td>\n",
              "      <td>-0.009928</td>\n",
              "      <td>-0.015509</td>\n",
              "      <td>-0.025919</td>\n",
              "      <td>0.006919</td>\n",
              "      <td>-0.119931</td>\n",
              "    </tr>\n",
              "    <tr>\n",
              "      <th>word_freq_415</th>\n",
              "      <td>-0.027690</td>\n",
              "      <td>-0.004303</td>\n",
              "      <td>-0.061706</td>\n",
              "      <td>-0.006729</td>\n",
              "      <td>-0.026960</td>\n",
              "      <td>-0.037315</td>\n",
              "      <td>-0.040910</td>\n",
              "      <td>-0.034811</td>\n",
              "      <td>-0.033601</td>\n",
              "      <td>-0.014434</td>\n",
              "      <td>...</td>\n",
              "      <td>-0.009290</td>\n",
              "      <td>0.303606</td>\n",
              "      <td>0.013687</td>\n",
              "      <td>-0.038626</td>\n",
              "      <td>-0.039844</td>\n",
              "      <td>-0.010635</td>\n",
              "      <td>-0.002404</td>\n",
              "      <td>-0.024532</td>\n",
              "      <td>-0.044529</td>\n",
              "      <td>-0.112754</td>\n",
              "    </tr>\n",
              "    <tr>\n",
              "      <th>word_freq_85</th>\n",
              "      <td>-0.044954</td>\n",
              "      <td>-0.024058</td>\n",
              "      <td>-0.048335</td>\n",
              "      <td>-0.006122</td>\n",
              "      <td>-0.049732</td>\n",
              "      <td>-0.054315</td>\n",
              "      <td>-0.053202</td>\n",
              "      <td>-0.035174</td>\n",
              "      <td>-0.041847</td>\n",
              "      <td>-0.020092</td>\n",
              "      <td>...</td>\n",
              "      <td>-0.021592</td>\n",
              "      <td>0.200713</td>\n",
              "      <td>0.034435</td>\n",
              "      <td>-0.048822</td>\n",
              "      <td>-0.048947</td>\n",
              "      <td>-0.009650</td>\n",
              "      <td>-0.013707</td>\n",
              "      <td>-0.030236</td>\n",
              "      <td>-0.045963</td>\n",
              "      <td>-0.149225</td>\n",
              "    </tr>\n",
              "    <tr>\n",
              "      <th>word_freq_technology</th>\n",
              "      <td>-0.054673</td>\n",
              "      <td>-0.028198</td>\n",
              "      <td>-0.046504</td>\n",
              "      <td>-0.006515</td>\n",
              "      <td>-0.048844</td>\n",
              "      <td>-0.052819</td>\n",
              "      <td>-0.053978</td>\n",
              "      <td>-0.033747</td>\n",
              "      <td>-0.056270</td>\n",
              "      <td>-0.016955</td>\n",
              "      <td>...</td>\n",
              "      <td>-0.018947</td>\n",
              "      <td>0.245454</td>\n",
              "      <td>0.001017</td>\n",
              "      <td>-0.060379</td>\n",
              "      <td>-0.057933</td>\n",
              "      <td>0.006452</td>\n",
              "      <td>-0.019185</td>\n",
              "      <td>-0.038100</td>\n",
              "      <td>-0.045792</td>\n",
              "      <td>-0.136134</td>\n",
              "    </tr>\n",
              "    <tr>\n",
              "      <th>word_freq_1999</th>\n",
              "      <td>-0.057312</td>\n",
              "      <td>-0.024013</td>\n",
              "      <td>-0.067015</td>\n",
              "      <td>-0.007761</td>\n",
              "      <td>-0.072599</td>\n",
              "      <td>-0.057465</td>\n",
              "      <td>-0.052035</td>\n",
              "      <td>-0.017466</td>\n",
              "      <td>-0.033244</td>\n",
              "      <td>-0.004944</td>\n",
              "      <td>...</td>\n",
              "      <td>0.052138</td>\n",
              "      <td>0.107674</td>\n",
              "      <td>0.073010</td>\n",
              "      <td>-0.054578</td>\n",
              "      <td>-0.063895</td>\n",
              "      <td>-0.022637</td>\n",
              "      <td>-0.014423</td>\n",
              "      <td>-0.033204</td>\n",
              "      <td>-0.003490</td>\n",
              "      <td>-0.178045</td>\n",
              "    </tr>\n",
              "    <tr>\n",
              "      <th>word_freq_parts</th>\n",
              "      <td>-0.007960</td>\n",
              "      <td>-0.008922</td>\n",
              "      <td>0.032407</td>\n",
              "      <td>-0.002669</td>\n",
              "      <td>0.130812</td>\n",
              "      <td>-0.017918</td>\n",
              "      <td>-0.014781</td>\n",
              "      <td>-0.012119</td>\n",
              "      <td>-0.002216</td>\n",
              "      <td>-0.017950</td>\n",
              "      <td>...</td>\n",
              "      <td>0.007886</td>\n",
              "      <td>-0.010430</td>\n",
              "      <td>0.001767</td>\n",
              "      <td>-0.015126</td>\n",
              "      <td>-0.012909</td>\n",
              "      <td>-0.003627</td>\n",
              "      <td>-0.006012</td>\n",
              "      <td>-0.009487</td>\n",
              "      <td>-0.013897</td>\n",
              "      <td>-0.031035</td>\n",
              "    </tr>\n",
              "    <tr>\n",
              "      <th>word_freq_pm</th>\n",
              "      <td>-0.011134</td>\n",
              "      <td>-0.019124</td>\n",
              "      <td>-0.014809</td>\n",
              "      <td>-0.004602</td>\n",
              "      <td>-0.042044</td>\n",
              "      <td>-0.047619</td>\n",
              "      <td>-0.046978</td>\n",
              "      <td>-0.030392</td>\n",
              "      <td>-0.040844</td>\n",
              "      <td>-0.016091</td>\n",
              "      <td>...</td>\n",
              "      <td>0.034492</td>\n",
              "      <td>0.107928</td>\n",
              "      <td>0.038474</td>\n",
              "      <td>-0.024846</td>\n",
              "      <td>-0.044513</td>\n",
              "      <td>-0.011326</td>\n",
              "      <td>-0.014032</td>\n",
              "      <td>-0.029229</td>\n",
              "      <td>-0.049256</td>\n",
              "      <td>-0.122831</td>\n",
              "    </tr>\n",
              "    <tr>\n",
              "      <th>word_freq_direct</th>\n",
              "      <td>-0.036095</td>\n",
              "      <td>-0.014821</td>\n",
              "      <td>-0.047066</td>\n",
              "      <td>-0.007643</td>\n",
              "      <td>-0.021442</td>\n",
              "      <td>-0.029866</td>\n",
              "      <td>-0.022121</td>\n",
              "      <td>-0.005988</td>\n",
              "      <td>-0.009867</td>\n",
              "      <td>0.004163</td>\n",
              "      <td>...</td>\n",
              "      <td>-0.018693</td>\n",
              "      <td>0.268701</td>\n",
              "      <td>0.014065</td>\n",
              "      <td>-0.032509</td>\n",
              "      <td>-0.016724</td>\n",
              "      <td>-0.010661</td>\n",
              "      <td>-0.003945</td>\n",
              "      <td>-0.004835</td>\n",
              "      <td>-0.028806</td>\n",
              "      <td>-0.064801</td>\n",
              "    </tr>\n",
              "    <tr>\n",
              "      <th>word_freq_cs</th>\n",
              "      <td>-0.009703</td>\n",
              "      <td>-0.015420</td>\n",
              "      <td>-0.030956</td>\n",
              "      <td>-0.005670</td>\n",
              "      <td>-0.047505</td>\n",
              "      <td>-0.029457</td>\n",
              "      <td>-0.033120</td>\n",
              "      <td>-0.003884</td>\n",
              "      <td>-0.035177</td>\n",
              "      <td>-0.025084</td>\n",
              "      <td>...</td>\n",
              "      <td>0.053034</td>\n",
              "      <td>0.017584</td>\n",
              "      <td>0.034408</td>\n",
              "      <td>-0.025911</td>\n",
              "      <td>-0.036610</td>\n",
              "      <td>-0.011755</td>\n",
              "      <td>-0.008895</td>\n",
              "      <td>-0.023658</td>\n",
              "      <td>-0.026373</td>\n",
              "      <td>-0.097375</td>\n",
              "    </tr>\n",
              "    <tr>\n",
              "      <th>word_freq_meeting</th>\n",
              "      <td>-0.026070</td>\n",
              "      <td>-0.025177</td>\n",
              "      <td>-0.005811</td>\n",
              "      <td>-0.008095</td>\n",
              "      <td>0.115041</td>\n",
              "      <td>-0.054812</td>\n",
              "      <td>-0.049664</td>\n",
              "      <td>-0.043626</td>\n",
              "      <td>-0.048223</td>\n",
              "      <td>-0.054467</td>\n",
              "      <td>...</td>\n",
              "      <td>-0.007817</td>\n",
              "      <td>-0.013082</td>\n",
              "      <td>0.011091</td>\n",
              "      <td>-0.038094</td>\n",
              "      <td>-0.043653</td>\n",
              "      <td>-0.003873</td>\n",
              "      <td>-0.017899</td>\n",
              "      <td>-0.034585</td>\n",
              "      <td>-0.056511</td>\n",
              "      <td>-0.136615</td>\n",
              "    </tr>\n",
              "    <tr>\n",
              "      <th>word_freq_original</th>\n",
              "      <td>-0.024292</td>\n",
              "      <td>-0.002370</td>\n",
              "      <td>-0.044325</td>\n",
              "      <td>-0.009268</td>\n",
              "      <td>-0.048879</td>\n",
              "      <td>-0.030616</td>\n",
              "      <td>-0.049079</td>\n",
              "      <td>-0.004542</td>\n",
              "      <td>-0.034190</td>\n",
              "      <td>0.023200</td>\n",
              "      <td>...</td>\n",
              "      <td>0.015385</td>\n",
              "      <td>0.060568</td>\n",
              "      <td>0.115548</td>\n",
              "      <td>-0.049362</td>\n",
              "      <td>-0.054698</td>\n",
              "      <td>-0.013925</td>\n",
              "      <td>-0.017681</td>\n",
              "      <td>-0.017279</td>\n",
              "      <td>-0.036529</td>\n",
              "      <td>-0.135664</td>\n",
              "    </tr>\n",
              "    <tr>\n",
              "      <th>word_freq_project</th>\n",
              "      <td>-0.022116</td>\n",
              "      <td>-0.019739</td>\n",
              "      <td>-0.053464</td>\n",
              "      <td>-0.005933</td>\n",
              "      <td>0.015234</td>\n",
              "      <td>-0.028826</td>\n",
              "      <td>-0.034461</td>\n",
              "      <td>-0.030134</td>\n",
              "      <td>-0.035159</td>\n",
              "      <td>-0.026654</td>\n",
              "      <td>...</td>\n",
              "      <td>-0.007257</td>\n",
              "      <td>-0.003203</td>\n",
              "      <td>-0.010733</td>\n",
              "      <td>-0.033837</td>\n",
              "      <td>-0.036241</td>\n",
              "      <td>0.001167</td>\n",
              "      <td>-0.013157</td>\n",
              "      <td>-0.025918</td>\n",
              "      <td>-0.040661</td>\n",
              "      <td>-0.094594</td>\n",
              "    </tr>\n",
              "    <tr>\n",
              "      <th>word_freq_re</th>\n",
              "      <td>-0.037105</td>\n",
              "      <td>-0.016418</td>\n",
              "      <td>-0.050664</td>\n",
              "      <td>-0.012957</td>\n",
              "      <td>-0.042336</td>\n",
              "      <td>-0.053637</td>\n",
              "      <td>-0.050811</td>\n",
              "      <td>-0.002423</td>\n",
              "      <td>-0.075558</td>\n",
              "      <td>-0.032065</td>\n",
              "      <td>...</td>\n",
              "      <td>-0.024698</td>\n",
              "      <td>0.001413</td>\n",
              "      <td>0.008838</td>\n",
              "      <td>0.067569</td>\n",
              "      <td>-0.049367</td>\n",
              "      <td>-0.023878</td>\n",
              "      <td>-0.026979</td>\n",
              "      <td>-0.051858</td>\n",
              "      <td>-0.095444</td>\n",
              "      <td>-0.140408</td>\n",
              "    </tr>\n",
              "    <tr>\n",
              "      <th>word_freq_edu</th>\n",
              "      <td>-0.034056</td>\n",
              "      <td>-0.023858</td>\n",
              "      <td>-0.056655</td>\n",
              "      <td>-0.009181</td>\n",
              "      <td>-0.077986</td>\n",
              "      <td>-0.033046</td>\n",
              "      <td>-0.056166</td>\n",
              "      <td>-0.037916</td>\n",
              "      <td>-0.056817</td>\n",
              "      <td>-0.030326</td>\n",
              "      <td>...</td>\n",
              "      <td>0.015382</td>\n",
              "      <td>0.014763</td>\n",
              "      <td>-0.003168</td>\n",
              "      <td>-0.028845</td>\n",
              "      <td>-0.050109</td>\n",
              "      <td>-0.015040</td>\n",
              "      <td>-0.017408</td>\n",
              "      <td>-0.033365</td>\n",
              "      <td>-0.046371</td>\n",
              "      <td>-0.146138</td>\n",
              "    </tr>\n",
              "    <tr>\n",
              "      <th>word_freq_table</th>\n",
              "      <td>-0.000953</td>\n",
              "      <td>-0.009818</td>\n",
              "      <td>0.029339</td>\n",
              "      <td>-0.003348</td>\n",
              "      <td>-0.026900</td>\n",
              "      <td>-0.014343</td>\n",
              "      <td>-0.017512</td>\n",
              "      <td>-0.006397</td>\n",
              "      <td>0.007521</td>\n",
              "      <td>-0.015546</td>\n",
              "      <td>...</td>\n",
              "      <td>0.000995</td>\n",
              "      <td>-0.003085</td>\n",
              "      <td>-0.004592</td>\n",
              "      <td>-0.017679</td>\n",
              "      <td>-0.018549</td>\n",
              "      <td>0.000308</td>\n",
              "      <td>-0.006465</td>\n",
              "      <td>-0.010154</td>\n",
              "      <td>0.005158</td>\n",
              "      <td>-0.044679</td>\n",
              "    </tr>\n",
              "    <tr>\n",
              "      <th>word_freq_conference</th>\n",
              "      <td>-0.017755</td>\n",
              "      <td>-0.015747</td>\n",
              "      <td>-0.026344</td>\n",
              "      <td>-0.001924</td>\n",
              "      <td>-0.032005</td>\n",
              "      <td>-0.031693</td>\n",
              "      <td>-0.031408</td>\n",
              "      <td>-0.021224</td>\n",
              "      <td>-0.026017</td>\n",
              "      <td>-0.016842</td>\n",
              "      <td>...</td>\n",
              "      <td>-0.002290</td>\n",
              "      <td>-0.012795</td>\n",
              "      <td>-0.006310</td>\n",
              "      <td>-0.026576</td>\n",
              "      <td>-0.030751</td>\n",
              "      <td>-0.008575</td>\n",
              "      <td>-0.008114</td>\n",
              "      <td>-0.016894</td>\n",
              "      <td>-0.010033</td>\n",
              "      <td>-0.084020</td>\n",
              "    </tr>\n",
              "    <tr>\n",
              "      <th>char_freq_;</th>\n",
              "      <td>-0.026505</td>\n",
              "      <td>-0.007282</td>\n",
              "      <td>-0.033213</td>\n",
              "      <td>-0.000591</td>\n",
              "      <td>-0.032759</td>\n",
              "      <td>-0.019119</td>\n",
              "      <td>-0.033089</td>\n",
              "      <td>-0.027432</td>\n",
              "      <td>-0.014646</td>\n",
              "      <td>0.011945</td>\n",
              "      <td>...</td>\n",
              "      <td>1.000000</td>\n",
              "      <td>0.049124</td>\n",
              "      <td>0.009070</td>\n",
              "      <td>0.020539</td>\n",
              "      <td>0.006392</td>\n",
              "      <td>0.055057</td>\n",
              "      <td>0.003443</td>\n",
              "      <td>0.040829</td>\n",
              "      <td>0.055298</td>\n",
              "      <td>-0.059630</td>\n",
              "    </tr>\n",
              "    <tr>\n",
              "      <th>char_freq_(</th>\n",
              "      <td>-0.021196</td>\n",
              "      <td>-0.049837</td>\n",
              "      <td>-0.016495</td>\n",
              "      <td>-0.012370</td>\n",
              "      <td>-0.046361</td>\n",
              "      <td>-0.008705</td>\n",
              "      <td>-0.051885</td>\n",
              "      <td>-0.032494</td>\n",
              "      <td>-0.031003</td>\n",
              "      <td>0.003936</td>\n",
              "      <td>...</td>\n",
              "      <td>0.049124</td>\n",
              "      <td>1.000000</td>\n",
              "      <td>0.022316</td>\n",
              "      <td>-0.030354</td>\n",
              "      <td>0.044722</td>\n",
              "      <td>0.023322</td>\n",
              "      <td>0.034365</td>\n",
              "      <td>0.370963</td>\n",
              "      <td>0.112209</td>\n",
              "      <td>-0.089672</td>\n",
              "    </tr>\n",
              "    <tr>\n",
              "      <th>char_freq_[</th>\n",
              "      <td>-0.033301</td>\n",
              "      <td>-0.018527</td>\n",
              "      <td>-0.033120</td>\n",
              "      <td>-0.007148</td>\n",
              "      <td>-0.026390</td>\n",
              "      <td>-0.015133</td>\n",
              "      <td>-0.027653</td>\n",
              "      <td>-0.019548</td>\n",
              "      <td>0.013601</td>\n",
              "      <td>0.007357</td>\n",
              "      <td>...</td>\n",
              "      <td>0.009070</td>\n",
              "      <td>0.022316</td>\n",
              "      <td>1.000000</td>\n",
              "      <td>-0.031769</td>\n",
              "      <td>-0.026400</td>\n",
              "      <td>-0.006863</td>\n",
              "      <td>-0.008180</td>\n",
              "      <td>-0.013994</td>\n",
              "      <td>0.006016</td>\n",
              "      <td>-0.064709</td>\n",
              "    </tr>\n",
              "    <tr>\n",
              "      <th>char_freq_!</th>\n",
              "      <td>0.058292</td>\n",
              "      <td>-0.014461</td>\n",
              "      <td>0.108140</td>\n",
              "      <td>-0.003138</td>\n",
              "      <td>0.025509</td>\n",
              "      <td>0.065043</td>\n",
              "      <td>0.053706</td>\n",
              "      <td>0.031454</td>\n",
              "      <td>0.043639</td>\n",
              "      <td>0.036737</td>\n",
              "      <td>...</td>\n",
              "      <td>0.020539</td>\n",
              "      <td>-0.030354</td>\n",
              "      <td>-0.031769</td>\n",
              "      <td>1.000000</td>\n",
              "      <td>0.142913</td>\n",
              "      <td>0.020924</td>\n",
              "      <td>0.054308</td>\n",
              "      <td>0.077392</td>\n",
              "      <td>0.036321</td>\n",
              "      <td>0.241888</td>\n",
              "    </tr>\n",
              "    <tr>\n",
              "      <th>char_freq_$</th>\n",
              "      <td>0.117419</td>\n",
              "      <td>-0.009605</td>\n",
              "      <td>0.087618</td>\n",
              "      <td>0.010862</td>\n",
              "      <td>0.041582</td>\n",
              "      <td>0.105692</td>\n",
              "      <td>0.070127</td>\n",
              "      <td>0.057910</td>\n",
              "      <td>0.149365</td>\n",
              "      <td>0.075786</td>\n",
              "      <td>...</td>\n",
              "      <td>0.006392</td>\n",
              "      <td>0.044722</td>\n",
              "      <td>-0.026400</td>\n",
              "      <td>0.142913</td>\n",
              "      <td>1.000000</td>\n",
              "      <td>0.012613</td>\n",
              "      <td>0.079998</td>\n",
              "      <td>0.183144</td>\n",
              "      <td>0.201948</td>\n",
              "      <td>0.323629</td>\n",
              "    </tr>\n",
              "    <tr>\n",
              "      <th>char_freq_#</th>\n",
              "      <td>-0.008844</td>\n",
              "      <td>0.001946</td>\n",
              "      <td>-0.003336</td>\n",
              "      <td>-0.000298</td>\n",
              "      <td>0.002016</td>\n",
              "      <td>0.019894</td>\n",
              "      <td>0.046612</td>\n",
              "      <td>-0.008012</td>\n",
              "      <td>-0.000522</td>\n",
              "      <td>0.044830</td>\n",
              "      <td>...</td>\n",
              "      <td>0.055057</td>\n",
              "      <td>0.023322</td>\n",
              "      <td>-0.006863</td>\n",
              "      <td>0.020924</td>\n",
              "      <td>0.012613</td>\n",
              "      <td>1.000000</td>\n",
              "      <td>0.013497</td>\n",
              "      <td>0.061657</td>\n",
              "      <td>0.042568</td>\n",
              "      <td>0.065067</td>\n",
              "    </tr>\n",
              "    <tr>\n",
              "      <th>capital_run_length_average</th>\n",
              "      <td>0.044491</td>\n",
              "      <td>0.002083</td>\n",
              "      <td>0.097398</td>\n",
              "      <td>0.005260</td>\n",
              "      <td>0.052662</td>\n",
              "      <td>-0.010278</td>\n",
              "      <td>0.041565</td>\n",
              "      <td>0.011254</td>\n",
              "      <td>0.111308</td>\n",
              "      <td>0.073677</td>\n",
              "      <td>...</td>\n",
              "      <td>0.003443</td>\n",
              "      <td>0.034365</td>\n",
              "      <td>-0.008180</td>\n",
              "      <td>0.054308</td>\n",
              "      <td>0.079998</td>\n",
              "      <td>0.013497</td>\n",
              "      <td>1.000000</td>\n",
              "      <td>0.492638</td>\n",
              "      <td>0.162314</td>\n",
              "      <td>0.109999</td>\n",
              "    </tr>\n",
              "    <tr>\n",
              "      <th>capital_run_length_longest</th>\n",
              "      <td>0.061382</td>\n",
              "      <td>0.000271</td>\n",
              "      <td>0.107463</td>\n",
              "      <td>0.022081</td>\n",
              "      <td>0.052290</td>\n",
              "      <td>0.090172</td>\n",
              "      <td>0.059677</td>\n",
              "      <td>0.037575</td>\n",
              "      <td>0.189247</td>\n",
              "      <td>0.103308</td>\n",
              "      <td>...</td>\n",
              "      <td>0.040829</td>\n",
              "      <td>0.370963</td>\n",
              "      <td>-0.013994</td>\n",
              "      <td>0.077392</td>\n",
              "      <td>0.183144</td>\n",
              "      <td>0.061657</td>\n",
              "      <td>0.492638</td>\n",
              "      <td>1.000000</td>\n",
              "      <td>0.475486</td>\n",
              "      <td>0.216097</td>\n",
              "    </tr>\n",
              "    <tr>\n",
              "      <th>capital_run_length_total</th>\n",
              "      <td>0.089165</td>\n",
              "      <td>-0.022680</td>\n",
              "      <td>0.070114</td>\n",
              "      <td>0.021369</td>\n",
              "      <td>0.002492</td>\n",
              "      <td>0.082089</td>\n",
              "      <td>-0.008344</td>\n",
              "      <td>0.040252</td>\n",
              "      <td>0.248724</td>\n",
              "      <td>0.087273</td>\n",
              "      <td>...</td>\n",
              "      <td>0.055298</td>\n",
              "      <td>0.112209</td>\n",
              "      <td>0.006016</td>\n",
              "      <td>0.036321</td>\n",
              "      <td>0.201948</td>\n",
              "      <td>0.042568</td>\n",
              "      <td>0.162314</td>\n",
              "      <td>0.475486</td>\n",
              "      <td>1.000000</td>\n",
              "      <td>0.249164</td>\n",
              "    </tr>\n",
              "    <tr>\n",
              "      <th>Class</th>\n",
              "      <td>0.126208</td>\n",
              "      <td>-0.030224</td>\n",
              "      <td>0.196988</td>\n",
              "      <td>0.057371</td>\n",
              "      <td>0.241920</td>\n",
              "      <td>0.232604</td>\n",
              "      <td>0.332117</td>\n",
              "      <td>0.206808</td>\n",
              "      <td>0.231551</td>\n",
              "      <td>0.138962</td>\n",
              "      <td>...</td>\n",
              "      <td>-0.059630</td>\n",
              "      <td>-0.089672</td>\n",
              "      <td>-0.064709</td>\n",
              "      <td>0.241888</td>\n",
              "      <td>0.323629</td>\n",
              "      <td>0.065067</td>\n",
              "      <td>0.109999</td>\n",
              "      <td>0.216097</td>\n",
              "      <td>0.249164</td>\n",
              "      <td>1.000000</td>\n",
              "    </tr>\n",
              "  </tbody>\n",
              "</table>\n",
              "<p>58 rows × 58 columns</p>\n",
              "</div>\n",
              "    <div class=\"colab-df-buttons\">\n",
              "\n",
              "  <div class=\"colab-df-container\">\n",
              "    <button class=\"colab-df-convert\" onclick=\"convertToInteractive('df-e9be0493-db1f-42e1-86b3-62c7b23a21de')\"\n",
              "            title=\"Convert this dataframe to an interactive table.\"\n",
              "            style=\"display:none;\">\n",
              "\n",
              "  <svg xmlns=\"http://www.w3.org/2000/svg\" height=\"24px\" viewBox=\"0 -960 960 960\">\n",
              "    <path d=\"M120-120v-720h720v720H120Zm60-500h600v-160H180v160Zm220 220h160v-160H400v160Zm0 220h160v-160H400v160ZM180-400h160v-160H180v160Zm440 0h160v-160H620v160ZM180-180h160v-160H180v160Zm440 0h160v-160H620v160Z\"/>\n",
              "  </svg>\n",
              "    </button>\n",
              "\n",
              "  <style>\n",
              "    .colab-df-container {\n",
              "      display:flex;\n",
              "      gap: 12px;\n",
              "    }\n",
              "\n",
              "    .colab-df-convert {\n",
              "      background-color: #E8F0FE;\n",
              "      border: none;\n",
              "      border-radius: 50%;\n",
              "      cursor: pointer;\n",
              "      display: none;\n",
              "      fill: #1967D2;\n",
              "      height: 32px;\n",
              "      padding: 0 0 0 0;\n",
              "      width: 32px;\n",
              "    }\n",
              "\n",
              "    .colab-df-convert:hover {\n",
              "      background-color: #E2EBFA;\n",
              "      box-shadow: 0px 1px 2px rgba(60, 64, 67, 0.3), 0px 1px 3px 1px rgba(60, 64, 67, 0.15);\n",
              "      fill: #174EA6;\n",
              "    }\n",
              "\n",
              "    .colab-df-buttons div {\n",
              "      margin-bottom: 4px;\n",
              "    }\n",
              "\n",
              "    [theme=dark] .colab-df-convert {\n",
              "      background-color: #3B4455;\n",
              "      fill: #D2E3FC;\n",
              "    }\n",
              "\n",
              "    [theme=dark] .colab-df-convert:hover {\n",
              "      background-color: #434B5C;\n",
              "      box-shadow: 0px 1px 3px 1px rgba(0, 0, 0, 0.15);\n",
              "      filter: drop-shadow(0px 1px 2px rgba(0, 0, 0, 0.3));\n",
              "      fill: #FFFFFF;\n",
              "    }\n",
              "  </style>\n",
              "\n",
              "    <script>\n",
              "      const buttonEl =\n",
              "        document.querySelector('#df-e9be0493-db1f-42e1-86b3-62c7b23a21de button.colab-df-convert');\n",
              "      buttonEl.style.display =\n",
              "        google.colab.kernel.accessAllowed ? 'block' : 'none';\n",
              "\n",
              "      async function convertToInteractive(key) {\n",
              "        const element = document.querySelector('#df-e9be0493-db1f-42e1-86b3-62c7b23a21de');\n",
              "        const dataTable =\n",
              "          await google.colab.kernel.invokeFunction('convertToInteractive',\n",
              "                                                    [key], {});\n",
              "        if (!dataTable) return;\n",
              "\n",
              "        const docLinkHtml = 'Like what you see? Visit the ' +\n",
              "          '<a target=\"_blank\" href=https://colab.research.google.com/notebooks/data_table.ipynb>data table notebook</a>'\n",
              "          + ' to learn more about interactive tables.';\n",
              "        element.innerHTML = '';\n",
              "        dataTable['output_type'] = 'display_data';\n",
              "        await google.colab.output.renderOutput(dataTable, element);\n",
              "        const docLink = document.createElement('div');\n",
              "        docLink.innerHTML = docLinkHtml;\n",
              "        element.appendChild(docLink);\n",
              "      }\n",
              "    </script>\n",
              "  </div>\n",
              "\n",
              "\n",
              "<div id=\"df-20f29058-a411-4662-a534-0fa7fc429a88\">\n",
              "  <button class=\"colab-df-quickchart\" onclick=\"quickchart('df-20f29058-a411-4662-a534-0fa7fc429a88')\"\n",
              "            title=\"Suggest charts\"\n",
              "            style=\"display:none;\">\n",
              "\n",
              "<svg xmlns=\"http://www.w3.org/2000/svg\" height=\"24px\"viewBox=\"0 0 24 24\"\n",
              "     width=\"24px\">\n",
              "    <g>\n",
              "        <path d=\"M19 3H5c-1.1 0-2 .9-2 2v14c0 1.1.9 2 2 2h14c1.1 0 2-.9 2-2V5c0-1.1-.9-2-2-2zM9 17H7v-7h2v7zm4 0h-2V7h2v10zm4 0h-2v-4h2v4z\"/>\n",
              "    </g>\n",
              "</svg>\n",
              "  </button>\n",
              "\n",
              "<style>\n",
              "  .colab-df-quickchart {\n",
              "      --bg-color: #E8F0FE;\n",
              "      --fill-color: #1967D2;\n",
              "      --hover-bg-color: #E2EBFA;\n",
              "      --hover-fill-color: #174EA6;\n",
              "      --disabled-fill-color: #AAA;\n",
              "      --disabled-bg-color: #DDD;\n",
              "  }\n",
              "\n",
              "  [theme=dark] .colab-df-quickchart {\n",
              "      --bg-color: #3B4455;\n",
              "      --fill-color: #D2E3FC;\n",
              "      --hover-bg-color: #434B5C;\n",
              "      --hover-fill-color: #FFFFFF;\n",
              "      --disabled-bg-color: #3B4455;\n",
              "      --disabled-fill-color: #666;\n",
              "  }\n",
              "\n",
              "  .colab-df-quickchart {\n",
              "    background-color: var(--bg-color);\n",
              "    border: none;\n",
              "    border-radius: 50%;\n",
              "    cursor: pointer;\n",
              "    display: none;\n",
              "    fill: var(--fill-color);\n",
              "    height: 32px;\n",
              "    padding: 0;\n",
              "    width: 32px;\n",
              "  }\n",
              "\n",
              "  .colab-df-quickchart:hover {\n",
              "    background-color: var(--hover-bg-color);\n",
              "    box-shadow: 0 1px 2px rgba(60, 64, 67, 0.3), 0 1px 3px 1px rgba(60, 64, 67, 0.15);\n",
              "    fill: var(--button-hover-fill-color);\n",
              "  }\n",
              "\n",
              "  .colab-df-quickchart-complete:disabled,\n",
              "  .colab-df-quickchart-complete:disabled:hover {\n",
              "    background-color: var(--disabled-bg-color);\n",
              "    fill: var(--disabled-fill-color);\n",
              "    box-shadow: none;\n",
              "  }\n",
              "\n",
              "  .colab-df-spinner {\n",
              "    border: 2px solid var(--fill-color);\n",
              "    border-color: transparent;\n",
              "    border-bottom-color: var(--fill-color);\n",
              "    animation:\n",
              "      spin 1s steps(1) infinite;\n",
              "  }\n",
              "\n",
              "  @keyframes spin {\n",
              "    0% {\n",
              "      border-color: transparent;\n",
              "      border-bottom-color: var(--fill-color);\n",
              "      border-left-color: var(--fill-color);\n",
              "    }\n",
              "    20% {\n",
              "      border-color: transparent;\n",
              "      border-left-color: var(--fill-color);\n",
              "      border-top-color: var(--fill-color);\n",
              "    }\n",
              "    30% {\n",
              "      border-color: transparent;\n",
              "      border-left-color: var(--fill-color);\n",
              "      border-top-color: var(--fill-color);\n",
              "      border-right-color: var(--fill-color);\n",
              "    }\n",
              "    40% {\n",
              "      border-color: transparent;\n",
              "      border-right-color: var(--fill-color);\n",
              "      border-top-color: var(--fill-color);\n",
              "    }\n",
              "    60% {\n",
              "      border-color: transparent;\n",
              "      border-right-color: var(--fill-color);\n",
              "    }\n",
              "    80% {\n",
              "      border-color: transparent;\n",
              "      border-right-color: var(--fill-color);\n",
              "      border-bottom-color: var(--fill-color);\n",
              "    }\n",
              "    90% {\n",
              "      border-color: transparent;\n",
              "      border-bottom-color: var(--fill-color);\n",
              "    }\n",
              "  }\n",
              "</style>\n",
              "\n",
              "  <script>\n",
              "    async function quickchart(key) {\n",
              "      const quickchartButtonEl =\n",
              "        document.querySelector('#' + key + ' button');\n",
              "      quickchartButtonEl.disabled = true;  // To prevent multiple clicks.\n",
              "      quickchartButtonEl.classList.add('colab-df-spinner');\n",
              "      try {\n",
              "        const charts = await google.colab.kernel.invokeFunction(\n",
              "            'suggestCharts', [key], {});\n",
              "      } catch (error) {\n",
              "        console.error('Error during call to suggestCharts:', error);\n",
              "      }\n",
              "      quickchartButtonEl.classList.remove('colab-df-spinner');\n",
              "      quickchartButtonEl.classList.add('colab-df-quickchart-complete');\n",
              "    }\n",
              "    (() => {\n",
              "      let quickchartButtonEl =\n",
              "        document.querySelector('#df-20f29058-a411-4662-a534-0fa7fc429a88 button');\n",
              "      quickchartButtonEl.style.display =\n",
              "        google.colab.kernel.accessAllowed ? 'block' : 'none';\n",
              "    })();\n",
              "  </script>\n",
              "</div>\n",
              "\n",
              "  <div id=\"id_8c1594d6-aae8-41c4-93c7-4b71ef638036\">\n",
              "    <style>\n",
              "      .colab-df-generate {\n",
              "        background-color: #E8F0FE;\n",
              "        border: none;\n",
              "        border-radius: 50%;\n",
              "        cursor: pointer;\n",
              "        display: none;\n",
              "        fill: #1967D2;\n",
              "        height: 32px;\n",
              "        padding: 0 0 0 0;\n",
              "        width: 32px;\n",
              "      }\n",
              "\n",
              "      .colab-df-generate:hover {\n",
              "        background-color: #E2EBFA;\n",
              "        box-shadow: 0px 1px 2px rgba(60, 64, 67, 0.3), 0px 1px 3px 1px rgba(60, 64, 67, 0.15);\n",
              "        fill: #174EA6;\n",
              "      }\n",
              "\n",
              "      [theme=dark] .colab-df-generate {\n",
              "        background-color: #3B4455;\n",
              "        fill: #D2E3FC;\n",
              "      }\n",
              "\n",
              "      [theme=dark] .colab-df-generate:hover {\n",
              "        background-color: #434B5C;\n",
              "        box-shadow: 0px 1px 3px 1px rgba(0, 0, 0, 0.15);\n",
              "        filter: drop-shadow(0px 1px 2px rgba(0, 0, 0, 0.3));\n",
              "        fill: #FFFFFF;\n",
              "      }\n",
              "    </style>\n",
              "    <button class=\"colab-df-generate\" onclick=\"generateWithVariable('full_corr')\"\n",
              "            title=\"Generate code using this dataframe.\"\n",
              "            style=\"display:none;\">\n",
              "\n",
              "  <svg xmlns=\"http://www.w3.org/2000/svg\" height=\"24px\"viewBox=\"0 0 24 24\"\n",
              "       width=\"24px\">\n",
              "    <path d=\"M7,19H8.4L18.45,9,17,7.55,7,17.6ZM5,21V16.75L18.45,3.32a2,2,0,0,1,2.83,0l1.4,1.43a1.91,1.91,0,0,1,.58,1.4,1.91,1.91,0,0,1-.58,1.4L9.25,21ZM18.45,9,17,7.55Zm-12,3A5.31,5.31,0,0,0,4.9,8.1,5.31,5.31,0,0,0,1,6.5,5.31,5.31,0,0,0,4.9,4.9,5.31,5.31,0,0,0,6.5,1,5.31,5.31,0,0,0,8.1,4.9,5.31,5.31,0,0,0,12,6.5,5.46,5.46,0,0,0,6.5,12Z\"/>\n",
              "  </svg>\n",
              "    </button>\n",
              "    <script>\n",
              "      (() => {\n",
              "      const buttonEl =\n",
              "        document.querySelector('#id_8c1594d6-aae8-41c4-93c7-4b71ef638036 button.colab-df-generate');\n",
              "      buttonEl.style.display =\n",
              "        google.colab.kernel.accessAllowed ? 'block' : 'none';\n",
              "\n",
              "      buttonEl.onclick = () => {\n",
              "        google.colab.notebook.generateWithVariable('full_corr');\n",
              "      }\n",
              "      })();\n",
              "    </script>\n",
              "  </div>\n",
              "\n",
              "    </div>\n",
              "  </div>\n"
            ],
            "application/vnd.google.colaboratory.intrinsic+json": {
              "type": "dataframe",
              "variable_name": "full_corr"
            }
          },
          "metadata": {},
          "execution_count": 81
        }
      ],
      "source": [
        "full_df = pd.concat([X, y], axis=1)\n",
        "full_corr = full_df.corr()\n",
        "full_corr"
      ]
    },
    {
      "cell_type": "markdown",
      "metadata": {
        "id": "4sr84AFdnxMh"
      },
      "source": [
        "# dropping columns with less than 1% correlation"
      ]
    },
    {
      "cell_type": "code",
      "execution_count": 82,
      "metadata": {
        "colab": {
          "base_uri": "https://localhost:8080/"
        },
        "id": "2e0PDOwFmaAs",
        "outputId": "c0e19749-c46f-41c6-97f8-d81678d5cca4"
      },
      "outputs": [
        {
          "output_type": "stream",
          "name": "stdout",
          "text": [
            "<class 'pandas.core.frame.DataFrame'>\n",
            "RangeIndex: 4601 entries, 0 to 4600\n",
            "Data columns (total 53 columns):\n",
            " #   Column                      Non-Null Count  Dtype  \n",
            "---  ------                      --------------  -----  \n",
            " 0   word_freq_make              4601 non-null   float64\n",
            " 1   word_freq_all               4601 non-null   float64\n",
            " 2   word_freq_3d                4601 non-null   float64\n",
            " 3   word_freq_our               4601 non-null   float64\n",
            " 4   word_freq_over              4601 non-null   float64\n",
            " 5   word_freq_remove            4601 non-null   float64\n",
            " 6   word_freq_internet          4601 non-null   float64\n",
            " 7   word_freq_order             4601 non-null   float64\n",
            " 8   word_freq_mail              4601 non-null   float64\n",
            " 9   word_freq_receive           4601 non-null   float64\n",
            " 10  word_freq_people            4601 non-null   float64\n",
            " 11  word_freq_report            4601 non-null   float64\n",
            " 12  word_freq_addresses         4601 non-null   float64\n",
            " 13  word_freq_free              4601 non-null   float64\n",
            " 14  word_freq_business          4601 non-null   float64\n",
            " 15  word_freq_email             4601 non-null   float64\n",
            " 16  word_freq_you               4601 non-null   float64\n",
            " 17  word_freq_credit            4601 non-null   float64\n",
            " 18  word_freq_your              4601 non-null   float64\n",
            " 19  word_freq_font              4601 non-null   float64\n",
            " 20  word_freq_000               4601 non-null   float64\n",
            " 21  word_freq_money             4601 non-null   float64\n",
            " 22  word_freq_hp                4601 non-null   float64\n",
            " 23  word_freq_hpl               4601 non-null   float64\n",
            " 24  word_freq_george            4601 non-null   float64\n",
            " 25  word_freq_650               4601 non-null   float64\n",
            " 26  word_freq_lab               4601 non-null   float64\n",
            " 27  word_freq_labs              4601 non-null   float64\n",
            " 28  word_freq_telnet            4601 non-null   float64\n",
            " 29  word_freq_857               4601 non-null   float64\n",
            " 30  word_freq_data              4601 non-null   float64\n",
            " 31  word_freq_415               4601 non-null   float64\n",
            " 32  word_freq_85                4601 non-null   float64\n",
            " 33  word_freq_technology        4601 non-null   float64\n",
            " 34  word_freq_1999              4601 non-null   float64\n",
            " 35  word_freq_pm                4601 non-null   float64\n",
            " 36  word_freq_direct            4601 non-null   float64\n",
            " 37  word_freq_cs                4601 non-null   float64\n",
            " 38  word_freq_meeting           4601 non-null   float64\n",
            " 39  word_freq_original          4601 non-null   float64\n",
            " 40  word_freq_project           4601 non-null   float64\n",
            " 41  word_freq_re                4601 non-null   float64\n",
            " 42  word_freq_edu               4601 non-null   float64\n",
            " 43  word_freq_conference        4601 non-null   float64\n",
            " 44  char_freq_;                 4601 non-null   float64\n",
            " 45  char_freq_(                 4601 non-null   float64\n",
            " 46  char_freq_[                 4601 non-null   float64\n",
            " 47  char_freq_!                 4601 non-null   float64\n",
            " 48  char_freq_$                 4601 non-null   float64\n",
            " 49  char_freq_#                 4601 non-null   float64\n",
            " 50  capital_run_length_average  4601 non-null   float64\n",
            " 51  capital_run_length_longest  4601 non-null   int64  \n",
            " 52  capital_run_length_total    4601 non-null   int64  \n",
            "dtypes: float64(51), int64(2)\n",
            "memory usage: 1.9 MB\n"
          ]
        },
        {
          "output_type": "stream",
          "name": "stderr",
          "text": [
            "<ipython-input-82-fd104d4efad6>:6: SettingWithCopyWarning: \n",
            "A value is trying to be set on a copy of a slice from a DataFrame\n",
            "\n",
            "See the caveats in the documentation: https://pandas.pydata.org/pandas-docs/stable/user_guide/indexing.html#returning-a-view-versus-a-copy\n",
            "  X.drop(X.columns[indexes_with_lessthan_10_corr], axis=1,inplace=True)\n"
          ]
        }
      ],
      "source": [
        "corr_coef_with_target_value = full_corr[\"Class\"].values\n",
        "indexes_with_lessthan_10_corr = []\n",
        "for i in corr_coef_with_target_value:\n",
        "  if (abs(i)<0.05):\n",
        "    indexes_with_lessthan_10_corr.append(indexOf(corr_coef_with_target_value,i))\n",
        "X.drop(X.columns[indexes_with_lessthan_10_corr], axis=1,inplace=True)\n",
        "X.info()\n"
      ]
    },
    {
      "cell_type": "markdown",
      "metadata": {
        "id": "6umiTZ-abmHX"
      },
      "source": [
        "# Splitting training data into training and testing datasets"
      ]
    },
    {
      "cell_type": "code",
      "execution_count": 83,
      "metadata": {
        "id": "CpFZdu8NbuKE"
      },
      "outputs": [],
      "source": [
        "from sklearn.model_selection import train_test_split\n",
        "X_train, X_test, y_train, y_test = train_test_split(X, y, test_size = 0.25, random_state = 0)\n"
      ]
    },
    {
      "cell_type": "markdown",
      "metadata": {
        "id": "C4usnzaB8QQt"
      },
      "source": [
        "#Data scaling"
      ]
    },
    {
      "cell_type": "code",
      "execution_count": 84,
      "metadata": {
        "id": "xGgL9a3t8VfF"
      },
      "outputs": [],
      "source": [
        "# from sklearn.preprocessing import StandardScaler\n",
        "# sc = StandardScaler()\n",
        "# X_train = sc.fit_transform(X_train)\n",
        "# X_test = sc.transform(X_test)\n",
        "\n",
        "# df_test = sc.transform(df_test)"
      ]
    },
    {
      "cell_type": "code",
      "source": [
        "# from sklearn.preprocessing import MinMaxScaler\n",
        "# scaler = MinMaxScaler()\n",
        "# X_train = scaler.fit_transform(X_train)\n",
        "# X_test = scaler.transform(X_test)\n",
        "\n",
        "# df_test = scaler.transform(df_test)\n"
      ],
      "metadata": {
        "id": "OBLm_kKuFTee"
      },
      "execution_count": 85,
      "outputs": []
    },
    {
      "cell_type": "code",
      "source": [
        "from sklearn.preprocessing import RobustScaler\n",
        "scaler = RobustScaler()\n",
        "X_train = scaler.fit_transform(X_train)\n",
        "X_test = scaler.transform(X_test)\n",
        "\n"
      ],
      "metadata": {
        "id": "nXan2vVG_ift"
      },
      "execution_count": 86,
      "outputs": []
    },
    {
      "cell_type": "markdown",
      "metadata": {
        "id": "gw15OuFWsKTF"
      },
      "source": [
        "#Trainnig Logistic regression model\n",
        "\n"
      ]
    },
    {
      "cell_type": "code",
      "execution_count": 87,
      "metadata": {
        "colab": {
          "base_uri": "https://localhost:8080/",
          "height": 130
        },
        "id": "MHw608VpsJux",
        "outputId": "571bc9f9-840f-4b77-9af6-a2e57bf00a86"
      },
      "outputs": [
        {
          "output_type": "stream",
          "name": "stderr",
          "text": [
            "/usr/local/lib/python3.10/dist-packages/sklearn/utils/validation.py:1183: DataConversionWarning: A column-vector y was passed when a 1d array was expected. Please change the shape of y to (n_samples, ), for example using ravel().\n",
            "  y = column_or_1d(y, warn=True)\n"
          ]
        },
        {
          "output_type": "execute_result",
          "data": {
            "text/plain": [
              "LogisticRegression(random_state=0, solver='liblinear')"
            ],
            "text/html": [
              "<style>#sk-container-id-9 {color: black;}#sk-container-id-9 pre{padding: 0;}#sk-container-id-9 div.sk-toggleable {background-color: white;}#sk-container-id-9 label.sk-toggleable__label {cursor: pointer;display: block;width: 100%;margin-bottom: 0;padding: 0.3em;box-sizing: border-box;text-align: center;}#sk-container-id-9 label.sk-toggleable__label-arrow:before {content: \"▸\";float: left;margin-right: 0.25em;color: #696969;}#sk-container-id-9 label.sk-toggleable__label-arrow:hover:before {color: black;}#sk-container-id-9 div.sk-estimator:hover label.sk-toggleable__label-arrow:before {color: black;}#sk-container-id-9 div.sk-toggleable__content {max-height: 0;max-width: 0;overflow: hidden;text-align: left;background-color: #f0f8ff;}#sk-container-id-9 div.sk-toggleable__content pre {margin: 0.2em;color: black;border-radius: 0.25em;background-color: #f0f8ff;}#sk-container-id-9 input.sk-toggleable__control:checked~div.sk-toggleable__content {max-height: 200px;max-width: 100%;overflow: auto;}#sk-container-id-9 input.sk-toggleable__control:checked~label.sk-toggleable__label-arrow:before {content: \"▾\";}#sk-container-id-9 div.sk-estimator input.sk-toggleable__control:checked~label.sk-toggleable__label {background-color: #d4ebff;}#sk-container-id-9 div.sk-label input.sk-toggleable__control:checked~label.sk-toggleable__label {background-color: #d4ebff;}#sk-container-id-9 input.sk-hidden--visually {border: 0;clip: rect(1px 1px 1px 1px);clip: rect(1px, 1px, 1px, 1px);height: 1px;margin: -1px;overflow: hidden;padding: 0;position: absolute;width: 1px;}#sk-container-id-9 div.sk-estimator {font-family: monospace;background-color: #f0f8ff;border: 1px dotted black;border-radius: 0.25em;box-sizing: border-box;margin-bottom: 0.5em;}#sk-container-id-9 div.sk-estimator:hover {background-color: #d4ebff;}#sk-container-id-9 div.sk-parallel-item::after {content: \"\";width: 100%;border-bottom: 1px solid gray;flex-grow: 1;}#sk-container-id-9 div.sk-label:hover label.sk-toggleable__label {background-color: #d4ebff;}#sk-container-id-9 div.sk-serial::before {content: \"\";position: absolute;border-left: 1px solid gray;box-sizing: border-box;top: 0;bottom: 0;left: 50%;z-index: 0;}#sk-container-id-9 div.sk-serial {display: flex;flex-direction: column;align-items: center;background-color: white;padding-right: 0.2em;padding-left: 0.2em;position: relative;}#sk-container-id-9 div.sk-item {position: relative;z-index: 1;}#sk-container-id-9 div.sk-parallel {display: flex;align-items: stretch;justify-content: center;background-color: white;position: relative;}#sk-container-id-9 div.sk-item::before, #sk-container-id-9 div.sk-parallel-item::before {content: \"\";position: absolute;border-left: 1px solid gray;box-sizing: border-box;top: 0;bottom: 0;left: 50%;z-index: -1;}#sk-container-id-9 div.sk-parallel-item {display: flex;flex-direction: column;z-index: 1;position: relative;background-color: white;}#sk-container-id-9 div.sk-parallel-item:first-child::after {align-self: flex-end;width: 50%;}#sk-container-id-9 div.sk-parallel-item:last-child::after {align-self: flex-start;width: 50%;}#sk-container-id-9 div.sk-parallel-item:only-child::after {width: 0;}#sk-container-id-9 div.sk-dashed-wrapped {border: 1px dashed gray;margin: 0 0.4em 0.5em 0.4em;box-sizing: border-box;padding-bottom: 0.4em;background-color: white;}#sk-container-id-9 div.sk-label label {font-family: monospace;font-weight: bold;display: inline-block;line-height: 1.2em;}#sk-container-id-9 div.sk-label-container {text-align: center;}#sk-container-id-9 div.sk-container {/* jupyter's `normalize.less` sets `[hidden] { display: none; }` but bootstrap.min.css set `[hidden] { display: none !important; }` so we also need the `!important` here to be able to override the default hidden behavior on the sphinx rendered scikit-learn.org. See: https://github.com/scikit-learn/scikit-learn/issues/21755 */display: inline-block !important;position: relative;}#sk-container-id-9 div.sk-text-repr-fallback {display: none;}</style><div id=\"sk-container-id-9\" class=\"sk-top-container\"><div class=\"sk-text-repr-fallback\"><pre>LogisticRegression(random_state=0, solver=&#x27;liblinear&#x27;)</pre><b>In a Jupyter environment, please rerun this cell to show the HTML representation or trust the notebook. <br />On GitHub, the HTML representation is unable to render, please try loading this page with nbviewer.org.</b></div><div class=\"sk-container\" hidden><div class=\"sk-item\"><div class=\"sk-estimator sk-toggleable\"><input class=\"sk-toggleable__control sk-hidden--visually\" id=\"sk-estimator-id-9\" type=\"checkbox\" checked><label for=\"sk-estimator-id-9\" class=\"sk-toggleable__label sk-toggleable__label-arrow\">LogisticRegression</label><div class=\"sk-toggleable__content\"><pre>LogisticRegression(random_state=0, solver=&#x27;liblinear&#x27;)</pre></div></div></div></div></div>"
            ]
          },
          "metadata": {},
          "execution_count": 87
        }
      ],
      "source": [
        "from sklearn.linear_model import LogisticRegression\n",
        "classifier = LogisticRegression(solver='liblinear',random_state = 0)\n",
        "classifier.fit(X_train, y_train)"
      ]
    },
    {
      "cell_type": "code",
      "execution_count": 88,
      "metadata": {
        "colab": {
          "base_uri": "https://localhost:8080/"
        },
        "id": "RR5xcxPAv0QN",
        "outputId": "7bc305f6-f1fb-40fb-c7ed-9b7ee6a5cc01"
      },
      "outputs": [
        {
          "output_type": "stream",
          "name": "stdout",
          "text": [
            "[[649  42]\n",
            " [ 67 393]]\n"
          ]
        },
        {
          "output_type": "execute_result",
          "data": {
            "text/plain": [
              "0.9052997393570807"
            ]
          },
          "metadata": {},
          "execution_count": 88
        }
      ],
      "source": [
        "from sklearn.metrics import confusion_matrix, accuracy_score\n",
        "y_pred = classifier.predict(X_test)\n",
        "cm = confusion_matrix(y_test, y_pred)\n",
        "print(cm)\n",
        "accuracy_score(y_test, y_pred)"
      ]
    },
    {
      "cell_type": "markdown",
      "source": [
        "###Testing model for overfitting"
      ],
      "metadata": {
        "id": "hJFTSHyWR9Gb"
      }
    },
    {
      "cell_type": "code",
      "source": [
        "y_train_pred = classifier.predict(X_train)\n",
        "cm = confusion_matrix(y_train, y_train_pred)\n",
        "print(cm)\n",
        "accuracy_score(y_train, y_train_pred)\n"
      ],
      "metadata": {
        "colab": {
          "base_uri": "https://localhost:8080/"
        },
        "id": "_GPthbxtRLoW",
        "outputId": "7cf0b4ee-ca69-41d1-bc48-5ffd2c47ebb6"
      },
      "execution_count": 89,
      "outputs": [
        {
          "output_type": "stream",
          "name": "stdout",
          "text": [
            "[[2009   88]\n",
            " [ 133 1220]]\n"
          ]
        },
        {
          "output_type": "execute_result",
          "data": {
            "text/plain": [
              "0.9359420289855073"
            ]
          },
          "metadata": {},
          "execution_count": 89
        }
      ]
    },
    {
      "cell_type": "markdown",
      "metadata": {
        "id": "dTZJxaT_XUMs"
      },
      "source": [
        "###Grid search\n",
        "\n",
        "\n",
        "\n",
        "\n"
      ]
    },
    {
      "cell_type": "code",
      "execution_count": 90,
      "metadata": {
        "colab": {
          "base_uri": "https://localhost:8080/"
        },
        "id": "P1UuDSusXX7R",
        "outputId": "1e1ac32a-0c16-436e-989f-1cd38fd9d173"
      },
      "outputs": [
        {
          "output_type": "stream",
          "name": "stdout",
          "text": [
            "Fitting 10 folds for each of 36 candidates, totalling 360 fits\n",
            "Best Accuracy: 93.33 %\n",
            "Best Parameters: {'C': 1, 'max_iter': 100, 'penalty': 'l2', 'solver': 'liblinear'}\n"
          ]
        },
        {
          "output_type": "stream",
          "name": "stderr",
          "text": [
            "/usr/local/lib/python3.10/dist-packages/sklearn/utils/validation.py:1183: DataConversionWarning: A column-vector y was passed when a 1d array was expected. Please change the shape of y to (n_samples, ), for example using ravel().\n",
            "  y = column_or_1d(y, warn=True)\n"
          ]
        }
      ],
      "source": [
        "from sklearn.model_selection import GridSearchCV\n",
        "parameters = {\n",
        "    'C': [0.25, 0.5, 0.75, 1],\n",
        "    'solver': ['newton-cg', 'lbfgs', 'liblinear'],\n",
        "    'penalty': ['l2'],\n",
        "    'max_iter': [100, 200, 300]\n",
        "}\n",
        "grid_search = GridSearchCV(estimator = classifier,\n",
        "                           param_grid = parameters,\n",
        "                           scoring = 'accuracy',\n",
        "                           cv = 10,\n",
        "                           n_jobs = -1,\n",
        "                           verbose = 2)\n",
        "grid_search.fit(X_train, y_train)\n",
        "best_accuracy = grid_search.best_score_\n",
        "best_parameters = grid_search.best_params_\n",
        "best_base_classifier = grid_search.best_estimator_\n",
        "\n",
        "print(\"Best Accuracy: {:.2f} %\".format(best_accuracy*100))\n",
        "print(\"Best Parameters:\", best_parameters)"
      ]
    },
    {
      "cell_type": "markdown",
      "source": [
        "###building model with best parameters"
      ],
      "metadata": {
        "id": "w26LLMVihxLa"
      }
    },
    {
      "cell_type": "code",
      "source": [
        "best_base_classifier.fit(X_train, y_train)\n",
        "\n",
        "from sklearn.metrics import confusion_matrix, accuracy_score\n",
        "y_pred = best_base_classifier.predict(X_test)\n",
        "cm = confusion_matrix(y_test, y_pred)\n",
        "print(cm)\n",
        "accuracy_score(y_test, y_pred)"
      ],
      "metadata": {
        "colab": {
          "base_uri": "https://localhost:8080/"
        },
        "outputId": "4229fb92-b5a8-4a26-e179-c929c839c897",
        "id": "f5OWmVyRhxLa"
      },
      "execution_count": 91,
      "outputs": [
        {
          "output_type": "stream",
          "name": "stderr",
          "text": [
            "/usr/local/lib/python3.10/dist-packages/sklearn/utils/validation.py:1183: DataConversionWarning: A column-vector y was passed when a 1d array was expected. Please change the shape of y to (n_samples, ), for example using ravel().\n",
            "  y = column_or_1d(y, warn=True)\n"
          ]
        },
        {
          "output_type": "stream",
          "name": "stdout",
          "text": [
            "[[649  42]\n",
            " [ 67 393]]\n"
          ]
        },
        {
          "output_type": "execute_result",
          "data": {
            "text/plain": [
              "0.9052997393570807"
            ]
          },
          "metadata": {},
          "execution_count": 91
        }
      ]
    },
    {
      "cell_type": "markdown",
      "metadata": {
        "id": "_05U5kwwMHT3"
      },
      "source": [
        "#Training a knn model\n",
        "\n",
        "\n"
      ]
    },
    {
      "cell_type": "code",
      "execution_count": 92,
      "metadata": {
        "colab": {
          "base_uri": "https://localhost:8080/",
          "height": 130
        },
        "id": "26Y8029AL4OC",
        "outputId": "f30d9f1f-9054-48fb-b21f-d9e4e1786805"
      },
      "outputs": [
        {
          "output_type": "stream",
          "name": "stderr",
          "text": [
            "/usr/local/lib/python3.10/dist-packages/sklearn/neighbors/_classification.py:233: DataConversionWarning: A column-vector y was passed when a 1d array was expected. Please change the shape of y to (n_samples,), for example using ravel().\n",
            "  return self._fit(X, y)\n"
          ]
        },
        {
          "output_type": "execute_result",
          "data": {
            "text/plain": [
              "KNeighborsClassifier()"
            ],
            "text/html": [
              "<style>#sk-container-id-10 {color: black;}#sk-container-id-10 pre{padding: 0;}#sk-container-id-10 div.sk-toggleable {background-color: white;}#sk-container-id-10 label.sk-toggleable__label {cursor: pointer;display: block;width: 100%;margin-bottom: 0;padding: 0.3em;box-sizing: border-box;text-align: center;}#sk-container-id-10 label.sk-toggleable__label-arrow:before {content: \"▸\";float: left;margin-right: 0.25em;color: #696969;}#sk-container-id-10 label.sk-toggleable__label-arrow:hover:before {color: black;}#sk-container-id-10 div.sk-estimator:hover label.sk-toggleable__label-arrow:before {color: black;}#sk-container-id-10 div.sk-toggleable__content {max-height: 0;max-width: 0;overflow: hidden;text-align: left;background-color: #f0f8ff;}#sk-container-id-10 div.sk-toggleable__content pre {margin: 0.2em;color: black;border-radius: 0.25em;background-color: #f0f8ff;}#sk-container-id-10 input.sk-toggleable__control:checked~div.sk-toggleable__content {max-height: 200px;max-width: 100%;overflow: auto;}#sk-container-id-10 input.sk-toggleable__control:checked~label.sk-toggleable__label-arrow:before {content: \"▾\";}#sk-container-id-10 div.sk-estimator input.sk-toggleable__control:checked~label.sk-toggleable__label {background-color: #d4ebff;}#sk-container-id-10 div.sk-label input.sk-toggleable__control:checked~label.sk-toggleable__label {background-color: #d4ebff;}#sk-container-id-10 input.sk-hidden--visually {border: 0;clip: rect(1px 1px 1px 1px);clip: rect(1px, 1px, 1px, 1px);height: 1px;margin: -1px;overflow: hidden;padding: 0;position: absolute;width: 1px;}#sk-container-id-10 div.sk-estimator {font-family: monospace;background-color: #f0f8ff;border: 1px dotted black;border-radius: 0.25em;box-sizing: border-box;margin-bottom: 0.5em;}#sk-container-id-10 div.sk-estimator:hover {background-color: #d4ebff;}#sk-container-id-10 div.sk-parallel-item::after {content: \"\";width: 100%;border-bottom: 1px solid gray;flex-grow: 1;}#sk-container-id-10 div.sk-label:hover label.sk-toggleable__label {background-color: #d4ebff;}#sk-container-id-10 div.sk-serial::before {content: \"\";position: absolute;border-left: 1px solid gray;box-sizing: border-box;top: 0;bottom: 0;left: 50%;z-index: 0;}#sk-container-id-10 div.sk-serial {display: flex;flex-direction: column;align-items: center;background-color: white;padding-right: 0.2em;padding-left: 0.2em;position: relative;}#sk-container-id-10 div.sk-item {position: relative;z-index: 1;}#sk-container-id-10 div.sk-parallel {display: flex;align-items: stretch;justify-content: center;background-color: white;position: relative;}#sk-container-id-10 div.sk-item::before, #sk-container-id-10 div.sk-parallel-item::before {content: \"\";position: absolute;border-left: 1px solid gray;box-sizing: border-box;top: 0;bottom: 0;left: 50%;z-index: -1;}#sk-container-id-10 div.sk-parallel-item {display: flex;flex-direction: column;z-index: 1;position: relative;background-color: white;}#sk-container-id-10 div.sk-parallel-item:first-child::after {align-self: flex-end;width: 50%;}#sk-container-id-10 div.sk-parallel-item:last-child::after {align-self: flex-start;width: 50%;}#sk-container-id-10 div.sk-parallel-item:only-child::after {width: 0;}#sk-container-id-10 div.sk-dashed-wrapped {border: 1px dashed gray;margin: 0 0.4em 0.5em 0.4em;box-sizing: border-box;padding-bottom: 0.4em;background-color: white;}#sk-container-id-10 div.sk-label label {font-family: monospace;font-weight: bold;display: inline-block;line-height: 1.2em;}#sk-container-id-10 div.sk-label-container {text-align: center;}#sk-container-id-10 div.sk-container {/* jupyter's `normalize.less` sets `[hidden] { display: none; }` but bootstrap.min.css set `[hidden] { display: none !important; }` so we also need the `!important` here to be able to override the default hidden behavior on the sphinx rendered scikit-learn.org. See: https://github.com/scikit-learn/scikit-learn/issues/21755 */display: inline-block !important;position: relative;}#sk-container-id-10 div.sk-text-repr-fallback {display: none;}</style><div id=\"sk-container-id-10\" class=\"sk-top-container\"><div class=\"sk-text-repr-fallback\"><pre>KNeighborsClassifier()</pre><b>In a Jupyter environment, please rerun this cell to show the HTML representation or trust the notebook. <br />On GitHub, the HTML representation is unable to render, please try loading this page with nbviewer.org.</b></div><div class=\"sk-container\" hidden><div class=\"sk-item\"><div class=\"sk-estimator sk-toggleable\"><input class=\"sk-toggleable__control sk-hidden--visually\" id=\"sk-estimator-id-10\" type=\"checkbox\" checked><label for=\"sk-estimator-id-10\" class=\"sk-toggleable__label sk-toggleable__label-arrow\">KNeighborsClassifier</label><div class=\"sk-toggleable__content\"><pre>KNeighborsClassifier()</pre></div></div></div></div></div>"
            ]
          },
          "metadata": {},
          "execution_count": 92
        }
      ],
      "source": [
        "from sklearn.neighbors import KNeighborsClassifier\n",
        "classifier = KNeighborsClassifier()\n",
        "classifier.fit(X_train, y_train)"
      ]
    },
    {
      "cell_type": "code",
      "execution_count": 93,
      "metadata": {
        "colab": {
          "base_uri": "https://localhost:8080/"
        },
        "id": "tZgaMZdxME8G",
        "outputId": "189fa919-1c26-475d-e626-1b490976af4f"
      },
      "outputs": [
        {
          "output_type": "stream",
          "name": "stdout",
          "text": [
            "[[650  41]\n",
            " [ 75 385]]\n"
          ]
        },
        {
          "output_type": "execute_result",
          "data": {
            "text/plain": [
              "0.8992180712423979"
            ]
          },
          "metadata": {},
          "execution_count": 93
        }
      ],
      "source": [
        "from sklearn.metrics import confusion_matrix, accuracy_score\n",
        "y_pred = classifier.predict(X_test)\n",
        "cm = confusion_matrix(y_test, y_pred)\n",
        "print(cm)\n",
        "accuracy_score(y_test, y_pred)"
      ]
    },
    {
      "cell_type": "markdown",
      "source": [
        "###testing for overfiting"
      ],
      "metadata": {
        "id": "Odyx1K3gSOf-"
      }
    },
    {
      "cell_type": "code",
      "source": [
        "y_train_pred = classifier.predict(X_train)\n",
        "cm = confusion_matrix(y_train, y_train_pred)\n",
        "print(cm)\n",
        "accuracy_score(y_train, y_train_pred)\n"
      ],
      "metadata": {
        "colab": {
          "base_uri": "https://localhost:8080/"
        },
        "id": "RgSBLTJASICu",
        "outputId": "a29d7d3d-e4a4-48d4-9e8d-0fcdb1779b6d"
      },
      "execution_count": 94,
      "outputs": [
        {
          "output_type": "stream",
          "name": "stdout",
          "text": [
            "[[1994  103]\n",
            " [ 134 1219]]\n"
          ]
        },
        {
          "output_type": "execute_result",
          "data": {
            "text/plain": [
              "0.931304347826087"
            ]
          },
          "metadata": {},
          "execution_count": 94
        }
      ]
    },
    {
      "cell_type": "markdown",
      "metadata": {
        "id": "VftDKXziY467"
      },
      "source": [
        "###Grid search"
      ]
    },
    {
      "cell_type": "code",
      "execution_count": 95,
      "metadata": {
        "colab": {
          "base_uri": "https://localhost:8080/"
        },
        "id": "gVZXAqyhY9Ti",
        "outputId": "5f08fe1b-6f44-4f93-dd3c-dbd06ac092fe"
      },
      "outputs": [
        {
          "output_type": "stream",
          "name": "stdout",
          "text": [
            "Fitting 10 folds for each of 186 candidates, totalling 1860 fits\n",
            "Best Accuracy: 92.64 %\n",
            "Best Parameters: {'metric': 'manhattan', 'n_neighbors': 14, 'weights': 'distance'}\n"
          ]
        },
        {
          "output_type": "stream",
          "name": "stderr",
          "text": [
            "/usr/local/lib/python3.10/dist-packages/sklearn/neighbors/_classification.py:233: DataConversionWarning: A column-vector y was passed when a 1d array was expected. Please change the shape of y to (n_samples,), for example using ravel().\n",
            "  return self._fit(X, y)\n"
          ]
        }
      ],
      "source": [
        "from sklearn.model_selection import GridSearchCV\n",
        "parameters = {\n",
        "    'n_neighbors': list(range(1, 32)),\n",
        "    'metric': ['euclidean', 'manhattan', 'minkowski'],\n",
        "    'weights': ['uniform', 'distance']\n",
        "}\n",
        "grid_search = GridSearchCV(estimator = classifier,\n",
        "                           param_grid = parameters,\n",
        "                           scoring = 'accuracy',\n",
        "                           cv = 10,\n",
        "                           n_jobs = -1,\n",
        "                           verbose = 1)\n",
        "grid_search.fit(X_train, y_train)\n",
        "best_accuracy = grid_search.best_score_\n",
        "best_parameters = grid_search.best_params_\n",
        "best_base_classifier = grid_search.best_estimator_\n",
        "\n",
        "print(\"Best Accuracy: {:.2f} %\".format(best_accuracy*100))\n",
        "print(\"Best Parameters:\", best_parameters)"
      ]
    },
    {
      "cell_type": "markdown",
      "source": [
        "###building model with best parameters"
      ],
      "metadata": {
        "id": "-JSavuaWhzaC"
      }
    },
    {
      "cell_type": "code",
      "source": [
        "best_base_classifier.fit(X_train, y_train)\n",
        "\n",
        "from sklearn.metrics import confusion_matrix, accuracy_score\n",
        "y_pred = best_base_classifier.predict(X_test)\n",
        "cm = confusion_matrix(y_test, y_pred)\n",
        "print(cm)\n",
        "accuracy_score(y_test, y_pred)"
      ],
      "metadata": {
        "colab": {
          "base_uri": "https://localhost:8080/"
        },
        "outputId": "a0443806-4f25-416d-8775-d833da395725",
        "id": "VojHqyUHhzaC"
      },
      "execution_count": 96,
      "outputs": [
        {
          "output_type": "stream",
          "name": "stderr",
          "text": [
            "/usr/local/lib/python3.10/dist-packages/sklearn/neighbors/_classification.py:233: DataConversionWarning: A column-vector y was passed when a 1d array was expected. Please change the shape of y to (n_samples,), for example using ravel().\n",
            "  return self._fit(X, y)\n"
          ]
        },
        {
          "output_type": "stream",
          "name": "stdout",
          "text": [
            "[[664  27]\n",
            " [ 66 394]]\n"
          ]
        },
        {
          "output_type": "execute_result",
          "data": {
            "text/plain": [
              "0.9192006950477846"
            ]
          },
          "metadata": {},
          "execution_count": 96
        }
      ]
    },
    {
      "cell_type": "markdown",
      "metadata": {
        "id": "dsjPHGFFMRWb"
      },
      "source": [
        "#Training a Descision Tree model"
      ]
    },
    {
      "cell_type": "code",
      "execution_count": 97,
      "metadata": {
        "colab": {
          "base_uri": "https://localhost:8080/",
          "height": 74
        },
        "id": "K7cQa3guMcqS",
        "outputId": "48fb4a58-03ae-4f97-f554-c4253702ebf3"
      },
      "outputs": [
        {
          "output_type": "execute_result",
          "data": {
            "text/plain": [
              "DecisionTreeClassifier(criterion='entropy', random_state=42)"
            ],
            "text/html": [
              "<style>#sk-container-id-11 {color: black;}#sk-container-id-11 pre{padding: 0;}#sk-container-id-11 div.sk-toggleable {background-color: white;}#sk-container-id-11 label.sk-toggleable__label {cursor: pointer;display: block;width: 100%;margin-bottom: 0;padding: 0.3em;box-sizing: border-box;text-align: center;}#sk-container-id-11 label.sk-toggleable__label-arrow:before {content: \"▸\";float: left;margin-right: 0.25em;color: #696969;}#sk-container-id-11 label.sk-toggleable__label-arrow:hover:before {color: black;}#sk-container-id-11 div.sk-estimator:hover label.sk-toggleable__label-arrow:before {color: black;}#sk-container-id-11 div.sk-toggleable__content {max-height: 0;max-width: 0;overflow: hidden;text-align: left;background-color: #f0f8ff;}#sk-container-id-11 div.sk-toggleable__content pre {margin: 0.2em;color: black;border-radius: 0.25em;background-color: #f0f8ff;}#sk-container-id-11 input.sk-toggleable__control:checked~div.sk-toggleable__content {max-height: 200px;max-width: 100%;overflow: auto;}#sk-container-id-11 input.sk-toggleable__control:checked~label.sk-toggleable__label-arrow:before {content: \"▾\";}#sk-container-id-11 div.sk-estimator input.sk-toggleable__control:checked~label.sk-toggleable__label {background-color: #d4ebff;}#sk-container-id-11 div.sk-label input.sk-toggleable__control:checked~label.sk-toggleable__label {background-color: #d4ebff;}#sk-container-id-11 input.sk-hidden--visually {border: 0;clip: rect(1px 1px 1px 1px);clip: rect(1px, 1px, 1px, 1px);height: 1px;margin: -1px;overflow: hidden;padding: 0;position: absolute;width: 1px;}#sk-container-id-11 div.sk-estimator {font-family: monospace;background-color: #f0f8ff;border: 1px dotted black;border-radius: 0.25em;box-sizing: border-box;margin-bottom: 0.5em;}#sk-container-id-11 div.sk-estimator:hover {background-color: #d4ebff;}#sk-container-id-11 div.sk-parallel-item::after {content: \"\";width: 100%;border-bottom: 1px solid gray;flex-grow: 1;}#sk-container-id-11 div.sk-label:hover label.sk-toggleable__label {background-color: #d4ebff;}#sk-container-id-11 div.sk-serial::before {content: \"\";position: absolute;border-left: 1px solid gray;box-sizing: border-box;top: 0;bottom: 0;left: 50%;z-index: 0;}#sk-container-id-11 div.sk-serial {display: flex;flex-direction: column;align-items: center;background-color: white;padding-right: 0.2em;padding-left: 0.2em;position: relative;}#sk-container-id-11 div.sk-item {position: relative;z-index: 1;}#sk-container-id-11 div.sk-parallel {display: flex;align-items: stretch;justify-content: center;background-color: white;position: relative;}#sk-container-id-11 div.sk-item::before, #sk-container-id-11 div.sk-parallel-item::before {content: \"\";position: absolute;border-left: 1px solid gray;box-sizing: border-box;top: 0;bottom: 0;left: 50%;z-index: -1;}#sk-container-id-11 div.sk-parallel-item {display: flex;flex-direction: column;z-index: 1;position: relative;background-color: white;}#sk-container-id-11 div.sk-parallel-item:first-child::after {align-self: flex-end;width: 50%;}#sk-container-id-11 div.sk-parallel-item:last-child::after {align-self: flex-start;width: 50%;}#sk-container-id-11 div.sk-parallel-item:only-child::after {width: 0;}#sk-container-id-11 div.sk-dashed-wrapped {border: 1px dashed gray;margin: 0 0.4em 0.5em 0.4em;box-sizing: border-box;padding-bottom: 0.4em;background-color: white;}#sk-container-id-11 div.sk-label label {font-family: monospace;font-weight: bold;display: inline-block;line-height: 1.2em;}#sk-container-id-11 div.sk-label-container {text-align: center;}#sk-container-id-11 div.sk-container {/* jupyter's `normalize.less` sets `[hidden] { display: none; }` but bootstrap.min.css set `[hidden] { display: none !important; }` so we also need the `!important` here to be able to override the default hidden behavior on the sphinx rendered scikit-learn.org. See: https://github.com/scikit-learn/scikit-learn/issues/21755 */display: inline-block !important;position: relative;}#sk-container-id-11 div.sk-text-repr-fallback {display: none;}</style><div id=\"sk-container-id-11\" class=\"sk-top-container\"><div class=\"sk-text-repr-fallback\"><pre>DecisionTreeClassifier(criterion=&#x27;entropy&#x27;, random_state=42)</pre><b>In a Jupyter environment, please rerun this cell to show the HTML representation or trust the notebook. <br />On GitHub, the HTML representation is unable to render, please try loading this page with nbviewer.org.</b></div><div class=\"sk-container\" hidden><div class=\"sk-item\"><div class=\"sk-estimator sk-toggleable\"><input class=\"sk-toggleable__control sk-hidden--visually\" id=\"sk-estimator-id-11\" type=\"checkbox\" checked><label for=\"sk-estimator-id-11\" class=\"sk-toggleable__label sk-toggleable__label-arrow\">DecisionTreeClassifier</label><div class=\"sk-toggleable__content\"><pre>DecisionTreeClassifier(criterion=&#x27;entropy&#x27;, random_state=42)</pre></div></div></div></div></div>"
            ]
          },
          "metadata": {},
          "execution_count": 97
        }
      ],
      "source": [
        "from sklearn.tree import DecisionTreeClassifier\n",
        "classifier = DecisionTreeClassifier(criterion = 'entropy', random_state = 42)\n",
        "classifier.fit(X_train, y_train)"
      ]
    },
    {
      "cell_type": "code",
      "execution_count": 98,
      "metadata": {
        "colab": {
          "base_uri": "https://localhost:8080/"
        },
        "id": "nt341MjlMgjL",
        "outputId": "6dcc7a01-6315-42e7-9e8c-49bce9c9c92b"
      },
      "outputs": [
        {
          "output_type": "stream",
          "name": "stdout",
          "text": [
            "[[641  50]\n",
            " [ 44 416]]\n"
          ]
        },
        {
          "output_type": "execute_result",
          "data": {
            "text/plain": [
              "0.9183318853171155"
            ]
          },
          "metadata": {},
          "execution_count": 98
        }
      ],
      "source": [
        "from sklearn.metrics import confusion_matrix, accuracy_score\n",
        "y_pred = classifier.predict(X_test)\n",
        "cm = confusion_matrix(y_test, y_pred)\n",
        "print(cm)\n",
        "accuracy_score(y_test, y_pred)"
      ]
    },
    {
      "cell_type": "markdown",
      "source": [
        "###test for overfitting"
      ],
      "metadata": {
        "id": "31ory8WUTKVN"
      }
    },
    {
      "cell_type": "code",
      "source": [
        "y_train_pred = classifier.predict(X_train)\n",
        "cm = confusion_matrix(y_train, y_train_pred)\n",
        "print(cm)\n",
        "accuracy_score(y_train, y_train_pred)\n"
      ],
      "metadata": {
        "colab": {
          "base_uri": "https://localhost:8080/"
        },
        "id": "OrHsWMYtSbm8",
        "outputId": "095fe5b3-115d-4161-f617-8141e4e28394"
      },
      "execution_count": 99,
      "outputs": [
        {
          "output_type": "stream",
          "name": "stdout",
          "text": [
            "[[2097    0]\n",
            " [   0 1353]]\n"
          ]
        },
        {
          "output_type": "execute_result",
          "data": {
            "text/plain": [
              "1.0"
            ]
          },
          "metadata": {},
          "execution_count": 99
        }
      ]
    },
    {
      "cell_type": "markdown",
      "metadata": {
        "id": "C8jS9wqXZNmR"
      },
      "source": [
        "###Grid search\n"
      ]
    },
    {
      "cell_type": "code",
      "execution_count": 100,
      "metadata": {
        "colab": {
          "base_uri": "https://localhost:8080/"
        },
        "id": "A5XiEtl_ZPnC",
        "outputId": "64795636-0696-4c12-e981-0a16d2610e6c"
      },
      "outputs": [
        {
          "output_type": "stream",
          "name": "stdout",
          "text": [
            "Fitting 10 folds for each of 24 candidates, totalling 240 fits\n",
            "Best Accuracy: 92.55 %\n",
            "Best Parameters: {'criterion': 'gini', 'max_depth': 10, 'splitter': 'best'}\n"
          ]
        }
      ],
      "source": [
        "from sklearn.model_selection import GridSearchCV\n",
        "parameters = {\n",
        "    'criterion': ['gini', 'entropy'],\n",
        "    'splitter': ['best', 'random'],\n",
        "    'max_depth': [None, 10, 20, 30, 40, 50]\n",
        "}\n",
        "grid_search = GridSearchCV(estimator = classifier,\n",
        "                           param_grid = parameters,\n",
        "                           scoring = 'accuracy',\n",
        "                           cv = 10,\n",
        "                           n_jobs = -1,\n",
        "                           verbose = 2)\n",
        "grid_search.fit(X_train, y_train)\n",
        "best_accuracy = grid_search.best_score_\n",
        "best_parameters = grid_search.best_params_\n",
        "best_base_classifier = grid_search.best_estimator_\n",
        "\n",
        "print(\"Best Accuracy: {:.2f} %\".format(best_accuracy*100))\n",
        "print(\"Best Parameters:\", best_parameters)"
      ]
    },
    {
      "cell_type": "markdown",
      "source": [
        "###building model with best parameters"
      ],
      "metadata": {
        "id": "1lf2-bOih52E"
      }
    },
    {
      "cell_type": "code",
      "source": [
        "best_base_classifier.fit(X_train, y_train)\n",
        "\n",
        "from sklearn.metrics import confusion_matrix, accuracy_score\n",
        "y_pred = best_base_classifier.predict(X_test)\n",
        "cm = confusion_matrix(y_test, y_pred)\n",
        "print(cm)\n",
        "accuracy_score(y_test, y_pred)"
      ],
      "metadata": {
        "colab": {
          "base_uri": "https://localhost:8080/"
        },
        "outputId": "c2b90e94-0e91-4c29-e697-6143ace4fc6a",
        "id": "HdKKRM7sh52E"
      },
      "execution_count": 101,
      "outputs": [
        {
          "output_type": "stream",
          "name": "stdout",
          "text": [
            "[[643  48]\n",
            " [ 61 399]]\n"
          ]
        },
        {
          "output_type": "execute_result",
          "data": {
            "text/plain": [
              "0.9052997393570807"
            ]
          },
          "metadata": {},
          "execution_count": 101
        }
      ]
    },
    {
      "cell_type": "markdown",
      "source": [
        "#XG boost model"
      ],
      "metadata": {
        "id": "akG051g_-X0u"
      }
    },
    {
      "cell_type": "code",
      "source": [
        "from xgboost import XGBClassifier\n",
        "classifier = XGBClassifier()\n",
        "classifier.fit(X_train, y_train)"
      ],
      "metadata": {
        "colab": {
          "base_uri": "https://localhost:8080/",
          "height": 247
        },
        "id": "yI6doslG-dBv",
        "outputId": "84da93e6-b845-4ea1-a428-ac73daa12aa5"
      },
      "execution_count": 102,
      "outputs": [
        {
          "output_type": "execute_result",
          "data": {
            "text/plain": [
              "XGBClassifier(base_score=None, booster=None, callbacks=None,\n",
              "              colsample_bylevel=None, colsample_bynode=None,\n",
              "              colsample_bytree=None, device=None, early_stopping_rounds=None,\n",
              "              enable_categorical=False, eval_metric=None, feature_types=None,\n",
              "              gamma=None, grow_policy=None, importance_type=None,\n",
              "              interaction_constraints=None, learning_rate=None, max_bin=None,\n",
              "              max_cat_threshold=None, max_cat_to_onehot=None,\n",
              "              max_delta_step=None, max_depth=None, max_leaves=None,\n",
              "              min_child_weight=None, missing=nan, monotone_constraints=None,\n",
              "              multi_strategy=None, n_estimators=None, n_jobs=None,\n",
              "              num_parallel_tree=None, random_state=None, ...)"
            ],
            "text/html": [
              "<style>#sk-container-id-12 {color: black;}#sk-container-id-12 pre{padding: 0;}#sk-container-id-12 div.sk-toggleable {background-color: white;}#sk-container-id-12 label.sk-toggleable__label {cursor: pointer;display: block;width: 100%;margin-bottom: 0;padding: 0.3em;box-sizing: border-box;text-align: center;}#sk-container-id-12 label.sk-toggleable__label-arrow:before {content: \"▸\";float: left;margin-right: 0.25em;color: #696969;}#sk-container-id-12 label.sk-toggleable__label-arrow:hover:before {color: black;}#sk-container-id-12 div.sk-estimator:hover label.sk-toggleable__label-arrow:before {color: black;}#sk-container-id-12 div.sk-toggleable__content {max-height: 0;max-width: 0;overflow: hidden;text-align: left;background-color: #f0f8ff;}#sk-container-id-12 div.sk-toggleable__content pre {margin: 0.2em;color: black;border-radius: 0.25em;background-color: #f0f8ff;}#sk-container-id-12 input.sk-toggleable__control:checked~div.sk-toggleable__content {max-height: 200px;max-width: 100%;overflow: auto;}#sk-container-id-12 input.sk-toggleable__control:checked~label.sk-toggleable__label-arrow:before {content: \"▾\";}#sk-container-id-12 div.sk-estimator input.sk-toggleable__control:checked~label.sk-toggleable__label {background-color: #d4ebff;}#sk-container-id-12 div.sk-label input.sk-toggleable__control:checked~label.sk-toggleable__label {background-color: #d4ebff;}#sk-container-id-12 input.sk-hidden--visually {border: 0;clip: rect(1px 1px 1px 1px);clip: rect(1px, 1px, 1px, 1px);height: 1px;margin: -1px;overflow: hidden;padding: 0;position: absolute;width: 1px;}#sk-container-id-12 div.sk-estimator {font-family: monospace;background-color: #f0f8ff;border: 1px dotted black;border-radius: 0.25em;box-sizing: border-box;margin-bottom: 0.5em;}#sk-container-id-12 div.sk-estimator:hover {background-color: #d4ebff;}#sk-container-id-12 div.sk-parallel-item::after {content: \"\";width: 100%;border-bottom: 1px solid gray;flex-grow: 1;}#sk-container-id-12 div.sk-label:hover label.sk-toggleable__label {background-color: #d4ebff;}#sk-container-id-12 div.sk-serial::before {content: \"\";position: absolute;border-left: 1px solid gray;box-sizing: border-box;top: 0;bottom: 0;left: 50%;z-index: 0;}#sk-container-id-12 div.sk-serial {display: flex;flex-direction: column;align-items: center;background-color: white;padding-right: 0.2em;padding-left: 0.2em;position: relative;}#sk-container-id-12 div.sk-item {position: relative;z-index: 1;}#sk-container-id-12 div.sk-parallel {display: flex;align-items: stretch;justify-content: center;background-color: white;position: relative;}#sk-container-id-12 div.sk-item::before, #sk-container-id-12 div.sk-parallel-item::before {content: \"\";position: absolute;border-left: 1px solid gray;box-sizing: border-box;top: 0;bottom: 0;left: 50%;z-index: -1;}#sk-container-id-12 div.sk-parallel-item {display: flex;flex-direction: column;z-index: 1;position: relative;background-color: white;}#sk-container-id-12 div.sk-parallel-item:first-child::after {align-self: flex-end;width: 50%;}#sk-container-id-12 div.sk-parallel-item:last-child::after {align-self: flex-start;width: 50%;}#sk-container-id-12 div.sk-parallel-item:only-child::after {width: 0;}#sk-container-id-12 div.sk-dashed-wrapped {border: 1px dashed gray;margin: 0 0.4em 0.5em 0.4em;box-sizing: border-box;padding-bottom: 0.4em;background-color: white;}#sk-container-id-12 div.sk-label label {font-family: monospace;font-weight: bold;display: inline-block;line-height: 1.2em;}#sk-container-id-12 div.sk-label-container {text-align: center;}#sk-container-id-12 div.sk-container {/* jupyter's `normalize.less` sets `[hidden] { display: none; }` but bootstrap.min.css set `[hidden] { display: none !important; }` so we also need the `!important` here to be able to override the default hidden behavior on the sphinx rendered scikit-learn.org. See: https://github.com/scikit-learn/scikit-learn/issues/21755 */display: inline-block !important;position: relative;}#sk-container-id-12 div.sk-text-repr-fallback {display: none;}</style><div id=\"sk-container-id-12\" class=\"sk-top-container\"><div class=\"sk-text-repr-fallback\"><pre>XGBClassifier(base_score=None, booster=None, callbacks=None,\n",
              "              colsample_bylevel=None, colsample_bynode=None,\n",
              "              colsample_bytree=None, device=None, early_stopping_rounds=None,\n",
              "              enable_categorical=False, eval_metric=None, feature_types=None,\n",
              "              gamma=None, grow_policy=None, importance_type=None,\n",
              "              interaction_constraints=None, learning_rate=None, max_bin=None,\n",
              "              max_cat_threshold=None, max_cat_to_onehot=None,\n",
              "              max_delta_step=None, max_depth=None, max_leaves=None,\n",
              "              min_child_weight=None, missing=nan, monotone_constraints=None,\n",
              "              multi_strategy=None, n_estimators=None, n_jobs=None,\n",
              "              num_parallel_tree=None, random_state=None, ...)</pre><b>In a Jupyter environment, please rerun this cell to show the HTML representation or trust the notebook. <br />On GitHub, the HTML representation is unable to render, please try loading this page with nbviewer.org.</b></div><div class=\"sk-container\" hidden><div class=\"sk-item\"><div class=\"sk-estimator sk-toggleable\"><input class=\"sk-toggleable__control sk-hidden--visually\" id=\"sk-estimator-id-12\" type=\"checkbox\" checked><label for=\"sk-estimator-id-12\" class=\"sk-toggleable__label sk-toggleable__label-arrow\">XGBClassifier</label><div class=\"sk-toggleable__content\"><pre>XGBClassifier(base_score=None, booster=None, callbacks=None,\n",
              "              colsample_bylevel=None, colsample_bynode=None,\n",
              "              colsample_bytree=None, device=None, early_stopping_rounds=None,\n",
              "              enable_categorical=False, eval_metric=None, feature_types=None,\n",
              "              gamma=None, grow_policy=None, importance_type=None,\n",
              "              interaction_constraints=None, learning_rate=None, max_bin=None,\n",
              "              max_cat_threshold=None, max_cat_to_onehot=None,\n",
              "              max_delta_step=None, max_depth=None, max_leaves=None,\n",
              "              min_child_weight=None, missing=nan, monotone_constraints=None,\n",
              "              multi_strategy=None, n_estimators=None, n_jobs=None,\n",
              "              num_parallel_tree=None, random_state=None, ...)</pre></div></div></div></div></div>"
            ]
          },
          "metadata": {},
          "execution_count": 102
        }
      ]
    },
    {
      "cell_type": "code",
      "source": [
        "from sklearn.metrics import confusion_matrix, accuracy_score\n",
        "y_pred = classifier.predict(X_test)\n",
        "cm = confusion_matrix(y_test, y_pred)\n",
        "print(cm)\n",
        "accuracy_score(y_test, y_pred)"
      ],
      "metadata": {
        "colab": {
          "base_uri": "https://localhost:8080/"
        },
        "id": "eyHHvjKd-ghI",
        "outputId": "d9f2187b-e8e7-4807-cd66-3b38e3c7cac7"
      },
      "execution_count": 103,
      "outputs": [
        {
          "output_type": "stream",
          "name": "stdout",
          "text": [
            "[[663  28]\n",
            " [ 40 420]]\n"
          ]
        },
        {
          "output_type": "execute_result",
          "data": {
            "text/plain": [
              "0.9409209383145091"
            ]
          },
          "metadata": {},
          "execution_count": 103
        }
      ]
    },
    {
      "cell_type": "markdown",
      "source": [
        "###Hyperparam tuning with optuna"
      ],
      "metadata": {
        "id": "qvkitWbGYOqd"
      }
    },
    {
      "cell_type": "code",
      "source": [
        "!pip install optuna\n"
      ],
      "metadata": {
        "colab": {
          "base_uri": "https://localhost:8080/"
        },
        "id": "PE_GbBK2UCm0",
        "outputId": "c68e6f92-5f3f-4c23-916c-56b8a2a77690"
      },
      "execution_count": 104,
      "outputs": [
        {
          "output_type": "stream",
          "name": "stdout",
          "text": [
            "Requirement already satisfied: optuna in /usr/local/lib/python3.10/dist-packages (3.6.1)\n",
            "Requirement already satisfied: alembic>=1.5.0 in /usr/local/lib/python3.10/dist-packages (from optuna) (1.13.2)\n",
            "Requirement already satisfied: colorlog in /usr/local/lib/python3.10/dist-packages (from optuna) (6.8.2)\n",
            "Requirement already satisfied: numpy in /usr/local/lib/python3.10/dist-packages (from optuna) (1.25.2)\n",
            "Requirement already satisfied: packaging>=20.0 in /usr/local/lib/python3.10/dist-packages (from optuna) (24.1)\n",
            "Requirement already satisfied: sqlalchemy>=1.3.0 in /usr/local/lib/python3.10/dist-packages (from optuna) (2.0.31)\n",
            "Requirement already satisfied: tqdm in /usr/local/lib/python3.10/dist-packages (from optuna) (4.66.4)\n",
            "Requirement already satisfied: PyYAML in /usr/local/lib/python3.10/dist-packages (from optuna) (6.0.1)\n",
            "Requirement already satisfied: Mako in /usr/local/lib/python3.10/dist-packages (from alembic>=1.5.0->optuna) (1.3.5)\n",
            "Requirement already satisfied: typing-extensions>=4 in /usr/local/lib/python3.10/dist-packages (from alembic>=1.5.0->optuna) (4.12.2)\n",
            "Requirement already satisfied: greenlet!=0.4.17 in /usr/local/lib/python3.10/dist-packages (from sqlalchemy>=1.3.0->optuna) (3.0.3)\n",
            "Requirement already satisfied: MarkupSafe>=0.9.2 in /usr/local/lib/python3.10/dist-packages (from Mako->alembic>=1.5.0->optuna) (2.1.5)\n"
          ]
        }
      ]
    },
    {
      "cell_type": "code",
      "source": [
        "\n",
        "import optuna\n",
        "import xgboost as xgb\n",
        "from sklearn.metrics import accuracy_score\n",
        "\n",
        "\n",
        "def objective(trial):\n",
        "    params = {\n",
        "        'objective': 'binary:logistic',\n",
        "        'learning_rate': trial.suggest_float('learning_rate', 0.01, 0.2),\n",
        "        'max_depth': trial.suggest_int('max_depth', 3, 10),\n",
        "        'n_estimators': trial.suggest_int('n_estimators', 50, 200),\n",
        "        'colsample_bytree': trial.suggest_float('colsample_bytree', 0.5, 1.0),\n",
        "        'subsample': trial.suggest_float('subsample', 0.5, 1.0)\n",
        "    }\n",
        "\n",
        "    xgb_model = xgb.XGBClassifier(**params)\n",
        "    xgb_model.fit(\n",
        "        X_train, y_train,\n",
        "        eval_set=[(X_test, y_test)],\n",
        "        verbose=False\n",
        "    )\n",
        "    y_pred = xgb_model.predict(X_test)\n",
        "    return 1 - accuracy_score(y_test, y_pred)\n",
        "\n",
        "study = optuna.create_study(direction='minimize')\n",
        "study.optimize(objective, n_trials=50)\n",
        "print(\"Best hyperparameters: \", study.best_params)\n"
      ],
      "metadata": {
        "colab": {
          "base_uri": "https://localhost:8080/"
        },
        "id": "hl8VMZEnUDhb",
        "outputId": "fc5d2433-03f1-4708-ce55-11630f474213"
      },
      "execution_count": 105,
      "outputs": [
        {
          "output_type": "stream",
          "name": "stderr",
          "text": [
            "[I 2024-07-29 14:44:11,041] A new study created in memory with name: no-name-90cd4a10-9f30-4da5-a6a6-22951ba30362\n",
            "[I 2024-07-29 14:44:12,070] Trial 0 finished with value: 0.05821025195482188 and parameters: {'learning_rate': 0.051433078464395786, 'max_depth': 10, 'n_estimators': 93, 'colsample_bytree': 0.786673546460285, 'subsample': 0.6028767881194619}. Best is trial 0 with value: 0.05821025195482188.\n",
            "[I 2024-07-29 14:44:12,871] Trial 1 finished with value: 0.05821025195482188 and parameters: {'learning_rate': 0.19531341613305997, 'max_depth': 3, 'n_estimators': 143, 'colsample_bytree': 0.8752812782546397, 'subsample': 0.9282216256647962}. Best is trial 0 with value: 0.05821025195482188.\n",
            "[I 2024-07-29 14:44:13,808] Trial 2 finished with value: 0.05994787141615987 and parameters: {'learning_rate': 0.18249946482953447, 'max_depth': 3, 'n_estimators': 186, 'colsample_bytree': 0.9814149763984286, 'subsample': 0.59110821775523}. Best is trial 0 with value: 0.05821025195482188.\n",
            "[I 2024-07-29 14:44:30,206] Trial 3 finished with value: 0.0469157254561251 and parameters: {'learning_rate': 0.18501735502724437, 'max_depth': 9, 'n_estimators': 172, 'colsample_bytree': 0.5123607980291944, 'subsample': 0.5074481782938699}. Best is trial 3 with value: 0.0469157254561251.\n",
            "[I 2024-07-29 14:44:39,160] Trial 4 finished with value: 0.06168549087749786 and parameters: {'learning_rate': 0.048344205072829625, 'max_depth': 6, 'n_estimators': 94, 'colsample_bytree': 0.5708236398882411, 'subsample': 0.9332674148179583}. Best is trial 3 with value: 0.0469157254561251.\n",
            "[I 2024-07-29 14:44:46,552] Trial 5 finished with value: 0.07211120764552559 and parameters: {'learning_rate': 0.08626608403871237, 'max_depth': 4, 'n_estimators': 55, 'colsample_bytree': 0.8803203406967041, 'subsample': 0.7446724092451866}. Best is trial 3 with value: 0.0469157254561251.\n",
            "[I 2024-07-29 14:44:58,651] Trial 6 finished with value: 0.05560382276281495 and parameters: {'learning_rate': 0.07642216099827451, 'max_depth': 6, 'n_estimators': 196, 'colsample_bytree': 0.7452386587386726, 'subsample': 0.9559968814651618}. Best is trial 3 with value: 0.0469157254561251.\n",
            "[I 2024-07-29 14:44:59,042] Trial 7 finished with value: 0.05907906168549093 and parameters: {'learning_rate': 0.18569999131545492, 'max_depth': 5, 'n_estimators': 91, 'colsample_bytree': 0.7245129621541251, 'subsample': 0.8339999102632285}. Best is trial 3 with value: 0.0469157254561251.\n",
            "[I 2024-07-29 14:45:00,107] Trial 8 finished with value: 0.06602953953084278 and parameters: {'learning_rate': 0.02400005468012794, 'max_depth': 6, 'n_estimators': 194, 'colsample_bytree': 0.736353841214366, 'subsample': 0.6487178720928938}. Best is trial 3 with value: 0.0469157254561251.\n",
            "[I 2024-07-29 14:45:00,548] Trial 9 finished with value: 0.06342311033883574 and parameters: {'learning_rate': 0.08931753917296238, 'max_depth': 6, 'n_estimators': 84, 'colsample_bytree': 0.6509244517036403, 'subsample': 0.9802267959804523}. Best is trial 3 with value: 0.0469157254561251.\n",
            "[I 2024-07-29 14:45:01,334] Trial 10 finished with value: 0.05647263249348389 and parameters: {'learning_rate': 0.14223961022939452, 'max_depth': 9, 'n_estimators': 151, 'colsample_bytree': 0.5196864378016759, 'subsample': 0.511787509523655}. Best is trial 3 with value: 0.0469157254561251.\n",
            "[I 2024-07-29 14:45:02,220] Trial 11 finished with value: 0.053866203301476956 and parameters: {'learning_rate': 0.13650567770766436, 'max_depth': 8, 'n_estimators': 166, 'colsample_bytree': 0.6027786555894618, 'subsample': 0.7928095506641561}. Best is trial 3 with value: 0.0469157254561251.\n",
            "[I 2024-07-29 14:45:03,100] Trial 12 finished with value: 0.05907906168549093 and parameters: {'learning_rate': 0.13772693986582582, 'max_depth': 8, 'n_estimators': 164, 'colsample_bytree': 0.6099141169904669, 'subsample': 0.7728554570653999}. Best is trial 3 with value: 0.0469157254561251.\n",
            "[I 2024-07-29 14:45:03,911] Trial 13 finished with value: 0.06168549087749786 and parameters: {'learning_rate': 0.14456671360892526, 'max_depth': 8, 'n_estimators': 168, 'colsample_bytree': 0.5047058476063153, 'subsample': 0.7101007009164569}. Best is trial 3 with value: 0.0469157254561251.\n",
            "[I 2024-07-29 14:45:04,602] Trial 14 finished with value: 0.05994787141615987 and parameters: {'learning_rate': 0.11862258914046493, 'max_depth': 8, 'n_estimators': 121, 'colsample_bytree': 0.6326027121143316, 'subsample': 0.8400303852763983}. Best is trial 3 with value: 0.0469157254561251.\n",
            "[I 2024-07-29 14:45:05,341] Trial 15 finished with value: 0.05734144222415294 and parameters: {'learning_rate': 0.1631869545400798, 'max_depth': 10, 'n_estimators': 131, 'colsample_bytree': 0.5630766163434944, 'subsample': 0.5231362561845071}. Best is trial 3 with value: 0.0469157254561251.\n",
            "[I 2024-07-29 14:45:06,283] Trial 16 finished with value: 0.05821025195482188 and parameters: {'learning_rate': 0.16460701257397695, 'max_depth': 9, 'n_estimators': 166, 'colsample_bytree': 0.6636684588302306, 'subsample': 0.8456750735741227}. Best is trial 3 with value: 0.0469157254561251.\n",
            "[I 2024-07-29 14:45:07,130] Trial 17 finished with value: 0.05560382276281495 and parameters: {'learning_rate': 0.11522489848479046, 'max_depth': 7, 'n_estimators': 178, 'colsample_bytree': 0.5657193207712712, 'subsample': 0.6793135738376754}. Best is trial 3 with value: 0.0469157254561251.\n",
            "[I 2024-07-29 14:45:07,848] Trial 18 finished with value: 0.06168549087749786 and parameters: {'learning_rate': 0.16852150137903193, 'max_depth': 9, 'n_estimators': 119, 'colsample_bytree': 0.6838538203443623, 'subsample': 0.8009491725145181}. Best is trial 3 with value: 0.0469157254561251.\n",
            "[I 2024-07-29 14:45:09,766] Trial 19 finished with value: 0.053866203301476956 and parameters: {'learning_rate': 0.13082606112249018, 'max_depth': 7, 'n_estimators': 149, 'colsample_bytree': 0.5044488776857531, 'subsample': 0.8880682641377702}. Best is trial 3 with value: 0.0469157254561251.\n",
            "[I 2024-07-29 14:45:13,869] Trial 20 finished with value: 0.05994787141615987 and parameters: {'learning_rate': 0.15109114329048626, 'max_depth': 10, 'n_estimators': 179, 'colsample_bytree': 0.5994097380827228, 'subsample': 0.5733798875735553}. Best is trial 3 with value: 0.0469157254561251.\n",
            "[I 2024-07-29 14:45:14,590] Trial 21 finished with value: 0.05734144222415294 and parameters: {'learning_rate': 0.1235976410994356, 'max_depth': 7, 'n_estimators': 151, 'colsample_bytree': 0.5104239404863316, 'subsample': 0.8877992953329747}. Best is trial 3 with value: 0.0469157254561251.\n",
            "[I 2024-07-29 14:45:15,379] Trial 22 finished with value: 0.05734144222415294 and parameters: {'learning_rate': 0.10524704299874682, 'max_depth': 8, 'n_estimators': 136, 'colsample_bytree': 0.5601615152037248, 'subsample': 0.9044777096933373}. Best is trial 3 with value: 0.0469157254561251.\n",
            "[I 2024-07-29 14:45:16,090] Trial 23 finished with value: 0.06081668114682881 and parameters: {'learning_rate': 0.12771676927874265, 'max_depth': 7, 'n_estimators': 156, 'colsample_bytree': 0.5363526015049956, 'subsample': 0.7430302961412121}. Best is trial 3 with value: 0.0469157254561251.\n",
            "[I 2024-07-29 14:45:16,801] Trial 24 finished with value: 0.05821025195482188 and parameters: {'learning_rate': 0.17124890319377195, 'max_depth': 9, 'n_estimators': 111, 'colsample_bytree': 0.6069149949040251, 'subsample': 0.877907245152395}. Best is trial 3 with value: 0.0469157254561251.\n",
            "[I 2024-07-29 14:45:17,604] Trial 25 finished with value: 0.05560382276281495 and parameters: {'learning_rate': 0.19916825683630762, 'max_depth': 8, 'n_estimators': 176, 'colsample_bytree': 0.5034176007099914, 'subsample': 0.8159051276795046}. Best is trial 3 with value: 0.0469157254561251.\n",
            "[I 2024-07-29 14:45:18,453] Trial 26 finished with value: 0.06081668114682881 and parameters: {'learning_rate': 0.10444057278772187, 'max_depth': 7, 'n_estimators': 139, 'colsample_bytree': 0.7916414787923026, 'subsample': 0.7881318504249855}. Best is trial 3 with value: 0.0469157254561251.\n",
            "[I 2024-07-29 14:45:19,022] Trial 27 finished with value: 0.04952215464813203 and parameters: {'learning_rate': 0.1601733787156313, 'max_depth': 5, 'n_estimators': 159, 'colsample_bytree': 0.5444153428493509, 'subsample': 0.65982018324213}. Best is trial 3 with value: 0.0469157254561251.\n",
            "[I 2024-07-29 14:45:19,695] Trial 28 finished with value: 0.05647263249348389 and parameters: {'learning_rate': 0.15573007399873004, 'max_depth': 5, 'n_estimators': 161, 'colsample_bytree': 0.6997166914408681, 'subsample': 0.649877032277355}. Best is trial 3 with value: 0.0469157254561251.\n",
            "[I 2024-07-29 14:45:20,408] Trial 29 finished with value: 0.053866203301476956 and parameters: {'learning_rate': 0.18294594749122578, 'max_depth': 5, 'n_estimators': 191, 'colsample_bytree': 0.792043180753562, 'subsample': 0.5557085757313415}. Best is trial 3 with value: 0.0469157254561251.\n",
            "[I 2024-07-29 14:45:20,962] Trial 30 finished with value: 0.05647263249348389 and parameters: {'learning_rate': 0.17371683682808922, 'max_depth': 4, 'n_estimators': 175, 'colsample_bytree': 0.5899582057540753, 'subsample': 0.6309639072246163}. Best is trial 3 with value: 0.0469157254561251.\n",
            "[I 2024-07-29 14:45:21,797] Trial 31 finished with value: 0.05647263249348389 and parameters: {'learning_rate': 0.13716617981085713, 'max_depth': 9, 'n_estimators': 146, 'colsample_bytree': 0.5405802889618733, 'subsample': 0.701812880779644}. Best is trial 3 with value: 0.0469157254561251.\n",
            "[I 2024-07-29 14:45:22,689] Trial 32 finished with value: 0.05473501303214601 and parameters: {'learning_rate': 0.15573550193123914, 'max_depth': 10, 'n_estimators': 158, 'colsample_bytree': 0.5411120690634872, 'subsample': 0.6191485622992179}. Best is trial 3 with value: 0.0469157254561251.\n",
            "[I 2024-07-29 14:45:24,215] Trial 33 finished with value: 0.05821025195482188 and parameters: {'learning_rate': 0.13433257342245836, 'max_depth': 4, 'n_estimators': 144, 'colsample_bytree': 0.6295733838059884, 'subsample': 0.5462258541153171}. Best is trial 3 with value: 0.0469157254561251.\n",
            "[I 2024-07-29 14:45:28,485] Trial 34 finished with value: 0.05560382276281495 and parameters: {'learning_rate': 0.18432952720154996, 'max_depth': 7, 'n_estimators': 183, 'colsample_bytree': 0.5827689671798835, 'subsample': 0.8605871116256419}. Best is trial 3 with value: 0.0469157254561251.\n",
            "[I 2024-07-29 14:45:29,037] Trial 35 finished with value: 0.05994787141615987 and parameters: {'learning_rate': 0.10846133028813407, 'max_depth': 3, 'n_estimators': 169, 'colsample_bytree': 0.8434667594348448, 'subsample': 0.7635030817915147}. Best is trial 3 with value: 0.0469157254561251.\n",
            "[I 2024-07-29 14:45:29,838] Trial 36 finished with value: 0.053866203301476956 and parameters: {'learning_rate': 0.1927372940752974, 'max_depth': 8, 'n_estimators': 127, 'colsample_bytree': 0.9561137947659243, 'subsample': 0.9322284899363842}. Best is trial 3 with value: 0.0469157254561251.\n",
            "[I 2024-07-29 14:45:30,460] Trial 37 finished with value: 0.05907906168549093 and parameters: {'learning_rate': 0.15001531565559928, 'max_depth': 5, 'n_estimators': 186, 'colsample_bytree': 0.5346312198025196, 'subsample': 0.7243952325637624}. Best is trial 3 with value: 0.0469157254561251.\n",
            "[I 2024-07-29 14:45:31,214] Trial 38 finished with value: 0.05734144222415294 and parameters: {'learning_rate': 0.05476853043046907, 'max_depth': 6, 'n_estimators': 153, 'colsample_bytree': 0.5413775245458827, 'subsample': 0.6787636710291577}. Best is trial 3 with value: 0.0469157254561251.\n",
            "[I 2024-07-29 14:45:31,672] Trial 39 finished with value: 0.053866203301476956 and parameters: {'learning_rate': 0.17779460426317392, 'max_depth': 9, 'n_estimators': 64, 'colsample_bytree': 0.5709102285993414, 'subsample': 0.5992243933559881}. Best is trial 3 with value: 0.0469157254561251.\n",
            "[I 2024-07-29 14:45:32,556] Trial 40 finished with value: 0.05907906168549093 and parameters: {'learning_rate': 0.0910752281636373, 'max_depth': 6, 'n_estimators': 199, 'colsample_bytree': 0.6487472070670094, 'subsample': 0.9690548947260542}. Best is trial 3 with value: 0.0469157254561251.\n",
            "[I 2024-07-29 14:45:33,280] Trial 41 finished with value: 0.06168549087749786 and parameters: {'learning_rate': 0.18942777907697528, 'max_depth': 5, 'n_estimators': 190, 'colsample_bytree': 0.8034310300134182, 'subsample': 0.5650748752124074}. Best is trial 3 with value: 0.0469157254561251.\n",
            "[I 2024-07-29 14:45:33,857] Trial 42 finished with value: 0.053866203301476956 and parameters: {'learning_rate': 0.1600202067637857, 'max_depth': 4, 'n_estimators': 170, 'colsample_bytree': 0.8211913671416614, 'subsample': 0.5043958131498716}. Best is trial 3 with value: 0.0469157254561251.\n",
            "[I 2024-07-29 14:45:34,623] Trial 43 finished with value: 0.06342311033883574 and parameters: {'learning_rate': 0.18016091267474546, 'max_depth': 5, 'n_estimators': 190, 'colsample_bytree': 0.8911074140701575, 'subsample': 0.5302706181368524}. Best is trial 3 with value: 0.0469157254561251.\n",
            "[I 2024-07-29 14:45:35,360] Trial 44 finished with value: 0.05734144222415294 and parameters: {'learning_rate': 0.1289359195512005, 'max_depth': 6, 'n_estimators': 161, 'colsample_bytree': 0.7664468941230334, 'subsample': 0.5643307600243483}. Best is trial 3 with value: 0.0469157254561251.\n",
            "[I 2024-07-29 14:45:35,867] Trial 45 finished with value: 0.05907906168549093 and parameters: {'learning_rate': 0.14368677345395287, 'max_depth': 3, 'n_estimators': 172, 'colsample_bytree': 0.7152338009475329, 'subsample': 0.99532521668219}. Best is trial 3 with value: 0.0469157254561251.\n",
            "[I 2024-07-29 14:45:36,686] Trial 46 finished with value: 0.053866203301476956 and parameters: {'learning_rate': 0.19019867079476188, 'max_depth': 8, 'n_estimators': 183, 'colsample_bytree': 0.5259993161711517, 'subsample': 0.5410232034930629}. Best is trial 3 with value: 0.0469157254561251.\n",
            "[I 2024-07-29 14:45:37,329] Trial 47 finished with value: 0.05734144222415294 and parameters: {'learning_rate': 0.19995221459264667, 'max_depth': 4, 'n_estimators': 194, 'colsample_bytree': 0.7657681931937032, 'subsample': 0.580791360987935}. Best is trial 3 with value: 0.0469157254561251.\n",
            "[I 2024-07-29 14:45:37,854] Trial 48 finished with value: 0.07558644656820157 and parameters: {'learning_rate': 0.011751557507144628, 'max_depth': 5, 'n_estimators': 110, 'colsample_bytree': 0.502065213446363, 'subsample': 0.6639400951971648}. Best is trial 3 with value: 0.0469157254561251.\n",
            "[I 2024-07-29 14:45:43,018] Trial 49 finished with value: 0.05821025195482188 and parameters: {'learning_rate': 0.16865149145535113, 'max_depth': 7, 'n_estimators': 165, 'colsample_bytree': 0.6208956603385661, 'subsample': 0.5033915971600679}. Best is trial 3 with value: 0.0469157254561251.\n"
          ]
        },
        {
          "output_type": "stream",
          "name": "stdout",
          "text": [
            "Best hyperparameters:  {'learning_rate': 0.18501735502724437, 'max_depth': 9, 'n_estimators': 172, 'colsample_bytree': 0.5123607980291944, 'subsample': 0.5074481782938699}\n"
          ]
        }
      ]
    },
    {
      "cell_type": "code",
      "source": [
        "params = {'learning_rate': 0.19861251176605974, 'max_depth': 9, 'n_estimators': 192, 'colsample_bytree': 0.7577025033430012, 'subsample': 0.919850265302466}\n",
        "model = xgb.XGBClassifier(**params)\n",
        "\n",
        "model.fit(X_train, y_train)\n",
        "\n",
        "from sklearn.metrics import confusion_matrix, accuracy_score\n",
        "y_pred = model.predict(X_test)\n",
        "cm = confusion_matrix(y_test, y_pred)\n",
        "print(cm)\n",
        "accuracy_score(y_test, y_pred)"
      ],
      "metadata": {
        "colab": {
          "base_uri": "https://localhost:8080/"
        },
        "id": "ntDwhvpeVTCd",
        "outputId": "d4b9af2c-2df0-47f5-dac7-bdcc693b5464"
      },
      "execution_count": 106,
      "outputs": [
        {
          "output_type": "stream",
          "name": "stdout",
          "text": [
            "[[669  22]\n",
            " [ 36 424]]\n"
          ]
        },
        {
          "output_type": "execute_result",
          "data": {
            "text/plain": [
              "0.9496090356211989"
            ]
          },
          "metadata": {},
          "execution_count": 106
        }
      ]
    },
    {
      "cell_type": "markdown",
      "source": [
        "###randomized search hyperparameter tuning"
      ],
      "metadata": {
        "id": "kIsFM79Qff2h"
      }
    },
    {
      "cell_type": "code",
      "source": [
        "from sklearn.model_selection import RandomizedSearchCV\n",
        "parameters = {\n",
        "    'n_estimators': [100, 200, 300, 400, 500],\n",
        "    'learning_rate': [0.01, 0.05, 0.1, 0.2, 0.3],\n",
        "    'max_depth': [3, 4, 5, 6, 7, 8],\n",
        "    'subsample': [0.6, 0.7, 0.8, 0.9, 1.0],\n",
        "    'colsample_bytree': [0.6, 0.7, 0.8, 0.9, 1.0]\n",
        "}\n",
        "\n",
        "xgb_random_search = RandomizedSearchCV(\n",
        "    estimator=classifier,\n",
        "    param_distributions=parameters,\n",
        "    n_iter=50,\n",
        "    scoring='accuracy',\n",
        "    cv=3,\n",
        "    verbose=2,\n",
        "    random_state=42,\n",
        "    n_jobs=-1\n",
        ")\n",
        "\n",
        "xgb_random_search.fit(X_train, y_train)\n",
        "\n",
        "best_accuracy = xgb_random_search.best_score_\n",
        "best_parameters = xgb_random_search.best_params_\n",
        "best_base_classifier = xgb_random_search.best_estimator_\n",
        "\n",
        "print(\"Best Accuracy: {:.2f} %\".format(best_accuracy*100))\n",
        "print(\"Best Parameters:\", best_parameters)"
      ],
      "metadata": {
        "colab": {
          "base_uri": "https://localhost:8080/"
        },
        "id": "0eFHC7V3flUi",
        "outputId": "86d77433-8142-442c-da41-fb7bb4dfc581"
      },
      "execution_count": 107,
      "outputs": [
        {
          "output_type": "stream",
          "name": "stdout",
          "text": [
            "Fitting 3 folds for each of 50 candidates, totalling 150 fits\n",
            "Best Accuracy: 95.59 %\n",
            "Best Parameters: {'subsample': 1.0, 'n_estimators': 100, 'max_depth': 6, 'learning_rate': 0.2, 'colsample_bytree': 1.0}\n"
          ]
        }
      ]
    },
    {
      "cell_type": "markdown",
      "source": [
        "###building model with best parameters"
      ],
      "metadata": {
        "id": "D6ViawTxhjHN"
      }
    },
    {
      "cell_type": "code",
      "source": [
        "best_base_classifier.fit(X_train, y_train)\n",
        "\n",
        "from sklearn.metrics import confusion_matrix, accuracy_score\n",
        "y_pred = best_base_classifier.predict(X_test)\n",
        "cm = confusion_matrix(y_test, y_pred)\n",
        "print(cm)\n",
        "accuracy_score(y_test, y_pred)"
      ],
      "metadata": {
        "colab": {
          "base_uri": "https://localhost:8080/"
        },
        "id": "OxhpSwd1g_Bn",
        "outputId": "2c753689-9b54-4764-de44-e050f6dd2d50"
      },
      "execution_count": 108,
      "outputs": [
        {
          "output_type": "stream",
          "name": "stdout",
          "text": [
            "[[664  27]\n",
            " [ 40 420]]\n"
          ]
        },
        {
          "output_type": "execute_result",
          "data": {
            "text/plain": [
              "0.9417897480451781"
            ]
          },
          "metadata": {},
          "execution_count": 108
        }
      ]
    },
    {
      "cell_type": "markdown",
      "source": [
        "###test for overfitting"
      ],
      "metadata": {
        "id": "DRdewablCgTk"
      }
    },
    {
      "cell_type": "code",
      "source": [
        "y_train_pred = classifier.predict(X_train)\n",
        "cm = confusion_matrix(y_train, y_train_pred)\n",
        "print(cm)\n",
        "accuracy_score(y_train, y_train_pred)"
      ],
      "metadata": {
        "colab": {
          "base_uri": "https://localhost:8080/"
        },
        "id": "tYpbY7Zf-jjA",
        "outputId": "541c8f97-67c9-4cbb-fa29-f97a916b7091"
      },
      "execution_count": 109,
      "outputs": [
        {
          "output_type": "stream",
          "name": "stdout",
          "text": [
            "[[2097    0]\n",
            " [   9 1344]]\n"
          ]
        },
        {
          "output_type": "execute_result",
          "data": {
            "text/plain": [
              "0.9973913043478261"
            ]
          },
          "metadata": {},
          "execution_count": 109
        }
      ]
    },
    {
      "cell_type": "markdown",
      "metadata": {
        "id": "0swRpGrWMzeS"
      },
      "source": [
        "#Training a random forest model"
      ]
    },
    {
      "cell_type": "code",
      "execution_count": 110,
      "metadata": {
        "colab": {
          "base_uri": "https://localhost:8080/",
          "height": 130
        },
        "id": "LH2n9oFOM2pS",
        "outputId": "cccf0d01-e915-4481-8ea9-52f8d97d3aee"
      },
      "outputs": [
        {
          "output_type": "stream",
          "name": "stderr",
          "text": [
            "/usr/local/lib/python3.10/dist-packages/sklearn/base.py:1152: DataConversionWarning: A column-vector y was passed when a 1d array was expected. Please change the shape of y to (n_samples,), for example using ravel().\n",
            "  return fit_method(estimator, *args, **kwargs)\n"
          ]
        },
        {
          "output_type": "execute_result",
          "data": {
            "text/plain": [
              "RandomForestClassifier()"
            ],
            "text/html": [
              "<style>#sk-container-id-13 {color: black;}#sk-container-id-13 pre{padding: 0;}#sk-container-id-13 div.sk-toggleable {background-color: white;}#sk-container-id-13 label.sk-toggleable__label {cursor: pointer;display: block;width: 100%;margin-bottom: 0;padding: 0.3em;box-sizing: border-box;text-align: center;}#sk-container-id-13 label.sk-toggleable__label-arrow:before {content: \"▸\";float: left;margin-right: 0.25em;color: #696969;}#sk-container-id-13 label.sk-toggleable__label-arrow:hover:before {color: black;}#sk-container-id-13 div.sk-estimator:hover label.sk-toggleable__label-arrow:before {color: black;}#sk-container-id-13 div.sk-toggleable__content {max-height: 0;max-width: 0;overflow: hidden;text-align: left;background-color: #f0f8ff;}#sk-container-id-13 div.sk-toggleable__content pre {margin: 0.2em;color: black;border-radius: 0.25em;background-color: #f0f8ff;}#sk-container-id-13 input.sk-toggleable__control:checked~div.sk-toggleable__content {max-height: 200px;max-width: 100%;overflow: auto;}#sk-container-id-13 input.sk-toggleable__control:checked~label.sk-toggleable__label-arrow:before {content: \"▾\";}#sk-container-id-13 div.sk-estimator input.sk-toggleable__control:checked~label.sk-toggleable__label {background-color: #d4ebff;}#sk-container-id-13 div.sk-label input.sk-toggleable__control:checked~label.sk-toggleable__label {background-color: #d4ebff;}#sk-container-id-13 input.sk-hidden--visually {border: 0;clip: rect(1px 1px 1px 1px);clip: rect(1px, 1px, 1px, 1px);height: 1px;margin: -1px;overflow: hidden;padding: 0;position: absolute;width: 1px;}#sk-container-id-13 div.sk-estimator {font-family: monospace;background-color: #f0f8ff;border: 1px dotted black;border-radius: 0.25em;box-sizing: border-box;margin-bottom: 0.5em;}#sk-container-id-13 div.sk-estimator:hover {background-color: #d4ebff;}#sk-container-id-13 div.sk-parallel-item::after {content: \"\";width: 100%;border-bottom: 1px solid gray;flex-grow: 1;}#sk-container-id-13 div.sk-label:hover label.sk-toggleable__label {background-color: #d4ebff;}#sk-container-id-13 div.sk-serial::before {content: \"\";position: absolute;border-left: 1px solid gray;box-sizing: border-box;top: 0;bottom: 0;left: 50%;z-index: 0;}#sk-container-id-13 div.sk-serial {display: flex;flex-direction: column;align-items: center;background-color: white;padding-right: 0.2em;padding-left: 0.2em;position: relative;}#sk-container-id-13 div.sk-item {position: relative;z-index: 1;}#sk-container-id-13 div.sk-parallel {display: flex;align-items: stretch;justify-content: center;background-color: white;position: relative;}#sk-container-id-13 div.sk-item::before, #sk-container-id-13 div.sk-parallel-item::before {content: \"\";position: absolute;border-left: 1px solid gray;box-sizing: border-box;top: 0;bottom: 0;left: 50%;z-index: -1;}#sk-container-id-13 div.sk-parallel-item {display: flex;flex-direction: column;z-index: 1;position: relative;background-color: white;}#sk-container-id-13 div.sk-parallel-item:first-child::after {align-self: flex-end;width: 50%;}#sk-container-id-13 div.sk-parallel-item:last-child::after {align-self: flex-start;width: 50%;}#sk-container-id-13 div.sk-parallel-item:only-child::after {width: 0;}#sk-container-id-13 div.sk-dashed-wrapped {border: 1px dashed gray;margin: 0 0.4em 0.5em 0.4em;box-sizing: border-box;padding-bottom: 0.4em;background-color: white;}#sk-container-id-13 div.sk-label label {font-family: monospace;font-weight: bold;display: inline-block;line-height: 1.2em;}#sk-container-id-13 div.sk-label-container {text-align: center;}#sk-container-id-13 div.sk-container {/* jupyter's `normalize.less` sets `[hidden] { display: none; }` but bootstrap.min.css set `[hidden] { display: none !important; }` so we also need the `!important` here to be able to override the default hidden behavior on the sphinx rendered scikit-learn.org. See: https://github.com/scikit-learn/scikit-learn/issues/21755 */display: inline-block !important;position: relative;}#sk-container-id-13 div.sk-text-repr-fallback {display: none;}</style><div id=\"sk-container-id-13\" class=\"sk-top-container\"><div class=\"sk-text-repr-fallback\"><pre>RandomForestClassifier()</pre><b>In a Jupyter environment, please rerun this cell to show the HTML representation or trust the notebook. <br />On GitHub, the HTML representation is unable to render, please try loading this page with nbviewer.org.</b></div><div class=\"sk-container\" hidden><div class=\"sk-item\"><div class=\"sk-estimator sk-toggleable\"><input class=\"sk-toggleable__control sk-hidden--visually\" id=\"sk-estimator-id-13\" type=\"checkbox\" checked><label for=\"sk-estimator-id-13\" class=\"sk-toggleable__label sk-toggleable__label-arrow\">RandomForestClassifier</label><div class=\"sk-toggleable__content\"><pre>RandomForestClassifier()</pre></div></div></div></div></div>"
            ]
          },
          "metadata": {},
          "execution_count": 110
        }
      ],
      "source": [
        "from sklearn.ensemble import RandomForestClassifier\n",
        "classifier = RandomForestClassifier()\n",
        "classifier.fit(X_train, y_train)"
      ]
    },
    {
      "cell_type": "code",
      "execution_count": 111,
      "metadata": {
        "colab": {
          "base_uri": "https://localhost:8080/"
        },
        "id": "DCjia_2GM_pp",
        "outputId": "847e52fc-27de-481a-9172-e93df342ada4"
      },
      "outputs": [
        {
          "output_type": "stream",
          "name": "stdout",
          "text": [
            "[[675  16]\n",
            " [ 46 414]]\n"
          ]
        },
        {
          "output_type": "execute_result",
          "data": {
            "text/plain": [
              "0.946133796698523"
            ]
          },
          "metadata": {},
          "execution_count": 111
        }
      ],
      "source": [
        "from sklearn.metrics import confusion_matrix, accuracy_score\n",
        "y_pred = classifier.predict(X_test)\n",
        "cm = confusion_matrix(y_test, y_pred)\n",
        "print(cm)\n",
        "accuracy_score(y_test, y_pred)"
      ]
    },
    {
      "cell_type": "markdown",
      "source": [
        "###Get most important features"
      ],
      "metadata": {
        "id": "-PzIqWwhVpcz"
      }
    },
    {
      "cell_type": "code",
      "source": [
        "importances = classifier.feature_importances_\n",
        "df_importances = pd.Series(importances, index = X.columns)\n",
        "indices = np.argsort(importances)[::-1]\n",
        "features = X.columns\n",
        "features\n",
        "df_importances.plot(kind='barh', figsize=(12,8))"
      ],
      "metadata": {
        "colab": {
          "base_uri": "https://localhost:8080/",
          "height": 551
        },
        "id": "ZwODyocQVsSi",
        "outputId": "da7c7105-1bf5-4f08-b455-dd637926f4c9"
      },
      "execution_count": 112,
      "outputs": [
        {
          "output_type": "execute_result",
          "data": {
            "text/plain": [
              "<Axes: >"
            ]
          },
          "metadata": {},
          "execution_count": 112
        },
        {
          "output_type": "display_data",
          "data": {
            "text/plain": [
              "<Figure size 1200x800 with 1 Axes>"
            ],
            "image/png": "[encoded data removed]"
          },
          "metadata": {}
        }
      ]
    },
    {
      "cell_type": "markdown",
      "source": [
        "###test for overfitting"
      ],
      "metadata": {
        "id": "jsn7JMp_TI07"
      }
    },
    {
      "cell_type": "code",
      "source": [
        "y_train_pred = classifier.predict(X_train)\n",
        "cm = confusion_matrix(y_train, y_train_pred)\n",
        "print(cm)\n",
        "accuracy_score(y_train, y_train_pred)\n"
      ],
      "metadata": {
        "colab": {
          "base_uri": "https://localhost:8080/"
        },
        "id": "BppWNRe9SlKz",
        "outputId": "d56e15b4-93d9-4448-8318-49562fa0390f"
      },
      "execution_count": 113,
      "outputs": [
        {
          "output_type": "stream",
          "name": "stdout",
          "text": [
            "[[2097    0]\n",
            " [   0 1353]]\n"
          ]
        },
        {
          "output_type": "execute_result",
          "data": {
            "text/plain": [
              "1.0"
            ]
          },
          "metadata": {},
          "execution_count": 113
        }
      ]
    },
    {
      "cell_type": "markdown",
      "metadata": {
        "id": "eECwPU-0ZRx-"
      },
      "source": [
        "###Grid search"
      ]
    },
    {
      "cell_type": "code",
      "execution_count": 114,
      "metadata": {
        "colab": {
          "base_uri": "https://localhost:8080/"
        },
        "id": "YyykS25kZTQR",
        "outputId": "79a45fcb-ced4-462d-f4dd-ddb9259a90a5"
      },
      "outputs": [
        {
          "output_type": "stream",
          "name": "stdout",
          "text": [
            "Fitting 3 folds for each of 216 candidates, totalling 648 fits\n"
          ]
        },
        {
          "output_type": "stream",
          "name": "stderr",
          "text": [
            "/usr/local/lib/python3.10/dist-packages/sklearn/base.py:1152: DataConversionWarning: A column-vector y was passed when a 1d array was expected. Please change the shape of y to (n_samples,), for example using ravel().\n",
            "  return fit_method(estimator, *args, **kwargs)\n"
          ]
        },
        {
          "output_type": "stream",
          "name": "stdout",
          "text": [
            "Best Accuracy: 95.71 %\n",
            "Best Parameters: {'criterion': 'log_loss', 'max_depth': 40, 'max_features': 'log2', 'n_estimators': 200}\n"
          ]
        }
      ],
      "source": [
        "from sklearn.model_selection import GridSearchCV\n",
        "parameters = {\n",
        "    'n_estimators': [10, 50, 100, 200],\n",
        "    'criterion': ['gini', 'entropy', 'log_loss'],\n",
        "    'max_depth': [None, 10, 20, 30, 40, 50],\n",
        "    'max_features':['sqrt', 'log2', None]\n",
        "}\n",
        "grid_search = GridSearchCV(estimator = classifier,\n",
        "                           param_grid = parameters,\n",
        "                           scoring = 'accuracy',\n",
        "                           cv = 3,\n",
        "                           n_jobs = -1,\n",
        "                           verbose = 2)\n",
        "grid_search.fit(X_train, y_train)\n",
        "best_accuracy = grid_search.best_score_\n",
        "best_parameters = grid_search.best_params_\n",
        "best_base_classifier = grid_search.best_estimator_\n",
        "\n",
        "print(\"Best Accuracy: {:.2f} %\".format(best_accuracy*100))\n",
        "print(\"Best Parameters:\", best_parameters)"
      ]
    },
    {
      "cell_type": "markdown",
      "source": [
        "###building model with best parameters"
      ],
      "metadata": {
        "id": "WV1nH3Pqmgx5"
      }
    },
    {
      "cell_type": "code",
      "source": [
        "best_base_classifier.fit(X_train, y_train)\n",
        "\n",
        "from sklearn.metrics import confusion_matrix, accuracy_score\n",
        "y_pred = best_base_classifier.predict(X_test)\n",
        "cm = confusion_matrix(y_test, y_pred)\n",
        "print(cm)\n",
        "accuracy_score(y_test, y_pred)"
      ],
      "metadata": {
        "colab": {
          "base_uri": "https://localhost:8080/"
        },
        "outputId": "7e60c8ed-bf57-43f2-a24f-b13956fb1378",
        "id": "jt0RdWdVmgyA"
      },
      "execution_count": 115,
      "outputs": [
        {
          "output_type": "stream",
          "name": "stderr",
          "text": [
            "/usr/local/lib/python3.10/dist-packages/sklearn/base.py:1152: DataConversionWarning: A column-vector y was passed when a 1d array was expected. Please change the shape of y to (n_samples,), for example using ravel().\n",
            "  return fit_method(estimator, *args, **kwargs)\n"
          ]
        },
        {
          "output_type": "stream",
          "name": "stdout",
          "text": [
            "[[674  17]\n",
            " [ 45 415]]\n"
          ]
        },
        {
          "output_type": "execute_result",
          "data": {
            "text/plain": [
              "0.946133796698523"
            ]
          },
          "metadata": {},
          "execution_count": 115
        }
      ]
    },
    {
      "cell_type": "markdown",
      "metadata": {
        "id": "SKlRtowgNh1m"
      },
      "source": [
        "#Training a svm model"
      ]
    },
    {
      "cell_type": "code",
      "execution_count": 116,
      "metadata": {
        "colab": {
          "base_uri": "https://localhost:8080/",
          "height": 130
        },
        "id": "tJiCezsmNkf8",
        "outputId": "a78640e9-57d6-4a01-c957-6d7702300f4c"
      },
      "outputs": [
        {
          "output_type": "stream",
          "name": "stderr",
          "text": [
            "/usr/local/lib/python3.10/dist-packages/sklearn/utils/validation.py:1183: DataConversionWarning: A column-vector y was passed when a 1d array was expected. Please change the shape of y to (n_samples, ), for example using ravel().\n",
            "  y = column_or_1d(y, warn=True)\n"
          ]
        },
        {
          "output_type": "execute_result",
          "data": {
            "text/plain": [
              "SVC(kernel='linear', random_state=110)"
            ],
            "text/html": [
              "<style>#sk-container-id-14 {color: black;}#sk-container-id-14 pre{padding: 0;}#sk-container-id-14 div.sk-toggleable {background-color: white;}#sk-container-id-14 label.sk-toggleable__label {cursor: pointer;display: block;width: 100%;margin-bottom: 0;padding: 0.3em;box-sizing: border-box;text-align: center;}#sk-container-id-14 label.sk-toggleable__label-arrow:before {content: \"▸\";float: left;margin-right: 0.25em;color: #696969;}#sk-container-id-14 label.sk-toggleable__label-arrow:hover:before {color: black;}#sk-container-id-14 div.sk-estimator:hover label.sk-toggleable__label-arrow:before {color: black;}#sk-container-id-14 div.sk-toggleable__content {max-height: 0;max-width: 0;overflow: hidden;text-align: left;background-color: #f0f8ff;}#sk-container-id-14 div.sk-toggleable__content pre {margin: 0.2em;color: black;border-radius: 0.25em;background-color: #f0f8ff;}#sk-container-id-14 input.sk-toggleable__control:checked~div.sk-toggleable__content {max-height: 200px;max-width: 100%;overflow: auto;}#sk-container-id-14 input.sk-toggleable__control:checked~label.sk-toggleable__label-arrow:before {content: \"▾\";}#sk-container-id-14 div.sk-estimator input.sk-toggleable__control:checked~label.sk-toggleable__label {background-color: #d4ebff;}#sk-container-id-14 div.sk-label input.sk-toggleable__control:checked~label.sk-toggleable__label {background-color: #d4ebff;}#sk-container-id-14 input.sk-hidden--visually {border: 0;clip: rect(1px 1px 1px 1px);clip: rect(1px, 1px, 1px, 1px);height: 1px;margin: -1px;overflow: hidden;padding: 0;position: absolute;width: 1px;}#sk-container-id-14 div.sk-estimator {font-family: monospace;background-color: #f0f8ff;border: 1px dotted black;border-radius: 0.25em;box-sizing: border-box;margin-bottom: 0.5em;}#sk-container-id-14 div.sk-estimator:hover {background-color: #d4ebff;}#sk-container-id-14 div.sk-parallel-item::after {content: \"\";width: 100%;border-bottom: 1px solid gray;flex-grow: 1;}#sk-container-id-14 div.sk-label:hover label.sk-toggleable__label {background-color: #d4ebff;}#sk-container-id-14 div.sk-serial::before {content: \"\";position: absolute;border-left: 1px solid gray;box-sizing: border-box;top: 0;bottom: 0;left: 50%;z-index: 0;}#sk-container-id-14 div.sk-serial {display: flex;flex-direction: column;align-items: center;background-color: white;padding-right: 0.2em;padding-left: 0.2em;position: relative;}#sk-container-id-14 div.sk-item {position: relative;z-index: 1;}#sk-container-id-14 div.sk-parallel {display: flex;align-items: stretch;justify-content: center;background-color: white;position: relative;}#sk-container-id-14 div.sk-item::before, #sk-container-id-14 div.sk-parallel-item::before {content: \"\";position: absolute;border-left: 1px solid gray;box-sizing: border-box;top: 0;bottom: 0;left: 50%;z-index: -1;}#sk-container-id-14 div.sk-parallel-item {display: flex;flex-direction: column;z-index: 1;position: relative;background-color: white;}#sk-container-id-14 div.sk-parallel-item:first-child::after {align-self: flex-end;width: 50%;}#sk-container-id-14 div.sk-parallel-item:last-child::after {align-self: flex-start;width: 50%;}#sk-container-id-14 div.sk-parallel-item:only-child::after {width: 0;}#sk-container-id-14 div.sk-dashed-wrapped {border: 1px dashed gray;margin: 0 0.4em 0.5em 0.4em;box-sizing: border-box;padding-bottom: 0.4em;background-color: white;}#sk-container-id-14 div.sk-label label {font-family: monospace;font-weight: bold;display: inline-block;line-height: 1.2em;}#sk-container-id-14 div.sk-label-container {text-align: center;}#sk-container-id-14 div.sk-container {/* jupyter's `normalize.less` sets `[hidden] { display: none; }` but bootstrap.min.css set `[hidden] { display: none !important; }` so we also need the `!important` here to be able to override the default hidden behavior on the sphinx rendered scikit-learn.org. See: https://github.com/scikit-learn/scikit-learn/issues/21755 */display: inline-block !important;position: relative;}#sk-container-id-14 div.sk-text-repr-fallback {display: none;}</style><div id=\"sk-container-id-14\" class=\"sk-top-container\"><div class=\"sk-text-repr-fallback\"><pre>SVC(kernel=&#x27;linear&#x27;, random_state=110)</pre><b>In a Jupyter environment, please rerun this cell to show the HTML representation or trust the notebook. <br />On GitHub, the HTML representation is unable to render, please try loading this page with nbviewer.org.</b></div><div class=\"sk-container\" hidden><div class=\"sk-item\"><div class=\"sk-estimator sk-toggleable\"><input class=\"sk-toggleable__control sk-hidden--visually\" id=\"sk-estimator-id-14\" type=\"checkbox\" checked><label for=\"sk-estimator-id-14\" class=\"sk-toggleable__label sk-toggleable__label-arrow\">SVC</label><div class=\"sk-toggleable__content\"><pre>SVC(kernel=&#x27;linear&#x27;, random_state=110)</pre></div></div></div></div></div>"
            ]
          },
          "metadata": {},
          "execution_count": 116
        }
      ],
      "source": [
        "from sklearn.svm import SVC\n",
        "classifier = SVC(kernel = 'linear', random_state = 110)\n",
        "classifier.fit(X_train, y_train)"
      ]
    },
    {
      "cell_type": "code",
      "source": [
        "from sklearn.metrics import confusion_matrix, accuracy_score\n",
        "y_pred = classifier.predict(X_test)\n",
        "cm = confusion_matrix(y_test, y_pred)\n",
        "print(cm)\n",
        "accuracy_score(y_test, y_pred)"
      ],
      "metadata": {
        "colab": {
          "base_uri": "https://localhost:8080/"
        },
        "id": "f0ODOOdT7yro",
        "outputId": "cb6a57d2-18d0-452c-cc11-0dc7ceb29956"
      },
      "execution_count": 117,
      "outputs": [
        {
          "output_type": "stream",
          "name": "stdout",
          "text": [
            "[[648  43]\n",
            " [ 63 397]]\n"
          ]
        },
        {
          "output_type": "execute_result",
          "data": {
            "text/plain": [
              "0.9079061685490878"
            ]
          },
          "metadata": {},
          "execution_count": 117
        }
      ]
    },
    {
      "cell_type": "markdown",
      "source": [
        "###test for overfitting"
      ],
      "metadata": {
        "id": "KbJ_s6ezTF8E"
      }
    },
    {
      "cell_type": "code",
      "source": [
        "y_train_pred = classifier.predict(X_train)\n",
        "cm = confusion_matrix(y_train, y_train_pred)\n",
        "print(cm)\n",
        "accuracy_score(y_train, y_train_pred)\n"
      ],
      "metadata": {
        "colab": {
          "base_uri": "https://localhost:8080/"
        },
        "id": "7dMiqfmqSuit",
        "outputId": "a6f7bd97-9257-43c7-952b-a7204a03a77c"
      },
      "execution_count": 118,
      "outputs": [
        {
          "output_type": "stream",
          "name": "stdout",
          "text": [
            "[[2007   90]\n",
            " [ 122 1231]]\n"
          ]
        },
        {
          "output_type": "execute_result",
          "data": {
            "text/plain": [
              "0.9385507246376812"
            ]
          },
          "metadata": {},
          "execution_count": 118
        }
      ]
    },
    {
      "cell_type": "markdown",
      "metadata": {
        "id": "YL1g49RdUttP"
      },
      "source": [
        "###model boosting\n"
      ]
    },
    {
      "cell_type": "code",
      "execution_count": 119,
      "metadata": {
        "colab": {
          "base_uri": "https://localhost:8080/"
        },
        "id": "Im4vrLo1Uxh9",
        "outputId": "b4852c61-3044-4288-d07e-990a572717eb"
      },
      "outputs": [
        {
          "output_type": "stream",
          "name": "stdout",
          "text": [
            "Fitting 3 folds for each of 96 candidates, totalling 288 fits\n"
          ]
        },
        {
          "output_type": "stream",
          "name": "stderr",
          "text": [
            "/usr/local/lib/python3.10/dist-packages/sklearn/utils/validation.py:1183: DataConversionWarning: A column-vector y was passed when a 1d array was expected. Please change the shape of y to (n_samples, ), for example using ravel().\n",
            "  y = column_or_1d(y, warn=True)\n"
          ]
        },
        {
          "output_type": "stream",
          "name": "stdout",
          "text": [
            "Best Accuracy: 93.22 %\n",
            "Best Parameters: {'C': 0.5, 'gamma': 0, 'kernel': 'linear'}\n"
          ]
        }
      ],
      "source": [
        "from sklearn.model_selection import GridSearchCV\n",
        "parameters = {\n",
        "    'C': [0.25, 0.5, 0.75, 1],\n",
        "    'kernel': ['linear', 'poly', 'rbf', 'sigmoid'],\n",
        "    'gamma': [0,0.1, 0.5, 1, 2, 5]\n",
        "}\n",
        "\n",
        "grid_search = GridSearchCV(estimator = classifier,\n",
        "                           param_grid = parameters,\n",
        "                           scoring = 'accuracy',\n",
        "                           cv = 3,\n",
        "                           n_jobs = -1,\n",
        "                           verbose = 2)\n",
        "grid_search.fit(X_train, y_train)\n",
        "best_accuracy = grid_search.best_score_\n",
        "best_parameters = grid_search.best_params_\n",
        "best_base_classifier = grid_search.best_estimator_\n",
        "\n",
        "print(\"Best Accuracy: {:.2f} %\".format(best_accuracy*100))\n",
        "print(\"Best Parameters:\", best_parameters)\n"
      ]
    },
    {
      "cell_type": "code",
      "execution_count": 120,
      "metadata": {
        "id": "4h_U3ofl893V",
        "colab": {
          "base_uri": "https://localhost:8080/"
        },
        "outputId": "146a6758-a754-4a37-c89d-7d5d91032875"
      },
      "outputs": [
        {
          "output_type": "stream",
          "name": "stderr",
          "text": [
            "/usr/local/lib/python3.10/dist-packages/sklearn/ensemble/_bagging.py:802: DataConversionWarning: A column-vector y was passed when a 1d array was expected. Please change the shape of y to (n_samples, ), for example using ravel().\n",
            "  y = column_or_1d(y, warn=True)\n"
          ]
        },
        {
          "output_type": "stream",
          "name": "stdout",
          "text": [
            "Confusion Matrix:\n",
            "[[648  43]\n",
            " [ 65 395]]\n",
            "Accuracy Score:\n",
            "0.9061685490877498\n"
          ]
        }
      ],
      "source": [
        "from sklearn.ensemble import BaggingClassifier\n",
        "from sklearn.model_selection import GridSearchCV\n",
        "from sklearn.metrics import confusion_matrix, accuracy_score\n",
        "\n",
        "param_grid = {\n",
        "    'n_estimators': [50, 100, 150],\n",
        "    'max_samples': [0.5, 1.0],\n",
        "    'max_features': [0.5, 1.0]\n",
        "}\n",
        "\n",
        "clf = BaggingClassifier(estimator=best_base_classifier, random_state=0)\n",
        "\n",
        "grid_search = GridSearchCV(estimator=clf, param_grid=param_grid, cv=5, n_jobs=-1, scoring='accuracy')\n",
        "grid_search.fit(X_train, y_train)\n",
        "\n",
        "best_clf = grid_search.best_estimator_\n",
        "\n",
        "y_pred = best_clf.predict(X_test)\n",
        "\n",
        "cm = confusion_matrix(y_test, y_pred)\n",
        "print(\"Confusion Matrix:\")\n",
        "print(cm)\n",
        "print(\"Accuracy Score:\")\n",
        "print(accuracy_score(y_test, y_pred))\n"
      ]
    },
    {
      "cell_type": "markdown",
      "metadata": {
        "id": "Y6FemTHtelLO"
      },
      "source": [
        "# Training naive bayes model"
      ]
    },
    {
      "cell_type": "code",
      "execution_count": 121,
      "metadata": {
        "id": "f3vE_0eFeoUh",
        "colab": {
          "base_uri": "https://localhost:8080/",
          "height": 130
        },
        "outputId": "0131d472-411f-482d-d28f-f91a49e53a9f"
      },
      "outputs": [
        {
          "output_type": "stream",
          "name": "stderr",
          "text": [
            "/usr/local/lib/python3.10/dist-packages/sklearn/utils/validation.py:1183: DataConversionWarning: A column-vector y was passed when a 1d array was expected. Please change the shape of y to (n_samples, ), for example using ravel().\n",
            "  y = column_or_1d(y, warn=True)\n"
          ]
        },
        {
          "output_type": "execute_result",
          "data": {
            "text/plain": [
              "GaussianNB()"
            ],
            "text/html": [
              "<style>#sk-container-id-15 {color: black;}#sk-container-id-15 pre{padding: 0;}#sk-container-id-15 div.sk-toggleable {background-color: white;}#sk-container-id-15 label.sk-toggleable__label {cursor: pointer;display: block;width: 100%;margin-bottom: 0;padding: 0.3em;box-sizing: border-box;text-align: center;}#sk-container-id-15 label.sk-toggleable__label-arrow:before {content: \"▸\";float: left;margin-right: 0.25em;color: #696969;}#sk-container-id-15 label.sk-toggleable__label-arrow:hover:before {color: black;}#sk-container-id-15 div.sk-estimator:hover label.sk-toggleable__label-arrow:before {color: black;}#sk-container-id-15 div.sk-toggleable__content {max-height: 0;max-width: 0;overflow: hidden;text-align: left;background-color: #f0f8ff;}#sk-container-id-15 div.sk-toggleable__content pre {margin: 0.2em;color: black;border-radius: 0.25em;background-color: #f0f8ff;}#sk-container-id-15 input.sk-toggleable__control:checked~div.sk-toggleable__content {max-height: 200px;max-width: 100%;overflow: auto;}#sk-container-id-15 input.sk-toggleable__control:checked~label.sk-toggleable__label-arrow:before {content: \"▾\";}#sk-container-id-15 div.sk-estimator input.sk-toggleable__control:checked~label.sk-toggleable__label {background-color: #d4ebff;}#sk-container-id-15 div.sk-label input.sk-toggleable__control:checked~label.sk-toggleable__label {background-color: #d4ebff;}#sk-container-id-15 input.sk-hidden--visually {border: 0;clip: rect(1px 1px 1px 1px);clip: rect(1px, 1px, 1px, 1px);height: 1px;margin: -1px;overflow: hidden;padding: 0;position: absolute;width: 1px;}#sk-container-id-15 div.sk-estimator {font-family: monospace;background-color: #f0f8ff;border: 1px dotted black;border-radius: 0.25em;box-sizing: border-box;margin-bottom: 0.5em;}#sk-container-id-15 div.sk-estimator:hover {background-color: #d4ebff;}#sk-container-id-15 div.sk-parallel-item::after {content: \"\";width: 100%;border-bottom: 1px solid gray;flex-grow: 1;}#sk-container-id-15 div.sk-label:hover label.sk-toggleable__label {background-color: #d4ebff;}#sk-container-id-15 div.sk-serial::before {content: \"\";position: absolute;border-left: 1px solid gray;box-sizing: border-box;top: 0;bottom: 0;left: 50%;z-index: 0;}#sk-container-id-15 div.sk-serial {display: flex;flex-direction: column;align-items: center;background-color: white;padding-right: 0.2em;padding-left: 0.2em;position: relative;}#sk-container-id-15 div.sk-item {position: relative;z-index: 1;}#sk-container-id-15 div.sk-parallel {display: flex;align-items: stretch;justify-content: center;background-color: white;position: relative;}#sk-container-id-15 div.sk-item::before, #sk-container-id-15 div.sk-parallel-item::before {content: \"\";position: absolute;border-left: 1px solid gray;box-sizing: border-box;top: 0;bottom: 0;left: 50%;z-index: -1;}#sk-container-id-15 div.sk-parallel-item {display: flex;flex-direction: column;z-index: 1;position: relative;background-color: white;}#sk-container-id-15 div.sk-parallel-item:first-child::after {align-self: flex-end;width: 50%;}#sk-container-id-15 div.sk-parallel-item:last-child::after {align-self: flex-start;width: 50%;}#sk-container-id-15 div.sk-parallel-item:only-child::after {width: 0;}#sk-container-id-15 div.sk-dashed-wrapped {border: 1px dashed gray;margin: 0 0.4em 0.5em 0.4em;box-sizing: border-box;padding-bottom: 0.4em;background-color: white;}#sk-container-id-15 div.sk-label label {font-family: monospace;font-weight: bold;display: inline-block;line-height: 1.2em;}#sk-container-id-15 div.sk-label-container {text-align: center;}#sk-container-id-15 div.sk-container {/* jupyter's `normalize.less` sets `[hidden] { display: none; }` but bootstrap.min.css set `[hidden] { display: none !important; }` so we also need the `!important` here to be able to override the default hidden behavior on the sphinx rendered scikit-learn.org. See: https://github.com/scikit-learn/scikit-learn/issues/21755 */display: inline-block !important;position: relative;}#sk-container-id-15 div.sk-text-repr-fallback {display: none;}</style><div id=\"sk-container-id-15\" class=\"sk-top-container\"><div class=\"sk-text-repr-fallback\"><pre>GaussianNB()</pre><b>In a Jupyter environment, please rerun this cell to show the HTML representation or trust the notebook. <br />On GitHub, the HTML representation is unable to render, please try loading this page with nbviewer.org.</b></div><div class=\"sk-container\" hidden><div class=\"sk-item\"><div class=\"sk-estimator sk-toggleable\"><input class=\"sk-toggleable__control sk-hidden--visually\" id=\"sk-estimator-id-15\" type=\"checkbox\" checked><label for=\"sk-estimator-id-15\" class=\"sk-toggleable__label sk-toggleable__label-arrow\">GaussianNB</label><div class=\"sk-toggleable__content\"><pre>GaussianNB()</pre></div></div></div></div></div>"
            ]
          },
          "metadata": {},
          "execution_count": 121
        }
      ],
      "source": [
        "from sklearn.naive_bayes import GaussianNB\n",
        "classifier = GaussianNB()\n",
        "classifier.fit(X_train, y_train)"
      ]
    },
    {
      "cell_type": "code",
      "execution_count": 122,
      "metadata": {
        "id": "DIMZs72tewsT",
        "colab": {
          "base_uri": "https://localhost:8080/"
        },
        "outputId": "69555c48-d943-4380-e774-b81feae72c29"
      },
      "outputs": [
        {
          "output_type": "stream",
          "name": "stdout",
          "text": [
            "[[479 212]\n",
            " [ 32 428]]\n"
          ]
        },
        {
          "output_type": "execute_result",
          "data": {
            "text/plain": [
              "0.788010425716768"
            ]
          },
          "metadata": {},
          "execution_count": 122
        }
      ],
      "source": [
        "from sklearn.metrics import confusion_matrix, accuracy_score\n",
        "y_pred = classifier.predict(X_test)\n",
        "cm = confusion_matrix(y_test, y_pred)\n",
        "print(cm)\n",
        "accuracy_score(y_test, y_pred)"
      ]
    },
    {
      "cell_type": "markdown",
      "source": [
        "###test for overfitting"
      ],
      "metadata": {
        "id": "qWbFs5zVS-pa"
      }
    },
    {
      "cell_type": "code",
      "source": [
        "y_train_pred = classifier.predict(X_train)\n",
        "cm = confusion_matrix(y_train, y_train_pred)\n",
        "print(cm)\n",
        "accuracy_score(y_train, y_train_pred)\n"
      ],
      "metadata": {
        "id": "wNYVbG8US3KI",
        "colab": {
          "base_uri": "https://localhost:8080/"
        },
        "outputId": "b41d69a9-c0e2-4b49-da01-271b6a6308c8"
      },
      "execution_count": 123,
      "outputs": [
        {
          "output_type": "stream",
          "name": "stdout",
          "text": [
            "[[1542  555]\n",
            " [  59 1294]]\n"
          ]
        },
        {
          "output_type": "execute_result",
          "data": {
            "text/plain": [
              "0.8220289855072463"
            ]
          },
          "metadata": {},
          "execution_count": 123
        }
      ]
    },
    {
      "cell_type": "markdown",
      "metadata": {
        "id": "-xS2dRwlCD_D"
      },
      "source": [
        "#Training extra trees model"
      ]
    },
    {
      "cell_type": "code",
      "execution_count": 124,
      "metadata": {
        "id": "p6WAOOYRCMJq",
        "colab": {
          "base_uri": "https://localhost:8080/",
          "height": 130
        },
        "outputId": "2bfb2e6b-e6f8-4730-a105-e26a977e2da3"
      },
      "outputs": [
        {
          "output_type": "stream",
          "name": "stderr",
          "text": [
            "/usr/local/lib/python3.10/dist-packages/sklearn/base.py:1152: DataConversionWarning: A column-vector y was passed when a 1d array was expected. Please change the shape of y to (n_samples,), for example using ravel().\n",
            "  return fit_method(estimator, *args, **kwargs)\n"
          ]
        },
        {
          "output_type": "execute_result",
          "data": {
            "text/plain": [
              "ExtraTreesClassifier(random_state=0)"
            ],
            "text/html": [
              "<style>#sk-container-id-16 {color: black;}#sk-container-id-16 pre{padding: 0;}#sk-container-id-16 div.sk-toggleable {background-color: white;}#sk-container-id-16 label.sk-toggleable__label {cursor: pointer;display: block;width: 100%;margin-bottom: 0;padding: 0.3em;box-sizing: border-box;text-align: center;}#sk-container-id-16 label.sk-toggleable__label-arrow:before {content: \"▸\";float: left;margin-right: 0.25em;color: #696969;}#sk-container-id-16 label.sk-toggleable__label-arrow:hover:before {color: black;}#sk-container-id-16 div.sk-estimator:hover label.sk-toggleable__label-arrow:before {color: black;}#sk-container-id-16 div.sk-toggleable__content {max-height: 0;max-width: 0;overflow: hidden;text-align: left;background-color: #f0f8ff;}#sk-container-id-16 div.sk-toggleable__content pre {margin: 0.2em;color: black;border-radius: 0.25em;background-color: #f0f8ff;}#sk-container-id-16 input.sk-toggleable__control:checked~div.sk-toggleable__content {max-height: 200px;max-width: 100%;overflow: auto;}#sk-container-id-16 input.sk-toggleable__control:checked~label.sk-toggleable__label-arrow:before {content: \"▾\";}#sk-container-id-16 div.sk-estimator input.sk-toggleable__control:checked~label.sk-toggleable__label {background-color: #d4ebff;}#sk-container-id-16 div.sk-label input.sk-toggleable__control:checked~label.sk-toggleable__label {background-color: #d4ebff;}#sk-container-id-16 input.sk-hidden--visually {border: 0;clip: rect(1px 1px 1px 1px);clip: rect(1px, 1px, 1px, 1px);height: 1px;margin: -1px;overflow: hidden;padding: 0;position: absolute;width: 1px;}#sk-container-id-16 div.sk-estimator {font-family: monospace;background-color: #f0f8ff;border: 1px dotted black;border-radius: 0.25em;box-sizing: border-box;margin-bottom: 0.5em;}#sk-container-id-16 div.sk-estimator:hover {background-color: #d4ebff;}#sk-container-id-16 div.sk-parallel-item::after {content: \"\";width: 100%;border-bottom: 1px solid gray;flex-grow: 1;}#sk-container-id-16 div.sk-label:hover label.sk-toggleable__label {background-color: #d4ebff;}#sk-container-id-16 div.sk-serial::before {content: \"\";position: absolute;border-left: 1px solid gray;box-sizing: border-box;top: 0;bottom: 0;left: 50%;z-index: 0;}#sk-container-id-16 div.sk-serial {display: flex;flex-direction: column;align-items: center;background-color: white;padding-right: 0.2em;padding-left: 0.2em;position: relative;}#sk-container-id-16 div.sk-item {position: relative;z-index: 1;}#sk-container-id-16 div.sk-parallel {display: flex;align-items: stretch;justify-content: center;background-color: white;position: relative;}#sk-container-id-16 div.sk-item::before, #sk-container-id-16 div.sk-parallel-item::before {content: \"\";position: absolute;border-left: 1px solid gray;box-sizing: border-box;top: 0;bottom: 0;left: 50%;z-index: -1;}#sk-container-id-16 div.sk-parallel-item {display: flex;flex-direction: column;z-index: 1;position: relative;background-color: white;}#sk-container-id-16 div.sk-parallel-item:first-child::after {align-self: flex-end;width: 50%;}#sk-container-id-16 div.sk-parallel-item:last-child::after {align-self: flex-start;width: 50%;}#sk-container-id-16 div.sk-parallel-item:only-child::after {width: 0;}#sk-container-id-16 div.sk-dashed-wrapped {border: 1px dashed gray;margin: 0 0.4em 0.5em 0.4em;box-sizing: border-box;padding-bottom: 0.4em;background-color: white;}#sk-container-id-16 div.sk-label label {font-family: monospace;font-weight: bold;display: inline-block;line-height: 1.2em;}#sk-container-id-16 div.sk-label-container {text-align: center;}#sk-container-id-16 div.sk-container {/* jupyter's `normalize.less` sets `[hidden] { display: none; }` but bootstrap.min.css set `[hidden] { display: none !important; }` so we also need the `!important` here to be able to override the default hidden behavior on the sphinx rendered scikit-learn.org. See: https://github.com/scikit-learn/scikit-learn/issues/21755 */display: inline-block !important;position: relative;}#sk-container-id-16 div.sk-text-repr-fallback {display: none;}</style><div id=\"sk-container-id-16\" class=\"sk-top-container\"><div class=\"sk-text-repr-fallback\"><pre>ExtraTreesClassifier(random_state=0)</pre><b>In a Jupyter environment, please rerun this cell to show the HTML representation or trust the notebook. <br />On GitHub, the HTML representation is unable to render, please try loading this page with nbviewer.org.</b></div><div class=\"sk-container\" hidden><div class=\"sk-item\"><div class=\"sk-estimator sk-toggleable\"><input class=\"sk-toggleable__control sk-hidden--visually\" id=\"sk-estimator-id-16\" type=\"checkbox\" checked><label for=\"sk-estimator-id-16\" class=\"sk-toggleable__label sk-toggleable__label-arrow\">ExtraTreesClassifier</label><div class=\"sk-toggleable__content\"><pre>ExtraTreesClassifier(random_state=0)</pre></div></div></div></div></div>"
            ]
          },
          "metadata": {},
          "execution_count": 124
        }
      ],
      "source": [
        "from sklearn.ensemble import ExtraTreesClassifier\n",
        "classifier = ExtraTreesClassifier(n_estimators=100, random_state=0)\n",
        "classifier.fit(X_train, y_train)\n"
      ]
    },
    {
      "cell_type": "code",
      "execution_count": 125,
      "metadata": {
        "id": "_XqiZKu9CfZG",
        "colab": {
          "base_uri": "https://localhost:8080/"
        },
        "outputId": "46ac0af2-6c18-46fc-a963-1a88c299c922"
      },
      "outputs": [
        {
          "output_type": "stream",
          "name": "stdout",
          "text": [
            "[[671  20]\n",
            " [ 35 425]]\n"
          ]
        },
        {
          "output_type": "execute_result",
          "data": {
            "text/plain": [
              "0.952215464813206"
            ]
          },
          "metadata": {},
          "execution_count": 125
        }
      ],
      "source": [
        "from sklearn.metrics import confusion_matrix, accuracy_score\n",
        "y_pred = classifier.predict(X_test)\n",
        "cm = confusion_matrix(y_test, y_pred)\n",
        "print(cm)\n",
        "accuracy_score(y_test, y_pred)"
      ]
    },
    {
      "cell_type": "markdown",
      "source": [
        "#building an ANN"
      ],
      "metadata": {
        "id": "gYAaYccdvh1L"
      }
    },
    {
      "cell_type": "code",
      "source": [
        "import numpy as np\n",
        "import tensorflow as tf\n",
        "import keras\n",
        "from keras.models import Sequential\n",
        "from keras.layers import Dense\n",
        "from keras.optimizers import Adam\n",
        "\n",
        "size_input_layer = X_train.shape[1]\n",
        "size_hidden_layer = (2*size_input_layer // 3) + 2\n",
        "\n",
        "model = Sequential([\n",
        "    Dense(units=size_hidden_layer, input_shape=(size_input_layer,), activation='relu'),\n",
        "\n",
        "    Dense(units=1, activation='sigmoid')\n",
        "])\n",
        "\n",
        "model.compile(\n",
        "    optimizer=Adam(learning_rate=0.001),\n",
        "    loss='binary_crossentropy',\n",
        "    metrics=['accuracy']\n",
        ")\n"
      ],
      "metadata": {
        "id": "phgVx4ytvmMj"
      },
      "execution_count": 126,
      "outputs": []
    },
    {
      "cell_type": "code",
      "source": [
        "model.fit(\n",
        "    x=X_train,\n",
        "    y=y_train,\n",
        "    batch_size=3,\n",
        "    epochs=100,\n",
        "    validation_split = 0.1,\n",
        "    shuffle=True,\n",
        "    verbose=2\n",
        ")"
      ],
      "metadata": {
        "colab": {
          "base_uri": "https://localhost:8080/"
        },
        "collapsed": true,
        "id": "gKB-wa4Ox14e",
        "outputId": "ff41d798-cef1-4b6a-994b-3ee49c1dd61a"
      },
      "execution_count": 127,
      "outputs": [
        {
          "output_type": "stream",
          "name": "stdout",
          "text": [
            "Epoch 1/100\n",
            "1035/1035 - 3s - loss: 0.4362 - accuracy: 0.8767 - val_loss: 0.2222 - val_accuracy: 0.9275 - 3s/epoch - 3ms/step\n",
            "Epoch 2/100\n",
            "1035/1035 - 2s - loss: 0.1962 - accuracy: 0.9314 - val_loss: 0.1616 - val_accuracy: 0.9391 - 2s/epoch - 2ms/step\n",
            "Epoch 3/100\n",
            "1035/1035 - 2s - loss: 0.1779 - accuracy: 0.9388 - val_loss: 0.2085 - val_accuracy: 0.9362 - 2s/epoch - 2ms/step\n",
            "Epoch 4/100\n",
            "1035/1035 - 2s - loss: 0.1655 - accuracy: 0.9391 - val_loss: 0.1751 - val_accuracy: 0.9333 - 2s/epoch - 2ms/step\n",
            "Epoch 5/100\n",
            "1035/1035 - 2s - loss: 0.1520 - accuracy: 0.9452 - val_loss: 0.1798 - val_accuracy: 0.9333 - 2s/epoch - 2ms/step\n",
            "Epoch 6/100\n",
            "1035/1035 - 3s - loss: 0.1410 - accuracy: 0.9498 - val_loss: 0.1662 - val_accuracy: 0.9391 - 3s/epoch - 3ms/step\n",
            "Epoch 7/100\n",
            "1035/1035 - 2s - loss: 0.1439 - accuracy: 0.9475 - val_loss: 0.1615 - val_accuracy: 0.9507 - 2s/epoch - 2ms/step\n",
            "Epoch 8/100\n",
            "1035/1035 - 2s - loss: 0.1302 - accuracy: 0.9507 - val_loss: 0.1418 - val_accuracy: 0.9420 - 2s/epoch - 2ms/step\n",
            "Epoch 9/100\n",
            "1035/1035 - 2s - loss: 0.1258 - accuracy: 0.9533 - val_loss: 0.1681 - val_accuracy: 0.9507 - 2s/epoch - 2ms/step\n",
            "Epoch 10/100\n",
            "1035/1035 - 2s - loss: 0.1259 - accuracy: 0.9539 - val_loss: 0.1587 - val_accuracy: 0.9536 - 2s/epoch - 2ms/step\n",
            "Epoch 11/100\n",
            "1035/1035 - 2s - loss: 0.1238 - accuracy: 0.9585 - val_loss: 0.1373 - val_accuracy: 0.9507 - 2s/epoch - 2ms/step\n",
            "Epoch 12/100\n",
            "1035/1035 - 2s - loss: 0.1158 - accuracy: 0.9617 - val_loss: 0.1328 - val_accuracy: 0.9478 - 2s/epoch - 2ms/step\n",
            "Epoch 13/100\n",
            "1035/1035 - 2s - loss: 0.1168 - accuracy: 0.9617 - val_loss: 0.1734 - val_accuracy: 0.9478 - 2s/epoch - 2ms/step\n",
            "Epoch 14/100\n",
            "1035/1035 - 3s - loss: 0.1100 - accuracy: 0.9620 - val_loss: 0.1482 - val_accuracy: 0.9565 - 3s/epoch - 3ms/step\n",
            "Epoch 15/100\n",
            "1035/1035 - 2s - loss: 0.1073 - accuracy: 0.9620 - val_loss: 0.1360 - val_accuracy: 0.9536 - 2s/epoch - 2ms/step\n",
            "Epoch 16/100\n",
            "1035/1035 - 2s - loss: 0.1035 - accuracy: 0.9626 - val_loss: 0.1244 - val_accuracy: 0.9536 - 2s/epoch - 2ms/step\n",
            "Epoch 17/100\n",
            "1035/1035 - 2s - loss: 0.0980 - accuracy: 0.9668 - val_loss: 0.1251 - val_accuracy: 0.9594 - 2s/epoch - 2ms/step\n",
            "Epoch 18/100\n",
            "1035/1035 - 2s - loss: 0.1126 - accuracy: 0.9681 - val_loss: 0.1580 - val_accuracy: 0.9565 - 2s/epoch - 2ms/step\n",
            "Epoch 19/100\n",
            "1035/1035 - 2s - loss: 0.0962 - accuracy: 0.9659 - val_loss: 0.1373 - val_accuracy: 0.9536 - 2s/epoch - 2ms/step\n",
            "Epoch 20/100\n",
            "1035/1035 - 2s - loss: 0.0922 - accuracy: 0.9691 - val_loss: 0.1268 - val_accuracy: 0.9594 - 2s/epoch - 2ms/step\n",
            "Epoch 21/100\n",
            "1035/1035 - 3s - loss: 0.0883 - accuracy: 0.9710 - val_loss: 0.1636 - val_accuracy: 0.9536 - 3s/epoch - 3ms/step\n",
            "Epoch 22/100\n",
            "1035/1035 - 3s - loss: 0.0891 - accuracy: 0.9704 - val_loss: 0.1407 - val_accuracy: 0.9536 - 3s/epoch - 3ms/step\n",
            "Epoch 23/100\n",
            "1035/1035 - 2s - loss: 0.0848 - accuracy: 0.9700 - val_loss: 0.1260 - val_accuracy: 0.9565 - 2s/epoch - 2ms/step\n",
            "Epoch 24/100\n",
            "1035/1035 - 2s - loss: 0.0882 - accuracy: 0.9684 - val_loss: 0.1846 - val_accuracy: 0.9594 - 2s/epoch - 2ms/step\n",
            "Epoch 25/100\n",
            "1035/1035 - 2s - loss: 0.0886 - accuracy: 0.9688 - val_loss: 0.1957 - val_accuracy: 0.9565 - 2s/epoch - 2ms/step\n",
            "Epoch 26/100\n",
            "1035/1035 - 2s - loss: 0.0804 - accuracy: 0.9717 - val_loss: 0.1301 - val_accuracy: 0.9623 - 2s/epoch - 2ms/step\n",
            "Epoch 27/100\n",
            "1035/1035 - 2s - loss: 0.0792 - accuracy: 0.9729 - val_loss: 0.1689 - val_accuracy: 0.9594 - 2s/epoch - 2ms/step\n",
            "Epoch 28/100\n",
            "1035/1035 - 3s - loss: 0.0770 - accuracy: 0.9717 - val_loss: 0.1417 - val_accuracy: 0.9536 - 3s/epoch - 3ms/step\n",
            "Epoch 29/100\n",
            "1035/1035 - 3s - loss: 0.0746 - accuracy: 0.9749 - val_loss: 0.1435 - val_accuracy: 0.9623 - 3s/epoch - 2ms/step\n",
            "Epoch 30/100\n",
            "1035/1035 - 2s - loss: 0.0710 - accuracy: 0.9749 - val_loss: 0.1452 - val_accuracy: 0.9594 - 2s/epoch - 2ms/step\n",
            "Epoch 31/100\n",
            "1035/1035 - 2s - loss: 0.0760 - accuracy: 0.9765 - val_loss: 0.1335 - val_accuracy: 0.9623 - 2s/epoch - 2ms/step\n",
            "Epoch 32/100\n",
            "1035/1035 - 2s - loss: 0.0754 - accuracy: 0.9765 - val_loss: 0.1595 - val_accuracy: 0.9594 - 2s/epoch - 2ms/step\n",
            "Epoch 33/100\n",
            "1035/1035 - 2s - loss: 0.0682 - accuracy: 0.9781 - val_loss: 0.1561 - val_accuracy: 0.9623 - 2s/epoch - 2ms/step\n",
            "Epoch 34/100\n",
            "1035/1035 - 2s - loss: 0.0700 - accuracy: 0.9762 - val_loss: 0.1524 - val_accuracy: 0.9536 - 2s/epoch - 2ms/step\n",
            "Epoch 35/100\n",
            "1035/1035 - 2s - loss: 0.0656 - accuracy: 0.9787 - val_loss: 0.1747 - val_accuracy: 0.9594 - 2s/epoch - 2ms/step\n",
            "Epoch 36/100\n",
            "1035/1035 - 3s - loss: 0.0644 - accuracy: 0.9781 - val_loss: 0.1679 - val_accuracy: 0.9536 - 3s/epoch - 3ms/step\n",
            "Epoch 37/100\n",
            "1035/1035 - 3s - loss: 0.0692 - accuracy: 0.9787 - val_loss: 0.1637 - val_accuracy: 0.9536 - 3s/epoch - 3ms/step\n",
            "Epoch 38/100\n",
            "1035/1035 - 2s - loss: 0.0651 - accuracy: 0.9787 - val_loss: 0.1415 - val_accuracy: 0.9565 - 2s/epoch - 2ms/step\n",
            "Epoch 39/100\n",
            "1035/1035 - 2s - loss: 0.0593 - accuracy: 0.9800 - val_loss: 0.1433 - val_accuracy: 0.9536 - 2s/epoch - 2ms/step\n",
            "Epoch 40/100\n",
            "1035/1035 - 2s - loss: 0.0599 - accuracy: 0.9807 - val_loss: 0.1427 - val_accuracy: 0.9623 - 2s/epoch - 2ms/step\n",
            "Epoch 41/100\n",
            "1035/1035 - 2s - loss: 0.0579 - accuracy: 0.9804 - val_loss: 0.1801 - val_accuracy: 0.9478 - 2s/epoch - 2ms/step\n",
            "Epoch 42/100\n",
            "1035/1035 - 2s - loss: 0.0608 - accuracy: 0.9810 - val_loss: 0.1493 - val_accuracy: 0.9594 - 2s/epoch - 2ms/step\n",
            "Epoch 43/100\n",
            "1035/1035 - 3s - loss: 0.0596 - accuracy: 0.9804 - val_loss: 0.1562 - val_accuracy: 0.9536 - 3s/epoch - 2ms/step\n",
            "Epoch 44/100\n",
            "1035/1035 - 3s - loss: 0.0679 - accuracy: 0.9823 - val_loss: 0.1909 - val_accuracy: 0.9536 - 3s/epoch - 3ms/step\n",
            "Epoch 45/100\n",
            "1035/1035 - 2s - loss: 0.0539 - accuracy: 0.9820 - val_loss: 0.2094 - val_accuracy: 0.9565 - 2s/epoch - 2ms/step\n",
            "Epoch 46/100\n",
            "1035/1035 - 2s - loss: 0.0514 - accuracy: 0.9836 - val_loss: 0.1583 - val_accuracy: 0.9565 - 2s/epoch - 2ms/step\n",
            "Epoch 47/100\n",
            "1035/1035 - 2s - loss: 0.0520 - accuracy: 0.9823 - val_loss: 0.1650 - val_accuracy: 0.9536 - 2s/epoch - 2ms/step\n",
            "Epoch 48/100\n",
            "1035/1035 - 2s - loss: 0.0517 - accuracy: 0.9842 - val_loss: 0.1811 - val_accuracy: 0.9536 - 2s/epoch - 2ms/step\n",
            "Epoch 49/100\n",
            "1035/1035 - 2s - loss: 0.0487 - accuracy: 0.9849 - val_loss: 0.1851 - val_accuracy: 0.9507 - 2s/epoch - 2ms/step\n",
            "Epoch 50/100\n",
            "1035/1035 - 2s - loss: 0.0479 - accuracy: 0.9842 - val_loss: 0.1749 - val_accuracy: 0.9594 - 2s/epoch - 2ms/step\n",
            "Epoch 51/100\n",
            "1035/1035 - 3s - loss: 0.0571 - accuracy: 0.9852 - val_loss: 0.2601 - val_accuracy: 0.9565 - 3s/epoch - 3ms/step\n",
            "Epoch 52/100\n",
            "1035/1035 - 3s - loss: 0.0490 - accuracy: 0.9849 - val_loss: 0.2143 - val_accuracy: 0.9594 - 3s/epoch - 3ms/step\n",
            "Epoch 53/100\n",
            "1035/1035 - 2s - loss: 0.0480 - accuracy: 0.9849 - val_loss: 0.1834 - val_accuracy: 0.9565 - 2s/epoch - 2ms/step\n",
            "Epoch 54/100\n",
            "1035/1035 - 2s - loss: 0.0475 - accuracy: 0.9845 - val_loss: 0.2489 - val_accuracy: 0.9565 - 2s/epoch - 2ms/step\n",
            "Epoch 55/100\n",
            "1035/1035 - 2s - loss: 0.0449 - accuracy: 0.9881 - val_loss: 0.2193 - val_accuracy: 0.9536 - 2s/epoch - 2ms/step\n",
            "Epoch 56/100\n",
            "1035/1035 - 2s - loss: 0.0471 - accuracy: 0.9862 - val_loss: 0.2262 - val_accuracy: 0.9507 - 2s/epoch - 2ms/step\n",
            "Epoch 57/100\n",
            "1035/1035 - 2s - loss: 0.0436 - accuracy: 0.9849 - val_loss: 0.2114 - val_accuracy: 0.9565 - 2s/epoch - 2ms/step\n",
            "Epoch 58/100\n",
            "1035/1035 - 2s - loss: 0.0434 - accuracy: 0.9852 - val_loss: 0.2424 - val_accuracy: 0.9565 - 2s/epoch - 2ms/step\n",
            "Epoch 59/100\n",
            "1035/1035 - 3s - loss: 0.0410 - accuracy: 0.9868 - val_loss: 0.2331 - val_accuracy: 0.9507 - 3s/epoch - 2ms/step\n",
            "Epoch 60/100\n",
            "1035/1035 - 3s - loss: 0.0449 - accuracy: 0.9849 - val_loss: 0.2237 - val_accuracy: 0.9565 - 3s/epoch - 3ms/step\n",
            "Epoch 61/100\n",
            "1035/1035 - 2s - loss: 0.0473 - accuracy: 0.9855 - val_loss: 0.2276 - val_accuracy: 0.9507 - 2s/epoch - 2ms/step\n",
            "Epoch 62/100\n",
            "1035/1035 - 2s - loss: 0.0412 - accuracy: 0.9852 - val_loss: 0.2414 - val_accuracy: 0.9536 - 2s/epoch - 2ms/step\n",
            "Epoch 63/100\n",
            "1035/1035 - 2s - loss: 0.0393 - accuracy: 0.9871 - val_loss: 0.2343 - val_accuracy: 0.9623 - 2s/epoch - 2ms/step\n",
            "Epoch 64/100\n",
            "1035/1035 - 2s - loss: 0.0378 - accuracy: 0.9884 - val_loss: 0.2855 - val_accuracy: 0.9536 - 2s/epoch - 2ms/step\n",
            "Epoch 65/100\n",
            "1035/1035 - 2s - loss: 0.0418 - accuracy: 0.9871 - val_loss: 0.2209 - val_accuracy: 0.9565 - 2s/epoch - 2ms/step\n",
            "Epoch 66/100\n",
            "1035/1035 - 3s - loss: 0.0380 - accuracy: 0.9868 - val_loss: 0.2554 - val_accuracy: 0.9507 - 3s/epoch - 3ms/step\n",
            "Epoch 67/100\n",
            "1035/1035 - 3s - loss: 0.0381 - accuracy: 0.9881 - val_loss: 0.2053 - val_accuracy: 0.9536 - 3s/epoch - 3ms/step\n",
            "Epoch 68/100\n",
            "1035/1035 - 2s - loss: 0.0360 - accuracy: 0.9887 - val_loss: 0.2423 - val_accuracy: 0.9536 - 2s/epoch - 2ms/step\n",
            "Epoch 69/100\n",
            "1035/1035 - 2s - loss: 0.0350 - accuracy: 0.9910 - val_loss: 0.2971 - val_accuracy: 0.9507 - 2s/epoch - 2ms/step\n",
            "Epoch 70/100\n",
            "1035/1035 - 2s - loss: 0.0379 - accuracy: 0.9887 - val_loss: 0.2280 - val_accuracy: 0.9536 - 2s/epoch - 2ms/step\n",
            "Epoch 71/100\n",
            "1035/1035 - 2s - loss: 0.0369 - accuracy: 0.9910 - val_loss: 0.2595 - val_accuracy: 0.9478 - 2s/epoch - 2ms/step\n",
            "Epoch 72/100\n",
            "1035/1035 - 2s - loss: 0.0377 - accuracy: 0.9887 - val_loss: 0.2583 - val_accuracy: 0.9391 - 2s/epoch - 2ms/step\n",
            "Epoch 73/100\n",
            "1035/1035 - 2s - loss: 0.0416 - accuracy: 0.9884 - val_loss: 0.3418 - val_accuracy: 0.9275 - 2s/epoch - 2ms/step\n",
            "Epoch 74/100\n",
            "1035/1035 - 3s - loss: 0.0340 - accuracy: 0.9900 - val_loss: 0.2746 - val_accuracy: 0.9565 - 3s/epoch - 3ms/step\n",
            "Epoch 75/100\n",
            "1035/1035 - 3s - loss: 0.0341 - accuracy: 0.9881 - val_loss: 0.3285 - val_accuracy: 0.9478 - 3s/epoch - 3ms/step\n",
            "Epoch 76/100\n",
            "1035/1035 - 2s - loss: 0.0345 - accuracy: 0.9887 - val_loss: 0.2419 - val_accuracy: 0.9565 - 2s/epoch - 2ms/step\n",
            "Epoch 77/100\n",
            "1035/1035 - 2s - loss: 0.0323 - accuracy: 0.9907 - val_loss: 0.2649 - val_accuracy: 0.9536 - 2s/epoch - 2ms/step\n",
            "Epoch 78/100\n",
            "1035/1035 - 2s - loss: 0.0343 - accuracy: 0.9916 - val_loss: 0.2573 - val_accuracy: 0.9507 - 2s/epoch - 2ms/step\n",
            "Epoch 79/100\n",
            "1035/1035 - 2s - loss: 0.0312 - accuracy: 0.9907 - val_loss: 0.2636 - val_accuracy: 0.9507 - 2s/epoch - 2ms/step\n",
            "Epoch 80/100\n",
            "1035/1035 - 2s - loss: 0.0351 - accuracy: 0.9890 - val_loss: 0.2523 - val_accuracy: 0.9536 - 2s/epoch - 2ms/step\n",
            "Epoch 81/100\n",
            "1035/1035 - 2s - loss: 0.0296 - accuracy: 0.9907 - val_loss: 0.3072 - val_accuracy: 0.9536 - 2s/epoch - 2ms/step\n",
            "Epoch 82/100\n",
            "1035/1035 - 3s - loss: 0.0325 - accuracy: 0.9894 - val_loss: 0.2882 - val_accuracy: 0.9536 - 3s/epoch - 3ms/step\n",
            "Epoch 83/100\n",
            "1035/1035 - 3s - loss: 0.0324 - accuracy: 0.9910 - val_loss: 0.2527 - val_accuracy: 0.9594 - 3s/epoch - 3ms/step\n",
            "Epoch 84/100\n",
            "1035/1035 - 2s - loss: 0.0324 - accuracy: 0.9900 - val_loss: 0.3632 - val_accuracy: 0.9507 - 2s/epoch - 2ms/step\n",
            "Epoch 85/100\n",
            "1035/1035 - 2s - loss: 0.0304 - accuracy: 0.9913 - val_loss: 0.3456 - val_accuracy: 0.9507 - 2s/epoch - 2ms/step\n",
            "Epoch 86/100\n",
            "1035/1035 - 2s - loss: 0.0283 - accuracy: 0.9916 - val_loss: 0.3706 - val_accuracy: 0.9478 - 2s/epoch - 2ms/step\n",
            "Epoch 87/100\n",
            "1035/1035 - 2s - loss: 0.0306 - accuracy: 0.9913 - val_loss: 0.3087 - val_accuracy: 0.9507 - 2s/epoch - 2ms/step\n",
            "Epoch 88/100\n",
            "1035/1035 - 2s - loss: 0.0280 - accuracy: 0.9913 - val_loss: 0.3436 - val_accuracy: 0.9565 - 2s/epoch - 2ms/step\n",
            "Epoch 89/100\n",
            "1035/1035 - 3s - loss: 0.0298 - accuracy: 0.9919 - val_loss: 0.2897 - val_accuracy: 0.9594 - 3s/epoch - 3ms/step\n",
            "Epoch 90/100\n",
            "1035/1035 - 3s - loss: 0.0293 - accuracy: 0.9910 - val_loss: 0.2837 - val_accuracy: 0.9507 - 3s/epoch - 3ms/step\n",
            "Epoch 91/100\n",
            "1035/1035 - 2s - loss: 0.0282 - accuracy: 0.9919 - val_loss: 0.2772 - val_accuracy: 0.9507 - 2s/epoch - 2ms/step\n",
            "Epoch 92/100\n",
            "1035/1035 - 2s - loss: 0.0261 - accuracy: 0.9910 - val_loss: 0.3010 - val_accuracy: 0.9565 - 2s/epoch - 2ms/step\n",
            "Epoch 93/100\n",
            "1035/1035 - 2s - loss: 0.0252 - accuracy: 0.9913 - val_loss: 0.2703 - val_accuracy: 0.9478 - 2s/epoch - 2ms/step\n",
            "Epoch 94/100\n",
            "1035/1035 - 2s - loss: 0.0325 - accuracy: 0.9916 - val_loss: 0.3278 - val_accuracy: 0.9536 - 2s/epoch - 2ms/step\n",
            "Epoch 95/100\n",
            "1035/1035 - 3s - loss: 0.0274 - accuracy: 0.9910 - val_loss: 0.2956 - val_accuracy: 0.9623 - 3s/epoch - 3ms/step\n",
            "Epoch 96/100\n",
            "1035/1035 - 4s - loss: 0.0291 - accuracy: 0.9910 - val_loss: 0.2858 - val_accuracy: 0.9594 - 4s/epoch - 4ms/step\n",
            "Epoch 97/100\n",
            "1035/1035 - 2s - loss: 0.0259 - accuracy: 0.9913 - val_loss: 0.3264 - val_accuracy: 0.9536 - 2s/epoch - 2ms/step\n",
            "Epoch 98/100\n",
            "1035/1035 - 2s - loss: 0.0245 - accuracy: 0.9929 - val_loss: 0.4085 - val_accuracy: 0.9507 - 2s/epoch - 2ms/step\n",
            "Epoch 99/100\n",
            "1035/1035 - 2s - loss: 0.0275 - accuracy: 0.9890 - val_loss: 0.3033 - val_accuracy: 0.9507 - 2s/epoch - 2ms/step\n",
            "Epoch 100/100\n",
            "1035/1035 - 2s - loss: 0.0329 - accuracy: 0.9913 - val_loss: 0.3101 - val_accuracy: 0.9565 - 2s/epoch - 2ms/step\n"
          ]
        },
        {
          "output_type": "execute_result",
          "data": {
            "text/plain": [
              "<keras.src.callbacks.History at 0x7e35251fa1d0>"
            ]
          },
          "metadata": {},
          "execution_count": 127
        }
      ]
    },
    {
      "cell_type": "code",
      "source": [
        "from sklearn.metrics import confusion_matrix, accuracy_score\n",
        "\n",
        "y_pred = model.predict(X_test)\n",
        "y_pred = (y_pred >= 0.5).astype(int)\n",
        "\n",
        "cm = confusion_matrix(y_test, y_pred)\n",
        "print(cm)\n",
        "accuracy_score(y_test, y_pred)"
      ],
      "metadata": {
        "colab": {
          "base_uri": "https://localhost:8080/"
        },
        "id": "OL25EXpm4mxD",
        "outputId": "73af8881-ffe2-4773-c840-c2f5638f12dd"
      },
      "execution_count": 128,
      "outputs": [
        {
          "output_type": "stream",
          "name": "stdout",
          "text": [
            "36/36 [==============================] - 0s 1ms/step\n",
            "[[658  33]\n",
            " [ 39 421]]\n"
          ]
        },
        {
          "output_type": "execute_result",
          "data": {
            "text/plain": [
              "0.9374456993918332"
            ]
          },
          "metadata": {},
          "execution_count": 128
        }
      ]
    }
  ],
  "metadata": {
    "colab": {
      "collapsed_sections": [
        "VYwCZABjbwnr"
      ],
      "provenance": []
    },
    "kernelspec": {
      "display_name": "Python 3",
      "name": "python3"
    },
    "language_info": {
      "name": "python"
    }
  },
  "nbformat": 4,
  "nbformat_minor": 0
}